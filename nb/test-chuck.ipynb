{
 "cells": [
  {
   "cell_type": "code",
   "execution_count": 1,
   "metadata": {},
   "outputs": [],
   "source": [
    "import sys\n",
    "\n",
    "sys.path.append('../chunk_caption_index_component/')\n",
    "# enhanced_doc_analyzer_component/enhanced_document_analyzer"
   ]
  },
  {
   "cell_type": "code",
   "execution_count": 2,
   "metadata": {},
   "outputs": [
    {
     "name": "stderr",
     "output_type": "stream",
     "text": [
      "Found the config file in: /config.json\n"
     ]
    }
   ],
   "source": [
    "# Example of registering the component in a workspace\n",
    "from azure.ai.ml import MLClient\n",
    "from azure.identity import DefaultAzureCredential\n",
    "\n",
    "# Get workspace\n",
    "ml_client = MLClient.from_config(\n",
    "    credential=DefaultAzureCredential()\n",
    ")"
   ]
  },
  {
   "cell_type": "code",
   "execution_count": 3,
   "metadata": {},
   "outputs": [],
   "source": [
    "import argparse\n",
    "import logging\n",
    "import traceback\n",
    "from openai import AzureOpenAI\n",
    "from azureml.rag.utils.connections import get_connection_by_id_v2\n",
    "from azureml.rag.utils.logging import get_logger, safe_mlflow_start_run, track_activity\n",
    "\n",
    "from document_processor import DocumentProcessor"
   ]
  },
  {
   "cell_type": "code",
   "execution_count": 7,
   "metadata": {},
   "outputs": [],
   "source": [
    "import dotenv\n",
    "import os\n",
    "import pandas as pd\n",
    "\n",
    "# Load the environment variables\n",
    "dotenv.load_dotenv()\n",
    "\n",
    "azure_openai_endpoint = os.getenv(\"AZURE_OPENAI_ENDPOINT\")\n",
    "azure_openai_key = os.getenv(\"AZURE_OPENAI_KEY\")\n",
    "\n",
    "# Initialize the OpenAI client\n",
    "openai_vision_client = AzureOpenAI(\n",
    "    azure_endpoint=azure_openai_endpoint, \n",
    "    api_key=azure_openai_key, \n",
    "    api_version='2023-03-15-preview'\n",
    "    )\n",
    "openai_embedding_client = AzureOpenAI(\n",
    "    azure_endpoint=azure_openai_endpoint, \n",
    "    api_key=azure_openai_key, \n",
    "    api_version='2024-02-01'\n",
    "    )\n",
    "\n",
    "azure_search_endpoint = os.getenv(\"AZURE_SEARCH_ENDPOINT\")\n",
    "azure_search_key = os.getenv(\"AZURE_SEARCH_KEY\")\n"
   ]
  },
  {
   "cell_type": "code",
   "execution_count": 5,
   "metadata": {},
   "outputs": [],
   "source": [
    "# Initialize document processor\n",
    "processor = DocumentProcessor(\n",
    "    input_folder=\"./output-azure/0.55/1-s2.0-S0927796X2030053X-am.pdf\"\n",
    "    output_folder=\"./output-azure-processed/0.55/1-s2.0-S0927796X2030053X-am.pdf\"\n",
    "    openai_client=openai_vision_client,\n",
    "    vision_deployment_name=\"gpt-4v\",\n",
    "    embedding_client=embedding_client,\n",
    "    embd_deployment_name=\"text-embedding-ada-002\"\n",
    "    search_endpoint=azure_search_endpoint,\n",
    "    search_key=azure_search_key,\n",
    "    search_api_version=\"2023-11-01\",\n",
    "    index_name=\"test-index\",\n",
    "    max_chunk_length=512\n",
    ")"
   ]
  },
  {
   "cell_type": "code",
   "execution_count": null,
   "metadata": {},
   "outputs": [],
   "source": []
  }
 ],
 "metadata": {
  "kernelspec": {
   "display_name": "nougat",
   "language": "python",
   "name": "python3"
  },
  "language_info": {
   "codemirror_mode": {
    "name": "ipython",
    "version": 3
   },
   "file_extension": ".py",
   "mimetype": "text/x-python",
   "name": "python",
   "nbconvert_exporter": "python",
   "pygments_lexer": "ipython3",
   "version": "3.9.21"
  }
 },
 "nbformat": 4,
 "nbformat_minor": 2
}
