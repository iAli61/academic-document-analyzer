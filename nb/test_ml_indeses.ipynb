{
 "cells": [
  {
   "cell_type": "code",
   "execution_count": 1,
   "metadata": {},
   "outputs": [
    {
     "name": "stdout",
     "output_type": "stream",
     "text": [
      "\u001b[36mCommand group 'config' is experimental and under development. Reference and support levels: https://aka.ms/CLI_refstatus\u001b[0m\n",
      "\u001b[93mTo sign in, use a web browser to open the page https://microsoft.com/devicelogin and enter the code EMSLRCGBL to authenticate.\u001b[0m\n",
      "[\n",
      "  {\n",
      "    \"cloudName\": \"AzureCloud\",\n",
      "    \"homeTenantId\": \"16b3c013-d300-468d-ac64-7eda0820b6d3\",\n",
      "    \"id\": \"f804f2da-c27b-45ac-bf80-16d4d331776d\",\n",
      "    \"isDefault\": true,\n",
      "    \"managedByTenants\": [\n",
      "      {\n",
      "        \"tenantId\": \"72f988bf-86f1-41af-91ab-2d7cd011db47\"\n",
      "      },\n",
      "      {\n",
      "        \"tenantId\": \"2f4a9838-26b7-47ee-be60-ccc1fdec5953\"\n",
      "      },\n",
      "      {\n",
      "        \"tenantId\": \"d0ecd01b-d782-448e-bae0-c3cad0e0543a\"\n",
      "      },\n",
      "      {\n",
      "        \"tenantId\": \"94c4857e-1130-4ab8-8eac-069b40c9db20\"\n",
      "      },\n",
      "      {\n",
      "        \"tenantId\": \"f702a9dc-ae48-4dc7-8f0a-8155a6dfa4e5\"\n",
      "      }\n",
      "    ],\n",
      "    \"name\": \"MCAPS-Hybrid-REQ-50440-2023-alibina\",\n",
      "    \"state\": \"Enabled\",\n",
      "    \"tenantId\": \"16b3c013-d300-468d-ac64-7eda0820b6d3\",\n",
      "    \"user\": {\n",
      "      \"name\": \"alibina@microsoft.com\",\n",
      "      \"type\": \"user\"\n",
      "    }\n",
      "  },\n",
      "  {\n",
      "    \"cloudName\": \"AzureCloud\",\n",
      "    \"homeTenantId\": \"16b3c013-d300-468d-ac64-7eda0820b6d3\",\n",
      "    \"id\": \"425afb39-f0d0-4ac0-a250-3204aa3d2fb7\",\n",
      "    \"isDefault\": false,\n",
      "    \"managedByTenants\": [\n",
      "      {\n",
      "        \"tenantId\": \"72f988bf-86f1-41af-91ab-2d7cd011db47\"\n",
      "      }\n",
      "    ],\n",
      "    \"name\": \"MCAPS-Hybrid-REQ-99395-2024-alibina\",\n",
      "    \"state\": \"Enabled\",\n",
      "    \"tenantId\": \"16b3c013-d300-468d-ac64-7eda0820b6d3\",\n",
      "    \"user\": {\n",
      "      \"name\": \"alibina@microsoft.com\",\n",
      "      \"type\": \"user\"\n",
      "    }\n",
      "  }\n",
      "]\n"
     ]
    }
   ],
   "source": [
    "! az config set core.login_experience_v2=off\n",
    "! az login --tenant \"16b3c013-d300-468d-ac64-7eda0820b6d3\" --use-device-code\n"
   ]
  },
  {
   "cell_type": "code",
   "execution_count": 2,
   "metadata": {},
   "outputs": [],
   "source": [
    "! az account set --subscription \"f804f2da-c27b-45ac-bf80-16d4d331776d\""
   ]
  },
  {
   "cell_type": "code",
   "execution_count": 3,
   "metadata": {},
   "outputs": [
    {
     "name": "stderr",
     "output_type": "stream",
     "text": [
      "Found the config file in: /config.json\n"
     ]
    }
   ],
   "source": [
    "# Example of registering the component in a workspace\n",
    "from azure.ai.ml import MLClient\n",
    "from azure.identity import DefaultAzureCredential\n",
    "\n",
    "# Get workspace\n",
    "ml_client = MLClient.from_config(\n",
    "    credential=DefaultAzureCredential()\n",
    ")"
   ]
  },
  {
   "cell_type": "code",
   "execution_count": 4,
   "metadata": {},
   "outputs": [],
   "source": [
    "fiass_asset_name = \"aoai_faiss_mlindex\"\n",
    "\n",
    "acs_asset_name = \"careful-tomato-h4js7rj7nb\"\n"
   ]
  },
  {
   "cell_type": "code",
   "execution_count": 5,
   "metadata": {},
   "outputs": [
    {
     "name": "stdout",
     "output_type": "stream",
     "text": [
      "ds: raw_papers, version: None, 1\n",
      "ds: lemon-balloon-559fsj2485, version: None, 1\n",
      "ds: careful-tomato-h4js7rj7nb, version: None, 1\n",
      "ds: test_aoai_faiss_mlindex, version: None, 1\n",
      "ds: aoai_faiss_mlindex, version: None, 1\n"
     ]
    }
   ],
   "source": [
    "\n",
    "\n",
    "# Then try listing available data assets\n",
    "data_assets = ml_client.data.list()\n",
    "for asset in data_assets:\n",
    "    print(f\"ds: {asset.name}, version: {asset.version}, {asset.latest_version}\")\n",
    "    "
   ]
  },
  {
   "cell_type": "code",
   "execution_count": 6,
   "metadata": {},
   "outputs": [
    {
     "name": "stderr",
     "output_type": "stream",
     "text": [
      "Overriding of current TracerProvider is not allowed\n",
      "Overriding of current LoggerProvider is not allowed\n",
      "Overriding of current MeterProvider is not allowed\n",
      "Attempting to instrument while already instrumented\n",
      "Attempting to instrument while already instrumented\n",
      "Attempting to instrument while already instrumented\n",
      "Attempting to instrument while already instrumented\n",
      "Attempting to instrument while already instrumented\n",
      "Overriding of current TracerProvider is not allowed\n",
      "Overriding of current LoggerProvider is not allowed\n",
      "Overriding of current MeterProvider is not allowed\n",
      "Attempting to instrument while already instrumented\n",
      "Attempting to instrument while already instrumented\n",
      "Attempting to instrument while already instrumented\n",
      "Attempting to instrument while already instrumented\n",
      "Attempting to instrument while already instrumented\n"
     ]
    },
    {
     "name": "stdout",
     "output_type": "stream",
     "text": [
      "Resolving access token for scope \"https://storage.azure.com/.default\" using identity of type \"MANAGED\".\n",
      "Getting data access token with Assigned Identity (client_id=clientid) and endpoint type based on configuration\n",
      "Resolving access token for scope \"https://storage.azure.com/.default\" using identity of type \"MANAGED\".\n",
      "Getting data access token with Assigned Identity (client_id=clientid) and endpoint type based on configuration\n"
     ]
    },
    {
     "ename": "ValueError",
     "evalue": "Could not find MLIndex: StreamError(PermissionDenied(Some(This request is not authorized to perform this operation.)))",
     "output_type": "error",
     "traceback": [
      "\u001b[0;31m---------------------------------------------------------------------------\u001b[0m",
      "\u001b[0;31mException\u001b[0m                                 Traceback (most recent call last)",
      "File \u001b[0;32m/anaconda/envs/nougat/lib/python3.9/site-packages/azureml/rag/mlindex.py:107\u001b[0m, in \u001b[0;36mMLIndex.__init__\u001b[0;34m(self, uri, mlindex_config)\u001b[0m\n\u001b[1;32m    105\u001b[0m     \u001b[38;5;28mself\u001b[39m\u001b[38;5;241m.\u001b[39mbase_uri \u001b[38;5;241m=\u001b[39m mlindex_file\u001b[38;5;241m.\u001b[39mpath\u001b[38;5;241m.\u001b[39msplit(\u001b[38;5;124m\"\u001b[39m\u001b[38;5;124m/MLIndex\u001b[39m\u001b[38;5;124m\"\u001b[39m)[\u001b[38;5;241m0\u001b[39m]\n\u001b[0;32m--> 107\u001b[0m \u001b[38;5;28;01mwith\u001b[39;00m mlindex_file \u001b[38;5;28;01mas\u001b[39;00m f:\n\u001b[1;32m    108\u001b[0m     mlindex_config \u001b[38;5;241m=\u001b[39m yaml\u001b[38;5;241m.\u001b[39msafe_load(f)\n",
      "File \u001b[0;32m/anaconda/envs/nougat/lib/python3.9/site-packages/fsspec/core.py:100\u001b[0m, in \u001b[0;36mOpenFile.__enter__\u001b[0;34m(self)\u001b[0m\n\u001b[1;32m     98\u001b[0m mode \u001b[38;5;241m=\u001b[39m \u001b[38;5;28mself\u001b[39m\u001b[38;5;241m.\u001b[39mmode\u001b[38;5;241m.\u001b[39mreplace(\u001b[38;5;124m\"\u001b[39m\u001b[38;5;124mt\u001b[39m\u001b[38;5;124m\"\u001b[39m, \u001b[38;5;124m\"\u001b[39m\u001b[38;5;124m\"\u001b[39m)\u001b[38;5;241m.\u001b[39mreplace(\u001b[38;5;124m\"\u001b[39m\u001b[38;5;124mb\u001b[39m\u001b[38;5;124m\"\u001b[39m, \u001b[38;5;124m\"\u001b[39m\u001b[38;5;124m\"\u001b[39m) \u001b[38;5;241m+\u001b[39m \u001b[38;5;124m\"\u001b[39m\u001b[38;5;124mb\u001b[39m\u001b[38;5;124m\"\u001b[39m\n\u001b[0;32m--> 100\u001b[0m f \u001b[38;5;241m=\u001b[39m \u001b[38;5;28;43mself\u001b[39;49m\u001b[38;5;241;43m.\u001b[39;49m\u001b[43mfs\u001b[49m\u001b[38;5;241;43m.\u001b[39;49m\u001b[43mopen\u001b[49m\u001b[43m(\u001b[49m\u001b[38;5;28;43mself\u001b[39;49m\u001b[38;5;241;43m.\u001b[39;49m\u001b[43mpath\u001b[49m\u001b[43m,\u001b[49m\u001b[43m \u001b[49m\u001b[43mmode\u001b[49m\u001b[38;5;241;43m=\u001b[39;49m\u001b[43mmode\u001b[49m\u001b[43m)\u001b[49m\n\u001b[1;32m    102\u001b[0m \u001b[38;5;28mself\u001b[39m\u001b[38;5;241m.\u001b[39mfobjects \u001b[38;5;241m=\u001b[39m [f]\n",
      "File \u001b[0;32m/anaconda/envs/nougat/lib/python3.9/site-packages/fsspec/asyn.py:118\u001b[0m, in \u001b[0;36msync_wrapper.<locals>.wrapper\u001b[0;34m(*args, **kwargs)\u001b[0m\n\u001b[1;32m    117\u001b[0m \u001b[38;5;28mself\u001b[39m \u001b[38;5;241m=\u001b[39m obj \u001b[38;5;129;01mor\u001b[39;00m args[\u001b[38;5;241m0\u001b[39m]\n\u001b[0;32m--> 118\u001b[0m \u001b[38;5;28;01mreturn\u001b[39;00m \u001b[43msync\u001b[49m\u001b[43m(\u001b[49m\u001b[38;5;28;43mself\u001b[39;49m\u001b[38;5;241;43m.\u001b[39;49m\u001b[43mloop\u001b[49m\u001b[43m,\u001b[49m\u001b[43m \u001b[49m\u001b[43mfunc\u001b[49m\u001b[43m,\u001b[49m\u001b[43m \u001b[49m\u001b[38;5;241;43m*\u001b[39;49m\u001b[43margs\u001b[49m\u001b[43m,\u001b[49m\u001b[43m \u001b[49m\u001b[38;5;241;43m*\u001b[39;49m\u001b[38;5;241;43m*\u001b[39;49m\u001b[43mkwargs\u001b[49m\u001b[43m)\u001b[49m\n",
      "File \u001b[0;32m/anaconda/envs/nougat/lib/python3.9/site-packages/fsspec/asyn.py:103\u001b[0m, in \u001b[0;36msync\u001b[0;34m(loop, func, timeout, *args, **kwargs)\u001b[0m\n\u001b[1;32m    102\u001b[0m \u001b[38;5;28;01melif\u001b[39;00m \u001b[38;5;28misinstance\u001b[39m(return_result, \u001b[38;5;167;01mBaseException\u001b[39;00m):\n\u001b[0;32m--> 103\u001b[0m     \u001b[38;5;28;01mraise\u001b[39;00m return_result\n\u001b[1;32m    104\u001b[0m \u001b[38;5;28;01melse\u001b[39;00m:\n",
      "File \u001b[0;32m/anaconda/envs/nougat/lib/python3.9/site-packages/fsspec/asyn.py:56\u001b[0m, in \u001b[0;36m_runner\u001b[0;34m(event, coro, result, timeout)\u001b[0m\n\u001b[1;32m     55\u001b[0m \u001b[38;5;28;01mtry\u001b[39;00m:\n\u001b[0;32m---> 56\u001b[0m     result[\u001b[38;5;241m0\u001b[39m] \u001b[38;5;241m=\u001b[39m \u001b[38;5;28;01mawait\u001b[39;00m coro\n\u001b[1;32m     57\u001b[0m \u001b[38;5;28;01mexcept\u001b[39;00m \u001b[38;5;167;01mException\u001b[39;00m \u001b[38;5;28;01mas\u001b[39;00m ex:\n",
      "File \u001b[0;32m/anaconda/envs/nougat/lib/python3.9/site-packages/azureml/fsspec/spec.py:499\u001b[0m, in \u001b[0;36mAzureMachineLearningFileSystem._open\u001b[0;34m(self, path, mode, **kwargs)\u001b[0m\n\u001b[1;32m    496\u001b[0m     activityLogger\u001b[38;5;241m.\u001b[39mactivity_info[\u001b[38;5;124m'\u001b[39m\u001b[38;5;124mouter_error_code\u001b[39m\u001b[38;5;124m'\u001b[39m] \u001b[38;5;241m=\u001b[39m \u001b[38;5;28mgetattr\u001b[39m(\n\u001b[1;32m    497\u001b[0m         e, OUTER_ERROR_CODE_KEY, \u001b[38;5;124m'\u001b[39m\u001b[38;5;124m'\u001b[39m)\n\u001b[0;32m--> 499\u001b[0m \u001b[43m_reclassify_rslex_error\u001b[49m\u001b[43m(\u001b[49m\u001b[43me\u001b[49m\u001b[43m)\u001b[49m\n",
      "File \u001b[0;32m/anaconda/envs/nougat/lib/python3.9/site-packages/azureml/dataprep/api/mltable/_validation_and_error_handler.py:90\u001b[0m, in \u001b[0;36m_reclassify_rslex_error\u001b[0;34m(err)\u001b[0m\n\u001b[1;32m     88\u001b[0m     \u001b[38;5;28;01mraise\u001b[39;00m UserErrorException(\n\u001b[1;32m     89\u001b[0m         \u001b[38;5;124mf\u001b[39m\u001b[38;5;124m'\u001b[39m\u001b[38;5;124mGetting permission error please make sure proper access is configured on storage: \u001b[39m\u001b[38;5;132;01m{\u001b[39;00merr_msg\u001b[38;5;132;01m}\u001b[39;00m\u001b[38;5;124m'\u001b[39m)\n\u001b[0;32m---> 90\u001b[0m \u001b[38;5;28;01mraise\u001b[39;00m err\n",
      "File \u001b[0;32m/anaconda/envs/nougat/lib/python3.9/site-packages/azureml/fsspec/spec.py:489\u001b[0m, in \u001b[0;36mAzureMachineLearningFileSystem._open\u001b[0;34m(self, path, mode, **kwargs)\u001b[0m\n\u001b[1;32m    487\u001b[0m     downloader \u001b[38;5;241m=\u001b[39m Downloader(block_size\u001b[38;5;241m=\u001b[39m\u001b[38;5;241m8\u001b[39m \u001b[38;5;241m*\u001b[39m \u001b[38;5;241m1024\u001b[39m \u001b[38;5;241m*\u001b[39m \u001b[38;5;241m1024\u001b[39m, read_threads\u001b[38;5;241m=\u001b[39mread_threads,\n\u001b[1;32m    488\u001b[0m                             caching_options\u001b[38;5;241m=\u001b[39mCachingOptions(memory_cache_size\u001b[38;5;241m=\u001b[39mmemory_cache_size))\n\u001b[0;32m--> 489\u001b[0m     \u001b[38;5;28;01mreturn\u001b[39;00m \u001b[43msi\u001b[49m\u001b[38;5;241;43m.\u001b[39;49m\u001b[43mopen\u001b[49m\u001b[43m(\u001b[49m\u001b[43mbuffering_options\u001b[49m\u001b[38;5;241;43m=\u001b[39;49m\u001b[43mBufferingOptions\u001b[49m\u001b[43m(\u001b[49m\u001b[38;5;241;43m64\u001b[39;49m\u001b[43m,\u001b[49m\u001b[43m \u001b[49m\u001b[43mdownloader\u001b[49m\u001b[43m)\u001b[49m\u001b[43m)\u001b[49m\n\u001b[1;32m    490\u001b[0m \u001b[38;5;28;01mexcept\u001b[39;00m \u001b[38;5;167;01mException\u001b[39;00m \u001b[38;5;28;01mas\u001b[39;00m e:\n",
      "\u001b[0;31mException\u001b[0m: StreamError(PermissionDenied(Some(This request is not authorized to perform this operation.)))",
      "\nThe above exception was the direct cause of the following exception:\n",
      "\u001b[0;31mValueError\u001b[0m                                Traceback (most recent call last)",
      "Cell \u001b[0;32mIn[6], line 7\u001b[0m\n\u001b[1;32m      1\u001b[0m \u001b[38;5;28;01mfrom\u001b[39;00m\u001b[38;5;250m \u001b[39m\u001b[38;5;21;01mazureml\u001b[39;00m\u001b[38;5;21;01m.\u001b[39;00m\u001b[38;5;21;01mrag\u001b[39;00m\u001b[38;5;21;01m.\u001b[39;00m\u001b[38;5;21;01mmlindex\u001b[39;00m\u001b[38;5;250m \u001b[39m\u001b[38;5;28;01mimport\u001b[39;00m MLIndex\n\u001b[1;32m      5\u001b[0m question \u001b[38;5;241m=\u001b[39m \u001b[38;5;124m\"\u001b[39m\u001b[38;5;124mhow many steps are in metalloporphyrins synthesis?\u001b[39m\u001b[38;5;124m\"\u001b[39m\n\u001b[0;32m----> 7\u001b[0m faias_retriever \u001b[38;5;241m=\u001b[39m \u001b[43mMLIndex\u001b[49m\u001b[43m(\u001b[49m\n\u001b[1;32m      8\u001b[0m \u001b[43m    \u001b[49m\u001b[43mml_client\u001b[49m\u001b[38;5;241;43m.\u001b[39;49m\u001b[43mdata\u001b[49m\u001b[38;5;241;43m.\u001b[39;49m\u001b[43mget\u001b[49m\u001b[43m(\u001b[49m\u001b[43mfiass_asset_name\u001b[49m\u001b[43m,\u001b[49m\u001b[43m \u001b[49m\u001b[43mlabel\u001b[49m\u001b[38;5;241;43m=\u001b[39;49m\u001b[38;5;124;43m\"\u001b[39;49m\u001b[38;5;124;43mlatest\u001b[39;49m\u001b[38;5;124;43m\"\u001b[39;49m\u001b[43m)\u001b[49m\n\u001b[1;32m      9\u001b[0m \u001b[43m)\u001b[49m\u001b[38;5;241m.\u001b[39mas_langchain_retriever()\n\u001b[1;32m     11\u001b[0m faias_retriever\u001b[38;5;241m.\u001b[39mget_relevant_documents(question)\n",
      "File \u001b[0;32m/anaconda/envs/nougat/lib/python3.9/site-packages/azureml/rag/mlindex.py:110\u001b[0m, in \u001b[0;36mMLIndex.__init__\u001b[0;34m(self, uri, mlindex_config)\u001b[0m\n\u001b[1;32m    108\u001b[0m             mlindex_config \u001b[38;5;241m=\u001b[39m yaml\u001b[38;5;241m.\u001b[39msafe_load(f)\n\u001b[1;32m    109\u001b[0m     \u001b[38;5;28;01mexcept\u001b[39;00m \u001b[38;5;167;01mException\u001b[39;00m \u001b[38;5;28;01mas\u001b[39;00m e:\n\u001b[0;32m--> 110\u001b[0m         \u001b[38;5;28;01mraise\u001b[39;00m \u001b[38;5;167;01mValueError\u001b[39;00m(\u001b[38;5;124mf\u001b[39m\u001b[38;5;124m\"\u001b[39m\u001b[38;5;124mCould not find MLIndex: \u001b[39m\u001b[38;5;132;01m{\u001b[39;00me\u001b[38;5;132;01m}\u001b[39;00m\u001b[38;5;124m\"\u001b[39m) \u001b[38;5;28;01mfrom\u001b[39;00m\u001b[38;5;250m \u001b[39m\u001b[38;5;21;01me\u001b[39;00m\n\u001b[1;32m    111\u001b[0m \u001b[38;5;28;01melif\u001b[39;00m mlindex_config \u001b[38;5;129;01mis\u001b[39;00m \u001b[38;5;28;01mNone\u001b[39;00m:\n\u001b[1;32m    112\u001b[0m     \u001b[38;5;28;01mraise\u001b[39;00m \u001b[38;5;167;01mValueError\u001b[39;00m(\u001b[38;5;124m\"\u001b[39m\u001b[38;5;124mMust provide either uri or mlindex_config\u001b[39m\u001b[38;5;124m\"\u001b[39m)\n",
      "\u001b[0;31mValueError\u001b[0m: Could not find MLIndex: StreamError(PermissionDenied(Some(This request is not authorized to perform this operation.)))"
     ]
    }
   ],
   "source": [
    "from azureml.rag.mlindex import MLIndex\n",
    "\n",
    "\n",
    "\n",
    "question = \"how many steps are in metalloporphyrins synthesis?\"\n",
    "\n",
    "faias_retriever = MLIndex(\n",
    "    ml_client.data.get(fiass_asset_name, label=\"latest\")\n",
    ").as_langchain_retriever()\n",
    "\n",
    "faias_retriever.get_relevant_documents(question)\n",
    "\n"
   ]
  },
  {
   "cell_type": "code",
   "execution_count": null,
   "metadata": {},
   "outputs": [
    {
     "name": "stdout",
     "output_type": "stream",
     "text": [
      "Resolving access token for scope \"https://storage.azure.com/.default\" using identity of type \"MANAGED\".\n",
      "Getting data access token with Assigned Identity (client_id=clientid) and endpoint type based on configuration\n"
     ]
    },
    {
     "ename": "ValueError",
     "evalue": "Could not find MLIndex: StreamError(PermissionDenied(Some(This request is not authorized to perform this operation.)))",
     "output_type": "error",
     "traceback": [
      "\u001b[0;31m---------------------------------------------------------------------------\u001b[0m",
      "\u001b[0;31mException\u001b[0m                                 Traceback (most recent call last)",
      "File \u001b[0;32m/anaconda/envs/nougat/lib/python3.9/site-packages/azureml/rag/mlindex.py:107\u001b[0m, in \u001b[0;36mMLIndex.__init__\u001b[0;34m(self, uri, mlindex_config)\u001b[0m\n\u001b[1;32m    105\u001b[0m     \u001b[38;5;28mself\u001b[39m\u001b[38;5;241m.\u001b[39mbase_uri \u001b[38;5;241m=\u001b[39m mlindex_file\u001b[38;5;241m.\u001b[39mpath\u001b[38;5;241m.\u001b[39msplit(\u001b[38;5;124m\"\u001b[39m\u001b[38;5;124m/MLIndex\u001b[39m\u001b[38;5;124m\"\u001b[39m)[\u001b[38;5;241m0\u001b[39m]\n\u001b[0;32m--> 107\u001b[0m \u001b[38;5;28;01mwith\u001b[39;00m mlindex_file \u001b[38;5;28;01mas\u001b[39;00m f:\n\u001b[1;32m    108\u001b[0m     mlindex_config \u001b[38;5;241m=\u001b[39m yaml\u001b[38;5;241m.\u001b[39msafe_load(f)\n",
      "File \u001b[0;32m/anaconda/envs/nougat/lib/python3.9/site-packages/fsspec/core.py:100\u001b[0m, in \u001b[0;36mOpenFile.__enter__\u001b[0;34m(self)\u001b[0m\n\u001b[1;32m     98\u001b[0m mode \u001b[38;5;241m=\u001b[39m \u001b[38;5;28mself\u001b[39m\u001b[38;5;241m.\u001b[39mmode\u001b[38;5;241m.\u001b[39mreplace(\u001b[38;5;124m\"\u001b[39m\u001b[38;5;124mt\u001b[39m\u001b[38;5;124m\"\u001b[39m, \u001b[38;5;124m\"\u001b[39m\u001b[38;5;124m\"\u001b[39m)\u001b[38;5;241m.\u001b[39mreplace(\u001b[38;5;124m\"\u001b[39m\u001b[38;5;124mb\u001b[39m\u001b[38;5;124m\"\u001b[39m, \u001b[38;5;124m\"\u001b[39m\u001b[38;5;124m\"\u001b[39m) \u001b[38;5;241m+\u001b[39m \u001b[38;5;124m\"\u001b[39m\u001b[38;5;124mb\u001b[39m\u001b[38;5;124m\"\u001b[39m\n\u001b[0;32m--> 100\u001b[0m f \u001b[38;5;241m=\u001b[39m \u001b[38;5;28;43mself\u001b[39;49m\u001b[38;5;241;43m.\u001b[39;49m\u001b[43mfs\u001b[49m\u001b[38;5;241;43m.\u001b[39;49m\u001b[43mopen\u001b[49m\u001b[43m(\u001b[49m\u001b[38;5;28;43mself\u001b[39;49m\u001b[38;5;241;43m.\u001b[39;49m\u001b[43mpath\u001b[49m\u001b[43m,\u001b[49m\u001b[43m \u001b[49m\u001b[43mmode\u001b[49m\u001b[38;5;241;43m=\u001b[39;49m\u001b[43mmode\u001b[49m\u001b[43m)\u001b[49m\n\u001b[1;32m    102\u001b[0m \u001b[38;5;28mself\u001b[39m\u001b[38;5;241m.\u001b[39mfobjects \u001b[38;5;241m=\u001b[39m [f]\n",
      "File \u001b[0;32m/anaconda/envs/nougat/lib/python3.9/site-packages/fsspec/asyn.py:118\u001b[0m, in \u001b[0;36msync_wrapper.<locals>.wrapper\u001b[0;34m(*args, **kwargs)\u001b[0m\n\u001b[1;32m    117\u001b[0m \u001b[38;5;28mself\u001b[39m \u001b[38;5;241m=\u001b[39m obj \u001b[38;5;129;01mor\u001b[39;00m args[\u001b[38;5;241m0\u001b[39m]\n\u001b[0;32m--> 118\u001b[0m \u001b[38;5;28;01mreturn\u001b[39;00m \u001b[43msync\u001b[49m\u001b[43m(\u001b[49m\u001b[38;5;28;43mself\u001b[39;49m\u001b[38;5;241;43m.\u001b[39;49m\u001b[43mloop\u001b[49m\u001b[43m,\u001b[49m\u001b[43m \u001b[49m\u001b[43mfunc\u001b[49m\u001b[43m,\u001b[49m\u001b[43m \u001b[49m\u001b[38;5;241;43m*\u001b[39;49m\u001b[43margs\u001b[49m\u001b[43m,\u001b[49m\u001b[43m \u001b[49m\u001b[38;5;241;43m*\u001b[39;49m\u001b[38;5;241;43m*\u001b[39;49m\u001b[43mkwargs\u001b[49m\u001b[43m)\u001b[49m\n",
      "File \u001b[0;32m/anaconda/envs/nougat/lib/python3.9/site-packages/fsspec/asyn.py:103\u001b[0m, in \u001b[0;36msync\u001b[0;34m(loop, func, timeout, *args, **kwargs)\u001b[0m\n\u001b[1;32m    102\u001b[0m \u001b[38;5;28;01melif\u001b[39;00m \u001b[38;5;28misinstance\u001b[39m(return_result, \u001b[38;5;167;01mBaseException\u001b[39;00m):\n\u001b[0;32m--> 103\u001b[0m     \u001b[38;5;28;01mraise\u001b[39;00m return_result\n\u001b[1;32m    104\u001b[0m \u001b[38;5;28;01melse\u001b[39;00m:\n",
      "File \u001b[0;32m/anaconda/envs/nougat/lib/python3.9/site-packages/fsspec/asyn.py:56\u001b[0m, in \u001b[0;36m_runner\u001b[0;34m(event, coro, result, timeout)\u001b[0m\n\u001b[1;32m     55\u001b[0m \u001b[38;5;28;01mtry\u001b[39;00m:\n\u001b[0;32m---> 56\u001b[0m     result[\u001b[38;5;241m0\u001b[39m] \u001b[38;5;241m=\u001b[39m \u001b[38;5;28;01mawait\u001b[39;00m coro\n\u001b[1;32m     57\u001b[0m \u001b[38;5;28;01mexcept\u001b[39;00m \u001b[38;5;167;01mException\u001b[39;00m \u001b[38;5;28;01mas\u001b[39;00m ex:\n",
      "File \u001b[0;32m/anaconda/envs/nougat/lib/python3.9/site-packages/azureml/fsspec/spec.py:499\u001b[0m, in \u001b[0;36mAzureMachineLearningFileSystem._open\u001b[0;34m(self, path, mode, **kwargs)\u001b[0m\n\u001b[1;32m    496\u001b[0m     activityLogger\u001b[38;5;241m.\u001b[39mactivity_info[\u001b[38;5;124m'\u001b[39m\u001b[38;5;124mouter_error_code\u001b[39m\u001b[38;5;124m'\u001b[39m] \u001b[38;5;241m=\u001b[39m \u001b[38;5;28mgetattr\u001b[39m(\n\u001b[1;32m    497\u001b[0m         e, OUTER_ERROR_CODE_KEY, \u001b[38;5;124m'\u001b[39m\u001b[38;5;124m'\u001b[39m)\n\u001b[0;32m--> 499\u001b[0m \u001b[43m_reclassify_rslex_error\u001b[49m\u001b[43m(\u001b[49m\u001b[43me\u001b[49m\u001b[43m)\u001b[49m\n",
      "File \u001b[0;32m/anaconda/envs/nougat/lib/python3.9/site-packages/azureml/dataprep/api/mltable/_validation_and_error_handler.py:90\u001b[0m, in \u001b[0;36m_reclassify_rslex_error\u001b[0;34m(err)\u001b[0m\n\u001b[1;32m     88\u001b[0m     \u001b[38;5;28;01mraise\u001b[39;00m UserErrorException(\n\u001b[1;32m     89\u001b[0m         \u001b[38;5;124mf\u001b[39m\u001b[38;5;124m'\u001b[39m\u001b[38;5;124mGetting permission error please make sure proper access is configured on storage: \u001b[39m\u001b[38;5;132;01m{\u001b[39;00merr_msg\u001b[38;5;132;01m}\u001b[39;00m\u001b[38;5;124m'\u001b[39m)\n\u001b[0;32m---> 90\u001b[0m \u001b[38;5;28;01mraise\u001b[39;00m err\n",
      "File \u001b[0;32m/anaconda/envs/nougat/lib/python3.9/site-packages/azureml/fsspec/spec.py:489\u001b[0m, in \u001b[0;36mAzureMachineLearningFileSystem._open\u001b[0;34m(self, path, mode, **kwargs)\u001b[0m\n\u001b[1;32m    487\u001b[0m     downloader \u001b[38;5;241m=\u001b[39m Downloader(block_size\u001b[38;5;241m=\u001b[39m\u001b[38;5;241m8\u001b[39m \u001b[38;5;241m*\u001b[39m \u001b[38;5;241m1024\u001b[39m \u001b[38;5;241m*\u001b[39m \u001b[38;5;241m1024\u001b[39m, read_threads\u001b[38;5;241m=\u001b[39mread_threads,\n\u001b[1;32m    488\u001b[0m                             caching_options\u001b[38;5;241m=\u001b[39mCachingOptions(memory_cache_size\u001b[38;5;241m=\u001b[39mmemory_cache_size))\n\u001b[0;32m--> 489\u001b[0m     \u001b[38;5;28;01mreturn\u001b[39;00m \u001b[43msi\u001b[49m\u001b[38;5;241;43m.\u001b[39;49m\u001b[43mopen\u001b[49m\u001b[43m(\u001b[49m\u001b[43mbuffering_options\u001b[49m\u001b[38;5;241;43m=\u001b[39;49m\u001b[43mBufferingOptions\u001b[49m\u001b[43m(\u001b[49m\u001b[38;5;241;43m64\u001b[39;49m\u001b[43m,\u001b[49m\u001b[43m \u001b[49m\u001b[43mdownloader\u001b[49m\u001b[43m)\u001b[49m\u001b[43m)\u001b[49m\n\u001b[1;32m    490\u001b[0m \u001b[38;5;28;01mexcept\u001b[39;00m \u001b[38;5;167;01mException\u001b[39;00m \u001b[38;5;28;01mas\u001b[39;00m e:\n",
      "\u001b[0;31mException\u001b[0m: StreamError(PermissionDenied(Some(This request is not authorized to perform this operation.)))",
      "\nThe above exception was the direct cause of the following exception:\n",
      "\u001b[0;31mValueError\u001b[0m                                Traceback (most recent call last)",
      "Cell \u001b[0;32mIn[11], line 3\u001b[0m\n\u001b[1;32m      1\u001b[0m question \u001b[38;5;241m=\u001b[39m \u001b[38;5;124m\"\u001b[39m\u001b[38;5;124mhow many steps are in metalloporphyrins synthesis?\u001b[39m\u001b[38;5;124m\"\u001b[39m\n\u001b[0;32m----> 3\u001b[0m acs_retriever \u001b[38;5;241m=\u001b[39m \u001b[43mMLIndex\u001b[49m\u001b[43m(\u001b[49m\n\u001b[1;32m      4\u001b[0m \u001b[43m    \u001b[49m\u001b[43mml_client\u001b[49m\u001b[38;5;241;43m.\u001b[39;49m\u001b[43mdata\u001b[49m\u001b[38;5;241;43m.\u001b[39;49m\u001b[43mget\u001b[49m\u001b[43m(\u001b[49m\u001b[43macs_asset_name\u001b[49m\u001b[43m,\u001b[49m\u001b[43m \u001b[49m\u001b[43mlabel\u001b[49m\u001b[38;5;241;43m=\u001b[39;49m\u001b[38;5;124;43m\"\u001b[39;49m\u001b[38;5;124;43mlatest\u001b[39;49m\u001b[38;5;124;43m\"\u001b[39;49m\u001b[43m)\u001b[49m\n\u001b[1;32m      5\u001b[0m \u001b[43m)\u001b[49m\u001b[38;5;241m.\u001b[39mas_langchain_retriever()\n\u001b[1;32m      7\u001b[0m acs_retriever\u001b[38;5;241m.\u001b[39mget_relevant_documents(question)\n",
      "File \u001b[0;32m/anaconda/envs/nougat/lib/python3.9/site-packages/azureml/rag/mlindex.py:110\u001b[0m, in \u001b[0;36mMLIndex.__init__\u001b[0;34m(self, uri, mlindex_config)\u001b[0m\n\u001b[1;32m    108\u001b[0m             mlindex_config \u001b[38;5;241m=\u001b[39m yaml\u001b[38;5;241m.\u001b[39msafe_load(f)\n\u001b[1;32m    109\u001b[0m     \u001b[38;5;28;01mexcept\u001b[39;00m \u001b[38;5;167;01mException\u001b[39;00m \u001b[38;5;28;01mas\u001b[39;00m e:\n\u001b[0;32m--> 110\u001b[0m         \u001b[38;5;28;01mraise\u001b[39;00m \u001b[38;5;167;01mValueError\u001b[39;00m(\u001b[38;5;124mf\u001b[39m\u001b[38;5;124m\"\u001b[39m\u001b[38;5;124mCould not find MLIndex: \u001b[39m\u001b[38;5;132;01m{\u001b[39;00me\u001b[38;5;132;01m}\u001b[39;00m\u001b[38;5;124m\"\u001b[39m) \u001b[38;5;28;01mfrom\u001b[39;00m\u001b[38;5;250m \u001b[39m\u001b[38;5;21;01me\u001b[39;00m\n\u001b[1;32m    111\u001b[0m \u001b[38;5;28;01melif\u001b[39;00m mlindex_config \u001b[38;5;129;01mis\u001b[39;00m \u001b[38;5;28;01mNone\u001b[39;00m:\n\u001b[1;32m    112\u001b[0m     \u001b[38;5;28;01mraise\u001b[39;00m \u001b[38;5;167;01mValueError\u001b[39;00m(\u001b[38;5;124m\"\u001b[39m\u001b[38;5;124mMust provide either uri or mlindex_config\u001b[39m\u001b[38;5;124m\"\u001b[39m)\n",
      "\u001b[0;31mValueError\u001b[0m: Could not find MLIndex: StreamError(PermissionDenied(Some(This request is not authorized to perform this operation.)))"
     ]
    }
   ],
   "source": [
    "question = \"how many steps are in metalloporphyrins synthesis?\"\n",
    "\n",
    "acs_retriever = MLIndex(\n",
    "    ml_client.data.get(acs_asset_name, label=\"latest\")\n",
    ").as_langchain_retriever()\n",
    "\n",
    "acs_retriever.get_relevant_documents(question)"
   ]
  },
  {
   "cell_type": "code",
   "execution_count": null,
   "metadata": {},
   "outputs": [
    {
     "name": "stderr",
     "output_type": "stream",
     "text": [
      "Message: rslex failed\n",
      "Payload: {\"pid\": 65908, \"rslex_version\": \"2.22.5\", \"MLTableVersion\": \"1.6.1\", \"version\": \"5.1.6\"}\n"
     ]
    },
    {
     "name": "stdout",
     "output_type": "stream",
     "text": [
      "Resolving access token for scope \"https://storage.azure.com/.default\" using identity of type \"MANAGED\".\n",
      "Getting data access token with Assigned Identity (client_id=clientid) and endpoint type based on configuration\n"
     ]
    },
    {
     "ename": "UserErrorException",
     "evalue": "\nError Code: ScriptExecution.StreamAccess.Authentication\nNative Error: Dataflow visit error: ExecutionError(StreamError(PermissionDenied(Some(This request is not authorized to perform this operation.))))\n\tVisitError(ExecutionError(StreamError(PermissionDenied(Some(This request is not authorized to perform this operation.)))))\n=> Failed with execution error: error in streaming from input data sources\n\tExecutionError(StreamError(PermissionDenied(Some(This request is not authorized to perform this operation.))))\nError Message: Authentication failed when trying to access the stream. Make sure you have correct permissions set up. Ok(This request is not authorized to perform this operation.)| session_id=l_565cb11a-a7ef-4d71-8cc5-51c38899ce0b",
     "output_type": "error",
     "traceback": [
      "\u001b[0;31m---------------------------------------------------------------------------\u001b[0m",
      "\u001b[0;31mExecutionError\u001b[0m                            Traceback (most recent call last)",
      "File \u001b[0;32m/anaconda/envs/nougat/lib/python3.9/site-packages/mltable/mltable.py:1300\u001b[0m, in \u001b[0;36mMLTable.to_pandas_dataframe\u001b[0;34m(self)\u001b[0m\n\u001b[1;32m   1299\u001b[0m \u001b[38;5;28;01mtry\u001b[39;00m:\n\u001b[0;32m-> 1300\u001b[0m     \u001b[38;5;28;01mreturn\u001b[39;00m \u001b[43mget_dataframe_reader\u001b[49m\u001b[43m(\u001b[49m\u001b[43m)\u001b[49m\u001b[38;5;241;43m.\u001b[39;49m\u001b[43mto_pandas_dataframe\u001b[49m\u001b[43m(\u001b[49m\u001b[38;5;28;43mself\u001b[39;49m\u001b[38;5;241;43m.\u001b[39;49m\u001b[43m_dataflow\u001b[49m\u001b[43m)\u001b[49m\n\u001b[1;32m   1301\u001b[0m \u001b[38;5;28;01mexcept\u001b[39;00m \u001b[38;5;167;01mException\u001b[39;00m \u001b[38;5;28;01mas\u001b[39;00m e:\n\u001b[1;32m   1302\u001b[0m     \u001b[38;5;66;03m# TODO (nathof) remove fallback after dprep release\u001b[39;00m\n\u001b[1;32m   1303\u001b[0m     \u001b[38;5;66;03m# released version of dprep doesn't have check to disable clex execution if dataflow is PyRsDataflow\u001b[39;00m\n\u001b[1;32m   1304\u001b[0m     \u001b[38;5;66;03m# so that is check given to signal unreleased version of dprep is used\u001b[39;00m\n",
      "File \u001b[0;32m/anaconda/envs/nougat/lib/python3.9/site-packages/azureml/dataprep/api/_dataframereader.py:355\u001b[0m, in \u001b[0;36m_DataFrameReader.to_pandas_dataframe\u001b[0;34m(self, dataflow, extended_types, nulls_as_nan, on_error, out_of_range_datetime, span_context)\u001b[0m\n\u001b[1;32m    354\u001b[0m force_preppy \u001b[38;5;241m=\u001b[39m \u001b[38;5;129;01mnot\u001b[39;00m have_pyarrow() \u001b[38;5;129;01mor\u001b[39;00m extended_types\n\u001b[0;32m--> 355\u001b[0m \u001b[38;5;28;01mreturn\u001b[39;00m \u001b[43m_execute\u001b[49m\u001b[43m(\u001b[49m\n\u001b[1;32m    356\u001b[0m \u001b[43m    \u001b[49m\u001b[38;5;124;43m'\u001b[39;49m\u001b[38;5;124;43m_DataframeReader.to_pandas_dataframe\u001b[39;49m\u001b[38;5;124;43m'\u001b[39;49m\u001b[43m,\u001b[49m\n\u001b[1;32m    357\u001b[0m \u001b[43m    \u001b[49m\u001b[43mdataflow\u001b[49m\u001b[38;5;241;43m=\u001b[39;49m\u001b[43mdataflow\u001b[49m\u001b[43m,\u001b[49m\n\u001b[1;32m    358\u001b[0m \u001b[43m    \u001b[49m\u001b[43mis_to_pandas_dataframe\u001b[49m\u001b[38;5;241;43m=\u001b[39;49m\u001b[38;5;28;43;01mTrue\u001b[39;49;00m\u001b[43m,\u001b[49m\n\u001b[1;32m    359\u001b[0m \u001b[43m    \u001b[49m\u001b[43mforce_preppy\u001b[49m\u001b[38;5;241;43m=\u001b[39;49m\u001b[43mforce_preppy\u001b[49m\u001b[43m,\u001b[49m\n\u001b[1;32m    360\u001b[0m \u001b[43m    \u001b[49m\u001b[43mcollect_results\u001b[49m\u001b[38;5;241;43m=\u001b[39;49m\u001b[38;5;28;43;01mTrue\u001b[39;49;00m\u001b[43m,\u001b[49m\n\u001b[1;32m    361\u001b[0m \u001b[43m    \u001b[49m\u001b[43mfail_on_error\u001b[49m\u001b[38;5;241;43m=\u001b[39;49m\u001b[43mon_error\u001b[49m\u001b[43m \u001b[49m\u001b[38;5;241;43m!=\u001b[39;49m\u001b[43m \u001b[49m\u001b[38;5;124;43m\"\u001b[39;49m\u001b[38;5;124;43mnull\u001b[39;49m\u001b[38;5;124;43m\"\u001b[39;49m\u001b[43m,\u001b[49m\n\u001b[1;32m    362\u001b[0m \u001b[43m    \u001b[49m\u001b[43mfail_on_mixed_types\u001b[49m\u001b[38;5;241;43m=\u001b[39;49m\u001b[43mon_error\u001b[49m\u001b[43m \u001b[49m\u001b[38;5;241;43m!=\u001b[39;49m\u001b[43m \u001b[49m\u001b[38;5;124;43m\"\u001b[39;49m\u001b[38;5;124;43mnull\u001b[39;49m\u001b[38;5;124;43m\"\u001b[39;49m\u001b[43m,\u001b[49m\n\u001b[1;32m    363\u001b[0m \u001b[43m    \u001b[49m\u001b[43mfail_on_out_of_range_datetime\u001b[49m\u001b[38;5;241;43m=\u001b[39;49m\u001b[43mout_of_range_datetime\u001b[49m\u001b[43m \u001b[49m\u001b[38;5;241;43m!=\u001b[39;49m\u001b[43m \u001b[49m\u001b[38;5;124;43m\"\u001b[39;49m\u001b[38;5;124;43mnull\u001b[39;49m\u001b[38;5;124;43m\"\u001b[39;49m\u001b[43m,\u001b[49m\n\u001b[1;32m    364\u001b[0m \u001b[43m    \u001b[49m\u001b[43mtraceparent\u001b[49m\u001b[38;5;241;43m=\u001b[39;49m\u001b[43mspan_context\u001b[49m\u001b[38;5;241;43m.\u001b[39;49m\u001b[43mspan_id\u001b[49m\u001b[43m \u001b[49m\u001b[38;5;28;43;01mif\u001b[39;49;00m\u001b[43m \u001b[49m\u001b[43mspan_context\u001b[49m\u001b[43m \u001b[49m\u001b[38;5;129;43;01mis\u001b[39;49;00m\u001b[43m \u001b[49m\u001b[38;5;129;43;01mnot\u001b[39;49;00m\u001b[43m \u001b[49m\u001b[38;5;28;43;01mNone\u001b[39;49;00m\u001b[43m \u001b[49m\u001b[38;5;28;43;01melse\u001b[39;49;00m\u001b[43m \u001b[49m\u001b[38;5;124;43m\"\u001b[39;49m\u001b[38;5;124;43m\"\u001b[39;49m\u001b[43m,\u001b[49m\n\u001b[1;32m    365\u001b[0m \u001b[43m    \u001b[49m\u001b[43mspan_context\u001b[49m\u001b[38;5;241;43m=\u001b[39;49m\u001b[43mspan_context\u001b[49m\u001b[43m,\u001b[49m\n\u001b[1;32m    366\u001b[0m \u001b[43m    \u001b[49m\u001b[43mcleanup\u001b[49m\u001b[38;5;241;43m=\u001b[39;49m\u001b[38;5;28;43;01mNone\u001b[39;49;00m\u001b[43m,\u001b[49m\n\u001b[1;32m    367\u001b[0m \u001b[43m    \u001b[49m\u001b[43mextended_types\u001b[49m\u001b[38;5;241;43m=\u001b[39;49m\u001b[43mextended_types\u001b[49m\u001b[43m,\u001b[49m\n\u001b[1;32m    368\u001b[0m \u001b[43m    \u001b[49m\u001b[43mnulls_as_nan\u001b[49m\u001b[38;5;241;43m=\u001b[39;49m\u001b[43mnulls_as_nan\u001b[49m\u001b[43m,\u001b[49m\n\u001b[1;32m    369\u001b[0m \u001b[43m\u001b[49m\u001b[43m)\u001b[49m\n",
      "File \u001b[0;32m/anaconda/envs/nougat/lib/python3.9/site-packages/azureml/dataprep/api/_dataframereader.py:266\u001b[0m, in \u001b[0;36m_execute\u001b[0;34m(activity, dataflow, is_to_pandas_dataframe, force_clex, allow_fallback_to_clex, force_preppy, collect_results, fail_on_error, fail_on_mixed_types, fail_on_out_of_range_datetime, partition_ids, traceparent, span_context, cleanup, extended_types, nulls_as_nan, telemetry_dict, convert_preppy_to_pyrecords)\u001b[0m\n\u001b[1;32m    265\u001b[0m     _LoggerFactory\u001b[38;5;241m.\u001b[39mtrace_warn(_LOGGER, \u001b[38;5;124m\"\u001b[39m\u001b[38;5;124mrslex failed\u001b[39m\u001b[38;5;124m\"\u001b[39m)\n\u001b[0;32m--> 266\u001b[0m     \u001b[38;5;28;01mraise\u001b[39;00m e\n\u001b[1;32m    267\u001b[0m \u001b[38;5;28;01mexcept\u001b[39;00m \u001b[38;5;167;01mException\u001b[39;00m \u001b[38;5;28;01mas\u001b[39;00m e:\n",
      "File \u001b[0;32m/anaconda/envs/nougat/lib/python3.9/site-packages/azureml/dataprep/api/_dataframereader.py:246\u001b[0m, in \u001b[0;36m_execute\u001b[0;34m(activity, dataflow, is_to_pandas_dataframe, force_clex, allow_fallback_to_clex, force_preppy, collect_results, fail_on_error, fail_on_mixed_types, fail_on_out_of_range_datetime, partition_ids, traceparent, span_context, cleanup, extended_types, nulls_as_nan, telemetry_dict, convert_preppy_to_pyrecords)\u001b[0m\n\u001b[1;32m    245\u001b[0m \u001b[38;5;28;01mtry\u001b[39;00m:\n\u001b[0;32m--> 246\u001b[0m     \u001b[38;5;28;01mreturn\u001b[39;00m \u001b[43mrslex_execute\u001b[49m\u001b[43m(\u001b[49m\u001b[43m)\u001b[49m\n\u001b[1;32m    247\u001b[0m \u001b[38;5;28;01mexcept\u001b[39;00m _InconsistentSchemaError \u001b[38;5;28;01mas\u001b[39;00m e:\n",
      "File \u001b[0;32m/anaconda/envs/nougat/lib/python3.9/site-packages/azureml/dataprep/api/_dataframereader.py:177\u001b[0m, in \u001b[0;36m_execute.<locals>.rslex_execute\u001b[0;34m()\u001b[0m\n\u001b[1;32m    176\u001b[0m executor \u001b[38;5;241m=\u001b[39m get_rslex_executor()\n\u001b[0;32m--> 177\u001b[0m (batches, num_partitions, stream_columns) \u001b[38;5;241m=\u001b[39m \u001b[43mexecutor\u001b[49m\u001b[38;5;241;43m.\u001b[39;49m\u001b[43mexecute_dataflow\u001b[49m\u001b[43m(\u001b[49m\u001b[43mdataflow\u001b[49m\u001b[43m,\u001b[49m\n\u001b[1;32m    178\u001b[0m \u001b[43m                                                                      \u001b[49m\u001b[43mcollect_results\u001b[49m\u001b[43m,\u001b[49m\n\u001b[1;32m    179\u001b[0m \u001b[43m                                                                      \u001b[49m\u001b[43mfail_on_error\u001b[49m\u001b[43m,\u001b[49m\n\u001b[1;32m    180\u001b[0m \u001b[43m                                                                      \u001b[49m\u001b[43mfail_on_mixed_types\u001b[49m\u001b[43m,\u001b[49m\n\u001b[1;32m    181\u001b[0m \u001b[43m                                                                      \u001b[49m\u001b[43mfail_on_out_of_range_datetime\u001b[49m\u001b[43m,\u001b[49m\n\u001b[1;32m    182\u001b[0m \u001b[43m                                                                      \u001b[49m\u001b[43mtraceparent\u001b[49m\u001b[43m,\u001b[49m\n\u001b[1;32m    183\u001b[0m \u001b[43m                                                                      \u001b[49m\u001b[43mpartition_ids\u001b[49m\u001b[43m)\u001b[49m\n\u001b[1;32m    185\u001b[0m \u001b[38;5;28;01mif\u001b[39;00m is_to_pandas_dataframe:\n",
      "File \u001b[0;32m/anaconda/envs/nougat/lib/python3.9/site-packages/azureml/dataprep/api/_rslex_executor.py:26\u001b[0m, in \u001b[0;36m_RsLexExecutor.execute_dataflow\u001b[0;34m(self, script, collect_results, fail_on_error, fail_on_mixed_types, fail_on_out_of_range_datetime, traceparent, partition_ids)\u001b[0m\n\u001b[1;32m     25\u001b[0m \u001b[38;5;28;01mfrom\u001b[39;00m\u001b[38;5;250m \u001b[39m\u001b[38;5;21;01mazureml\u001b[39;00m\u001b[38;5;21;01m.\u001b[39;00m\u001b[38;5;21;01mdataprep\u001b[39;00m\u001b[38;5;21;01m.\u001b[39;00m\u001b[38;5;21;01mrslex\u001b[39;00m\u001b[38;5;250m \u001b[39m\u001b[38;5;28;01mimport\u001b[39;00m Executor\n\u001b[0;32m---> 26\u001b[0m (batches, num_partitions, stream_columns) \u001b[38;5;241m=\u001b[39m \u001b[43mExecutor\u001b[49m\u001b[43m(\u001b[49m\u001b[43m)\u001b[49m\u001b[38;5;241;43m.\u001b[39;49m\u001b[43mexecute_dataflow\u001b[49m\u001b[43m(\u001b[49m\u001b[43mscript\u001b[49m\u001b[43m,\u001b[49m\n\u001b[1;32m     27\u001b[0m \u001b[43m                                                                        \u001b[49m\u001b[43mcollect_results\u001b[49m\u001b[43m,\u001b[49m\n\u001b[1;32m     28\u001b[0m \u001b[43m                                                                        \u001b[49m\u001b[43mpartition_ids\u001b[49m\u001b[43m,\u001b[49m\n\u001b[1;32m     29\u001b[0m \u001b[43m                                                                        \u001b[49m\u001b[43mfail_on_error\u001b[49m\u001b[43m,\u001b[49m\n\u001b[1;32m     30\u001b[0m \u001b[43m                                                                        \u001b[49m\u001b[43mfail_on_mixed_types\u001b[49m\u001b[43m,\u001b[49m\n\u001b[1;32m     31\u001b[0m \u001b[43m                                                                        \u001b[49m\u001b[43mfail_on_out_of_range_datetime\u001b[49m\u001b[43m,\u001b[49m\n\u001b[1;32m     32\u001b[0m \u001b[43m                                                                        \u001b[49m\u001b[43mtraceparent\u001b[49m\u001b[43m)\u001b[49m\n\u001b[1;32m     34\u001b[0m log\u001b[38;5;241m.\u001b[39minfo(\u001b[38;5;124mf\u001b[39m\u001b[38;5;124m'\u001b[39m\u001b[38;5;124mExecution succeeded with \u001b[39m\u001b[38;5;132;01m{\u001b[39;00mnum_partitions\u001b[38;5;132;01m}\u001b[39;00m\u001b[38;5;124m partitions.\u001b[39m\u001b[38;5;124m'\u001b[39m)\n",
      "\u001b[0;31mExecutionError\u001b[0m: \nError Code: ScriptExecution.StreamAccess.Authentication\nNative Error: Dataflow visit error: ExecutionError(StreamError(PermissionDenied(Some(This request is not authorized to perform this operation.))))\n\tVisitError(ExecutionError(StreamError(PermissionDenied(Some(This request is not authorized to perform this operation.)))))\n=> Failed with execution error: error in streaming from input data sources\n\tExecutionError(StreamError(PermissionDenied(Some(This request is not authorized to perform this operation.))))\nError Message: Authentication failed when trying to access the stream. Make sure you have correct permissions set up. Ok(This request is not authorized to perform this operation.)| session_id=l_565cb11a-a7ef-4d71-8cc5-51c38899ce0b",
      "\nDuring handling of the above exception, another exception occurred:\n",
      "\u001b[0;31mUserErrorException\u001b[0m                        Traceback (most recent call last)",
      "Cell \u001b[0;32mIn[11], line 12\u001b[0m\n\u001b[1;32m      7\u001b[0m path \u001b[38;5;241m=\u001b[39m {\n\u001b[1;32m      8\u001b[0m   \u001b[38;5;124m'\u001b[39m\u001b[38;5;124mfolder\u001b[39m\u001b[38;5;124m'\u001b[39m: data_asset\u001b[38;5;241m.\u001b[39mpath\n\u001b[1;32m      9\u001b[0m }\n\u001b[1;32m     11\u001b[0m tbl \u001b[38;5;241m=\u001b[39m mltable\u001b[38;5;241m.\u001b[39mfrom_delimited_files(paths\u001b[38;5;241m=\u001b[39m[path])\n\u001b[0;32m---> 12\u001b[0m df \u001b[38;5;241m=\u001b[39m \u001b[43mtbl\u001b[49m\u001b[38;5;241;43m.\u001b[39;49m\u001b[43mto_pandas_dataframe\u001b[49m\u001b[43m(\u001b[49m\u001b[43m)\u001b[49m\n\u001b[1;32m     13\u001b[0m df\n",
      "File \u001b[0;32m/anaconda/envs/nougat/lib/python3.9/site-packages/azureml/dataprep/api/_loggerfactory.py:279\u001b[0m, in \u001b[0;36mtrack.<locals>.monitor.<locals>.wrapper\u001b[0;34m(*args, **kwargs)\u001b[0m\n\u001b[1;32m    277\u001b[0m \u001b[38;5;28;01mwith\u001b[39;00m _LoggerFactory\u001b[38;5;241m.\u001b[39mtrack_activity(logger, func\u001b[38;5;241m.\u001b[39m\u001b[38;5;18m__name__\u001b[39m, activity_type, custom_dimensions) \u001b[38;5;28;01mas\u001b[39;00m activityLogger:\n\u001b[1;32m    278\u001b[0m     \u001b[38;5;28;01mtry\u001b[39;00m:\n\u001b[0;32m--> 279\u001b[0m         \u001b[38;5;28;01mreturn\u001b[39;00m \u001b[43mfunc\u001b[49m\u001b[43m(\u001b[49m\u001b[38;5;241;43m*\u001b[39;49m\u001b[43margs\u001b[49m\u001b[43m,\u001b[49m\u001b[43m \u001b[49m\u001b[38;5;241;43m*\u001b[39;49m\u001b[38;5;241;43m*\u001b[39;49m\u001b[43mkwargs\u001b[49m\u001b[43m)\u001b[49m\n\u001b[1;32m    280\u001b[0m     \u001b[38;5;28;01mexcept\u001b[39;00m \u001b[38;5;167;01mException\u001b[39;00m \u001b[38;5;28;01mas\u001b[39;00m e:\n\u001b[1;32m    281\u001b[0m         \u001b[38;5;28;01mif\u001b[39;00m \u001b[38;5;28mhasattr\u001b[39m(activityLogger, ACTIVITY_INFO_KEY) \u001b[38;5;129;01mand\u001b[39;00m \u001b[38;5;28mhasattr\u001b[39m(e, ERROR_CODE_KEY):\n",
      "File \u001b[0;32m/anaconda/envs/nougat/lib/python3.9/site-packages/mltable/mltable.py:1311\u001b[0m, in \u001b[0;36mMLTable.to_pandas_dataframe\u001b[0;34m(self)\u001b[0m\n\u001b[1;32m   1309\u001b[0m \u001b[38;5;28;01mexcept\u001b[39;00m \u001b[38;5;167;01mException\u001b[39;00m \u001b[38;5;28;01mas\u001b[39;00m e:\n\u001b[1;32m   1310\u001b[0m     _log_exception(activity_logger, e)\n\u001b[0;32m-> 1311\u001b[0m     \u001b[38;5;28;01mraise\u001b[39;00m e\n",
      "File \u001b[0;32m/anaconda/envs/nougat/lib/python3.9/site-packages/mltable/mltable.py:1308\u001b[0m, in \u001b[0;36mMLTable.to_pandas_dataframe\u001b[0;34m(self)\u001b[0m\n\u001b[1;32m   1305\u001b[0m         \u001b[38;5;28;01mif\u001b[39;00m \u001b[38;5;28misinstance\u001b[39m(e, \u001b[38;5;167;01mAttributeError\u001b[39;00m) \\\n\u001b[1;32m   1306\u001b[0m                 \u001b[38;5;129;01mand\u001b[39;00m \u001b[38;5;124m\"\u001b[39m\u001b[38;5;124m'\u001b[39m\u001b[38;5;124mbuiltins.PyRsDataflow\u001b[39m\u001b[38;5;124m'\u001b[39m\u001b[38;5;124m object has no attribute \u001b[39m\u001b[38;5;124m'\u001b[39m\u001b[38;5;124madd_step\u001b[39m\u001b[38;5;124m'\u001b[39m\u001b[38;5;124m\"\u001b[39m \u001b[38;5;129;01min\u001b[39;00m e\u001b[38;5;241m.\u001b[39margs[\u001b[38;5;241m0\u001b[39m]:\n\u001b[1;32m   1307\u001b[0m             \u001b[38;5;28;01mreturn\u001b[39;00m _wrap_rslex_function_call(\u001b[38;5;28;01mlambda\u001b[39;00m: get_dataframe_reader()\u001b[38;5;241m.\u001b[39mto_pandas_dataframe(\u001b[38;5;28mstr\u001b[39m(\u001b[38;5;28mself\u001b[39m)))\n\u001b[0;32m-> 1308\u001b[0m         \u001b[38;5;28;01mraise\u001b[39;00m \u001b[43m_reclassify_rslex_error\u001b[49m\u001b[43m(\u001b[49m\u001b[43me\u001b[49m\u001b[43m)\u001b[49m\n\u001b[1;32m   1309\u001b[0m \u001b[38;5;28;01mexcept\u001b[39;00m \u001b[38;5;167;01mException\u001b[39;00m \u001b[38;5;28;01mas\u001b[39;00m e:\n\u001b[1;32m   1310\u001b[0m     _log_exception(activity_logger, e)\n",
      "File \u001b[0;32m/anaconda/envs/nougat/lib/python3.9/site-packages/azureml/dataprep/api/mltable/_validation_and_error_handler.py:84\u001b[0m, in \u001b[0;36m_reclassify_rslex_error\u001b[0;34m(err)\u001b[0m\n\u001b[1;32m     75\u001b[0m \u001b[38;5;66;03m# first check remaps errors from RSlex to UserErrorExceptions in following ways:\u001b[39;00m\n\u001b[1;32m     76\u001b[0m \u001b[38;5;66;03m# - is a DataPrepException whose error_code attribute is in _DATAPREP_EXECEPTION_USER_ERROR_CODES or whose message\u001b[39;00m\n\u001b[1;32m     77\u001b[0m \u001b[38;5;66;03m#   attribute contains am error value in _RSLEX_USER_ERROR_VALUES\u001b[39;00m\n\u001b[1;32m     78\u001b[0m \u001b[38;5;66;03m# - error message contains any element in _RSLEX_USER_ERROR_MSGS\u001b[39;00m\n\u001b[1;32m     79\u001b[0m \u001b[38;5;28;01mif\u001b[39;00m ((\u001b[38;5;28misinstance\u001b[39m(err, DataPrepException) \u001b[38;5;129;01mor\u001b[39;00m \u001b[38;5;28mhasattr\u001b[39m(err, \u001b[38;5;124m'\u001b[39m\u001b[38;5;124merror_code\u001b[39m\u001b[38;5;124m'\u001b[39m))\n\u001b[1;32m     80\u001b[0m     \u001b[38;5;129;01mand\u001b[39;00m err\u001b[38;5;241m.\u001b[39merror_code \u001b[38;5;129;01min\u001b[39;00m _DATAPREP_EXECEPTION_USER_ERROR_CODES) \\\n\u001b[1;32m     81\u001b[0m         \u001b[38;5;129;01mor\u001b[39;00m \u001b[38;5;28many\u001b[39m(user_err_msg \u001b[38;5;129;01min\u001b[39;00m err_msg \u001b[38;5;28;01mfor\u001b[39;00m user_err_msg \u001b[38;5;129;01min\u001b[39;00m _RSLEX_USER_ERROR_MSGS) \\\n\u001b[1;32m     82\u001b[0m         \u001b[38;5;129;01mor\u001b[39;00m (\u001b[38;5;28misinstance\u001b[39m(err, DataPrepException)\n\u001b[1;32m     83\u001b[0m             \u001b[38;5;129;01mand\u001b[39;00m \u001b[38;5;28many\u001b[39m(user_error_value \u001b[38;5;129;01min\u001b[39;00m err\u001b[38;5;241m.\u001b[39mmessage \u001b[38;5;28;01mfor\u001b[39;00m user_error_value \u001b[38;5;129;01min\u001b[39;00m _RSLEX_USER_ERROR_VALUES)):\n\u001b[0;32m---> 84\u001b[0m     \u001b[38;5;28;01mraise\u001b[39;00m UserErrorException(err)\n\u001b[1;32m     85\u001b[0m \u001b[38;5;28;01mif\u001b[39;00m \u001b[38;5;124m'\u001b[39m\u001b[38;5;124mPython expression parse error\u001b[39m\u001b[38;5;124m'\u001b[39m \u001b[38;5;129;01min\u001b[39;00m err_msg:\n\u001b[1;32m     86\u001b[0m     \u001b[38;5;28;01mraise\u001b[39;00m UserErrorException(\u001b[38;5;124mf\u001b[39m\u001b[38;5;124m'\u001b[39m\u001b[38;5;124mNot a valid python expression in filter. \u001b[39m\u001b[38;5;132;01m{\u001b[39;00merr_msg\u001b[38;5;132;01m}\u001b[39;00m\u001b[38;5;124m'\u001b[39m)\n",
      "\u001b[0;31mUserErrorException\u001b[0m: \nError Code: ScriptExecution.StreamAccess.Authentication\nNative Error: Dataflow visit error: ExecutionError(StreamError(PermissionDenied(Some(This request is not authorized to perform this operation.))))\n\tVisitError(ExecutionError(StreamError(PermissionDenied(Some(This request is not authorized to perform this operation.)))))\n=> Failed with execution error: error in streaming from input data sources\n\tExecutionError(StreamError(PermissionDenied(Some(This request is not authorized to perform this operation.))))\nError Message: Authentication failed when trying to access the stream. Make sure you have correct permissions set up. Ok(This request is not authorized to perform this operation.)| session_id=l_565cb11a-a7ef-4d71-8cc5-51c38899ce0b"
     ]
    }
   ],
   "source": [
    "\n",
    "import mltable\n",
    "from azure.ai.ml import MLClient\n",
    "from azure.identity import DefaultAzureCredential\n",
    "\n",
    "data_asset = ml_client.data.get(\"aoai_faiss_mlindex\", version=\"1\")\n",
    "\n",
    "path = {\n",
    "  'folder': data_asset.path\n",
    "}\n",
    "\n",
    "tbl = mltable.from_delimited_files(paths=[path])\n",
    "df = tbl.to_pandas_dataframe()\n",
    "df"
   ]
  },
  {
   "cell_type": "code",
   "execution_count": null,
   "metadata": {},
   "outputs": [],
   "source": []
  },
  {
   "cell_type": "code",
   "execution_count": null,
   "metadata": {},
   "outputs": [],
   "source": []
  }
 ],
 "metadata": {
  "kernelspec": {
   "display_name": "nougat",
   "language": "python",
   "name": "python3"
  },
  "language_info": {
   "codemirror_mode": {
    "name": "ipython",
    "version": 3
   },
   "file_extension": ".py",
   "mimetype": "text/x-python",
   "name": "python",
   "nbconvert_exporter": "python",
   "pygments_lexer": "ipython3",
   "version": "3.9.21"
  }
 },
 "nbformat": 4,
 "nbformat_minor": 2
}
