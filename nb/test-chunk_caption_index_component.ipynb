{
 "cells": [
  {
   "cell_type": "code",
   "execution_count": 1,
   "metadata": {},
   "outputs": [],
   "source": [
    "import sys\n",
    "\n",
    "sys.path.append('../chunk_caption_index_component/')\n",
    "# enhanced_doc_analyzer_component/enhanced_document_analyzer"
   ]
  },
  {
   "cell_type": "code",
   "execution_count": 2,
   "metadata": {},
   "outputs": [
    {
     "name": "stderr",
     "output_type": "stream",
     "text": [
      "Found the config file in: /config.json\n"
     ]
    }
   ],
   "source": [
    "# Example of registering the component in a workspace\n",
    "from azure.ai.ml import MLClient\n",
    "from azure.identity import DefaultAzureCredential\n",
    "\n",
    "# Get workspace\n",
    "ml_client = MLClient.from_config(\n",
    "    credential=DefaultAzureCredential()\n",
    ")"
   ]
  },
  {
   "cell_type": "code",
   "execution_count": 3,
   "metadata": {},
   "outputs": [],
   "source": [
    "\n",
    "from openai import AzureOpenAI\n",
    "\n",
    "\n",
    "from document_processor import DocumentProcessor"
   ]
  },
  {
   "cell_type": "code",
   "execution_count": 4,
   "metadata": {},
   "outputs": [],
   "source": [
    "import dotenv\n",
    "import os\n",
    "import pandas as pd\n",
    "\n",
    "# Load the environment variables\n",
    "dotenv.load_dotenv()\n",
    "\n",
    "azure_openai_endpoint = os.getenv(\"AZURE_OPENAI_ENDPOINT\")\n",
    "azure_openai_key = os.getenv(\"AZURE_OPENAI_KEY\")\n",
    "\n",
    "# Initialize the OpenAI client\n",
    "openai_vision_client = AzureOpenAI(\n",
    "    azure_endpoint=azure_openai_endpoint, \n",
    "    api_key=azure_openai_key, \n",
    "    api_version='2023-03-15-preview'\n",
    "    )\n",
    "openai_embedding_client = AzureOpenAI(\n",
    "    azure_endpoint=azure_openai_endpoint, \n",
    "    api_key=azure_openai_key, \n",
    "    api_version='2024-02-01'\n",
    "    )\n",
    "\n",
    "azure_search_endpoint = os.getenv(\"AZURE_SEARCH_ENDPOINT\")\n",
    "azure_search_key = os.getenv(\"AZURE_SEARCH_KEY\")\n",
    "index_name=\"test-index-0\"\n"
   ]
  },
  {
   "cell_type": "code",
   "execution_count": 5,
   "metadata": {},
   "outputs": [],
   "source": [
    "# Initialize document processor\n",
    "processor = DocumentProcessor(\n",
    "    input_folder=\"./output-azure/0.55/1-s2.0-S0927796X2030053X-am.pdf\",\n",
    "    output_folder=\"./output-azure-processed/0.55/1-s2.0-S0927796X2030053X-am.pdf\",\n",
    "    openai_client=openai_vision_client,\n",
    "    vision_deployment_name=\"gpt-4v\",\n",
    "    embedding_client=openai_embedding_client,\n",
    "    embd_deployment_name=\"text-embedding-ada-002\",\n",
    "    search_endpoint=azure_search_endpoint,\n",
    "    search_key=azure_search_key,\n",
    "    search_api_version=\"2023-11-01\",\n",
    "    index_name=index_name,\n",
    "    max_chunk_length=512\n",
    ")\n",
    "\n",
    "stats, chunks_df = processor.process()"
   ]
  },
  {
   "cell_type": "code",
   "execution_count": 6,
   "metadata": {},
   "outputs": [
    {
     "data": {
      "text/plain": [
       "{'processed': 311,\n",
       " 'errors': 0,\n",
       " 'chunks': 433,\n",
       " 'timestamp': '2025-02-07T16:05:17.659796'}"
      ]
     },
     "execution_count": 6,
     "metadata": {},
     "output_type": "execute_result"
    }
   ],
   "source": [
    "stats"
   ]
  },
  {
   "cell_type": "code",
   "execution_count": 7,
   "metadata": {},
   "outputs": [
    {
     "data": {
      "text/html": [
       "<div>\n",
       "<style scoped>\n",
       "    .dataframe tbody tr th:only-of-type {\n",
       "        vertical-align: middle;\n",
       "    }\n",
       "\n",
       "    .dataframe tbody tr th {\n",
       "        vertical-align: top;\n",
       "    }\n",
       "\n",
       "    .dataframe thead th {\n",
       "        text-align: right;\n",
       "    }\n",
       "</style>\n",
       "<table border=\"1\" class=\"dataframe\">\n",
       "  <thead>\n",
       "    <tr style=\"text-align: right;\">\n",
       "      <th></th>\n",
       "      <th>chunk_id</th>\n",
       "      <th>pdf_file</th>\n",
       "      <th>page</th>\n",
       "      <th>bounding_box</th>\n",
       "      <th>type</th>\n",
       "      <th>text</th>\n",
       "      <th>image_path</th>\n",
       "      <th>role</th>\n",
       "      <th>confidence</th>\n",
       "      <th>source</th>\n",
       "      <th>embedding</th>\n",
       "      <th>is_caption</th>\n",
       "    </tr>\n",
       "  </thead>\n",
       "  <tbody>\n",
       "    <tr>\n",
       "      <th>0</th>\n",
       "      <td>3af8da08-9953-46af-ae83-1680ddd0c31a</td>\n",
       "      <td>1-s2.0-S0927796X2030053X-am.pdf</td>\n",
       "      <td>1</td>\n",
       "      <td>(1.49, 1.52, 6.75, 1.73)</td>\n",
       "      <td>text</td>\n",
       "      <td>Polymer Informatics: Current Status and Critic...</td>\n",
       "      <td>NaN</td>\n",
       "      <td>title</td>\n",
       "      <td>NaN</td>\n",
       "      <td>azure_document_intelligence</td>\n",
       "      <td>[-0.02136324532330036, -0.005665221251547337, ...</td>\n",
       "      <td>False</td>\n",
       "    </tr>\n",
       "    <tr>\n",
       "      <th>1</th>\n",
       "      <td>23e4cd6d-e690-4a2e-b622-d0cf44503c3a</td>\n",
       "      <td>1-s2.0-S0927796X2030053X-am.pdf</td>\n",
       "      <td>1</td>\n",
       "      <td>(1.24, 1.97, 7.02, 2.82)</td>\n",
       "      <td>text</td>\n",
       "      <td>Lihua Chenª, Ghanshyam Pilaniab, Rohit Batrac,...</td>\n",
       "      <td>NaN</td>\n",
       "      <td>NaN</td>\n",
       "      <td>NaN</td>\n",
       "      <td>azure_document_intelligence</td>\n",
       "      <td>[-0.0017890825401991606, 0.014668765477836132,...</td>\n",
       "      <td>False</td>\n",
       "    </tr>\n",
       "    <tr>\n",
       "      <th>2</th>\n",
       "      <td>de91c4d0-0314-47b1-96d6-f35f27e9fd95</td>\n",
       "      <td>1-s2.0-S0927796X2030053X-am.pdf</td>\n",
       "      <td>1</td>\n",
       "      <td>(0.87, 3.70, 7.38, 6.17)</td>\n",
       "      <td>text</td>\n",
       "      <td>Artificial intelligence (AI) based approaches ...</td>\n",
       "      <td>NaN</td>\n",
       "      <td>NaN</td>\n",
       "      <td>NaN</td>\n",
       "      <td>azure_document_intelligence</td>\n",
       "      <td>[-0.014036566950380802, -0.011912076734006405,...</td>\n",
       "      <td>False</td>\n",
       "    </tr>\n",
       "    <tr>\n",
       "      <th>3</th>\n",
       "      <td>d9ded88e-e0d7-49f3-98be-53f8b2dfe46c</td>\n",
       "      <td>1-s2.0-S0927796X2030053X-am.pdf</td>\n",
       "      <td>1</td>\n",
       "      <td>(0.87, 3.70, 7.38, 6.17)</td>\n",
       "      <td>text</td>\n",
       "      <td>Questions regarding synthesizability, and pote...</td>\n",
       "      <td>NaN</td>\n",
       "      <td>NaN</td>\n",
       "      <td>NaN</td>\n",
       "      <td>azure_document_intelligence</td>\n",
       "      <td>[-0.02521873265504837, -0.010758204385638237, ...</td>\n",
       "      <td>False</td>\n",
       "    </tr>\n",
       "    <tr>\n",
       "      <th>4</th>\n",
       "      <td>4a37b8d6-4823-4032-9d2d-5a9c4e822544</td>\n",
       "      <td>1-s2.0-S0927796X2030053X-am.pdf</td>\n",
       "      <td>1</td>\n",
       "      <td>(0.87, 3.70, 7.38, 6.17)</td>\n",
       "      <td>text</td>\n",
       "      <td>Other major hurdles for polymer informatics ar...</td>\n",
       "      <td>NaN</td>\n",
       "      <td>NaN</td>\n",
       "      <td>NaN</td>\n",
       "      <td>azure_document_intelligence</td>\n",
       "      <td>[-0.006296014878898859, 0.002676484640687704, ...</td>\n",
       "      <td>False</td>\n",
       "    </tr>\n",
       "  </tbody>\n",
       "</table>\n",
       "</div>"
      ],
      "text/plain": [
       "                               chunk_id                         pdf_file  \\\n",
       "0  3af8da08-9953-46af-ae83-1680ddd0c31a  1-s2.0-S0927796X2030053X-am.pdf   \n",
       "1  23e4cd6d-e690-4a2e-b622-d0cf44503c3a  1-s2.0-S0927796X2030053X-am.pdf   \n",
       "2  de91c4d0-0314-47b1-96d6-f35f27e9fd95  1-s2.0-S0927796X2030053X-am.pdf   \n",
       "3  d9ded88e-e0d7-49f3-98be-53f8b2dfe46c  1-s2.0-S0927796X2030053X-am.pdf   \n",
       "4  4a37b8d6-4823-4032-9d2d-5a9c4e822544  1-s2.0-S0927796X2030053X-am.pdf   \n",
       "\n",
       "   page              bounding_box  type  \\\n",
       "0     1  (1.49, 1.52, 6.75, 1.73)  text   \n",
       "1     1  (1.24, 1.97, 7.02, 2.82)  text   \n",
       "2     1  (0.87, 3.70, 7.38, 6.17)  text   \n",
       "3     1  (0.87, 3.70, 7.38, 6.17)  text   \n",
       "4     1  (0.87, 3.70, 7.38, 6.17)  text   \n",
       "\n",
       "                                                text image_path   role  \\\n",
       "0  Polymer Informatics: Current Status and Critic...        NaN  title   \n",
       "1  Lihua Chenª, Ghanshyam Pilaniab, Rohit Batrac,...        NaN    NaN   \n",
       "2  Artificial intelligence (AI) based approaches ...        NaN    NaN   \n",
       "3  Questions regarding synthesizability, and pote...        NaN    NaN   \n",
       "4  Other major hurdles for polymer informatics ar...        NaN    NaN   \n",
       "\n",
       "   confidence                       source  \\\n",
       "0         NaN  azure_document_intelligence   \n",
       "1         NaN  azure_document_intelligence   \n",
       "2         NaN  azure_document_intelligence   \n",
       "3         NaN  azure_document_intelligence   \n",
       "4         NaN  azure_document_intelligence   \n",
       "\n",
       "                                           embedding  is_caption  \n",
       "0  [-0.02136324532330036, -0.005665221251547337, ...       False  \n",
       "1  [-0.0017890825401991606, 0.014668765477836132,...       False  \n",
       "2  [-0.014036566950380802, -0.011912076734006405,...       False  \n",
       "3  [-0.02521873265504837, -0.010758204385638237, ...       False  \n",
       "4  [-0.006296014878898859, 0.002676484640687704, ...       False  "
      ]
     },
     "execution_count": 7,
     "metadata": {},
     "output_type": "execute_result"
    }
   ],
   "source": [
    "chunks_df.head()"
   ]
  },
  {
   "cell_type": "code",
   "execution_count": 3,
   "metadata": {},
   "outputs": [],
   "source": [
    "from retriever_utils import ImageCaptionViewer\n",
    "\n",
    "from azure.search.documents import SearchClient\n",
    "from azure.core.credentials import AzureKeyCredential\n",
    "import pandas as pd\n",
    "\n",
    "azure_search_endpoint = os.getenv(\"AZURE_SEARCH_ENDPOINT\")\n",
    "azure_search_key = os.getenv(\"AZURE_SEARCH_KEY\")\n",
    "index_name=\"myindex\"\n",
    "\n",
    "\n",
    "# Initialize your search client\n",
    "search_client = SearchClient(\n",
    "    endpoint=azure_search_endpoint,\n",
    "    index_name=index_name,\n",
    "    credential=AzureKeyCredential(azure_search_key)\n",
    ")\n",
    "\n",
    "# Get image chunks\n",
    "results = search_client.search(\n",
    "    search_text=\"*\",\n",
    "    filter=\"type eq 'image'\",\n",
    "    select=[\"id\", \"pdf_file\", \"page\", \"bounding_box\", \"text\", \"image_path\", \n",
    "           \"role\", \"confidence\", \"source\"],\n",
    "    top=1000\n",
    ")\n",
    "\n",
    "# Convert to DataFrame\n",
    "chunks = []\n",
    "for result in results:\n",
    "    chunks.append(dict(result))\n",
    "df = pd.DataFrame(chunks)\n",
    "\n",
    "# # Create and display the viewer\n",
    "# viewer = ImageCaptionViewer(df)\n",
    "# viewer.display()"
   ]
  },
  {
   "cell_type": "code",
   "execution_count": 4,
   "metadata": {},
   "outputs": [
    {
     "data": {
      "text/html": [
       "<div>\n",
       "<style scoped>\n",
       "    .dataframe tbody tr th:only-of-type {\n",
       "        vertical-align: middle;\n",
       "    }\n",
       "\n",
       "    .dataframe tbody tr th {\n",
       "        vertical-align: top;\n",
       "    }\n",
       "\n",
       "    .dataframe thead th {\n",
       "        text-align: right;\n",
       "    }\n",
       "</style>\n",
       "<table border=\"1\" class=\"dataframe\">\n",
       "  <thead>\n",
       "    <tr style=\"text-align: right;\">\n",
       "      <th></th>\n",
       "    </tr>\n",
       "  </thead>\n",
       "  <tbody>\n",
       "  </tbody>\n",
       "</table>\n",
       "</div>"
      ],
      "text/plain": [
       "Empty DataFrame\n",
       "Columns: []\n",
       "Index: []"
      ]
     },
     "execution_count": 4,
     "metadata": {},
     "output_type": "execute_result"
    }
   ],
   "source": [
    "df.head()"
   ]
  },
  {
   "cell_type": "code",
   "execution_count": 6,
   "metadata": {},
   "outputs": [],
   "source": [
    "for result in results:\n",
    "    print(result)"
   ]
  },
  {
   "cell_type": "code",
   "execution_count": null,
   "metadata": {},
   "outputs": [],
   "source": []
  }
 ],
 "metadata": {
  "kernelspec": {
   "display_name": "nougat",
   "language": "python",
   "name": "python3"
  },
  "language_info": {
   "codemirror_mode": {
    "name": "ipython",
    "version": 3
   },
   "file_extension": ".py",
   "mimetype": "text/x-python",
   "name": "python",
   "nbconvert_exporter": "python",
   "pygments_lexer": "ipython3",
   "version": "3.9.21"
  }
 },
 "nbformat": 4,
 "nbformat_minor": 2
}
