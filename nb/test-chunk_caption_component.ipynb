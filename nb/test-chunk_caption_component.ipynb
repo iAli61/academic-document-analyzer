{
 "cells": [
  {
   "cell_type": "code",
   "execution_count": 8,
   "metadata": {},
   "outputs": [],
   "source": [
    "import sys\n",
    "\n",
    "sys.path.append('../aml_pipeline/chuck_caption_component/')\n",
    "# enhanced_doc_analyzer_component/enhanced_document_analyzer\n",
    "\n",
    "\n",
    "from openai import AzureOpenAI\n",
    "\n",
    "\n",
    "from src import DocumentProcessor"
   ]
  },
  {
   "cell_type": "code",
   "execution_count": 9,
   "metadata": {},
   "outputs": [
    {
     "name": "stderr",
     "output_type": "stream",
     "text": [
      "Found the config file in: /config.json\n",
      "Overriding of current TracerProvider is not allowed\n",
      "Overriding of current LoggerProvider is not allowed\n",
      "Overriding of current MeterProvider is not allowed\n",
      "Attempting to instrument while already instrumented\n",
      "Attempting to instrument while already instrumented\n",
      "Attempting to instrument while already instrumented\n",
      "Attempting to instrument while already instrumented\n",
      "Attempting to instrument while already instrumented\n"
     ]
    }
   ],
   "source": [
    "# Example of registering the component in a workspace\n",
    "from azure.ai.ml import MLClient\n",
    "from azure.identity import DefaultAzureCredential\n",
    "\n",
    "# Get workspace\n",
    "ml_client = MLClient.from_config(\n",
    "    credential=DefaultAzureCredential()\n",
    ")"
   ]
  },
  {
   "cell_type": "code",
   "execution_count": null,
   "metadata": {},
   "outputs": [],
   "source": []
  },
  {
   "cell_type": "code",
   "execution_count": 10,
   "metadata": {},
   "outputs": [],
   "source": [
    "import dotenv\n",
    "import os\n",
    "import pandas as pd\n",
    "\n",
    "# Load the environment variables\n",
    "dotenv.load_dotenv()\n",
    "\n",
    "azure_openai_endpoint = os.getenv(\"AZURE_OPENAI_ENDPOINT\")\n",
    "azure_openai_key = os.getenv(\"AZURE_OPENAI_KEY\")\n",
    "\n",
    "# Initialize the OpenAI client\n",
    "openai_vision_client = AzureOpenAI(\n",
    "    azure_endpoint=azure_openai_endpoint, \n",
    "    api_key=azure_openai_key, \n",
    "    api_version='2023-03-15-preview'\n",
    "    )\n"
   ]
  },
  {
   "cell_type": "code",
   "execution_count": 18,
   "metadata": {},
   "outputs": [
    {
     "name": "stderr",
     "output_type": "stream",
     "text": [
      "Image file does not exist: output-azure/0.55/output-azure/0.55/1-s2.0-S0927796X2030053X-am.pdf/elements/picture/page_3_Picture_140002005117824.png\n",
      "Skipping caption generation for invalid image: output-azure/0.55/output-azure/0.55/1-s2.0-S0927796X2030053X-am.pdf/elements/picture/page_3_Picture_140002005117824.png\n",
      "Image file does not exist: output-azure/0.55/output-azure/0.55/1-s2.0-S0927796X2030053X-am.pdf/elements/caption/page_3_Caption_140002005117344.png\n",
      "Skipping caption generation for invalid image: output-azure/0.55/output-azure/0.55/1-s2.0-S0927796X2030053X-am.pdf/elements/caption/page_3_Caption_140002005117344.png\n",
      "Image file does not exist: output-azure/0.55/output-azure/0.55/1-s2.0-S0927796X2030053X-am.pdf/elements/picture/page_6_Picture_140002032123760.png\n",
      "Skipping caption generation for invalid image: output-azure/0.55/output-azure/0.55/1-s2.0-S0927796X2030053X-am.pdf/elements/picture/page_6_Picture_140002032123760.png\n",
      "Image file does not exist: output-azure/0.55/output-azure/0.55/1-s2.0-S0927796X2030053X-am.pdf/elements/picture/page_6_Picture_140002032121312.png\n",
      "Skipping caption generation for invalid image: output-azure/0.55/output-azure/0.55/1-s2.0-S0927796X2030053X-am.pdf/elements/picture/page_6_Picture_140002032121312.png\n",
      "Image file does not exist: output-azure/0.55/output-azure/0.55/1-s2.0-S0927796X2030053X-am.pdf/elements/picture/page_8_Picture_140002032311840.png\n",
      "Skipping caption generation for invalid image: output-azure/0.55/output-azure/0.55/1-s2.0-S0927796X2030053X-am.pdf/elements/picture/page_8_Picture_140002032311840.png\n",
      "Image file does not exist: output-azure/0.55/output-azure/0.55/1-s2.0-S0927796X2030053X-am.pdf/elements/picture/page_9_Picture_140002032332416.png\n",
      "Skipping caption generation for invalid image: output-azure/0.55/output-azure/0.55/1-s2.0-S0927796X2030053X-am.pdf/elements/picture/page_9_Picture_140002032332416.png\n",
      "Image file does not exist: output-azure/0.55/output-azure/0.55/1-s2.0-S0927796X2030053X-am.pdf/elements/caption/page_9_Caption_140002032332464.png\n",
      "Skipping caption generation for invalid image: output-azure/0.55/output-azure/0.55/1-s2.0-S0927796X2030053X-am.pdf/elements/caption/page_9_Caption_140002032332464.png\n",
      "Image file does not exist: output-azure/0.55/output-azure/0.55/1-s2.0-S0927796X2030053X-am.pdf/elements/picture/page_10_Picture_140002032344752.png\n",
      "Skipping caption generation for invalid image: output-azure/0.55/output-azure/0.55/1-s2.0-S0927796X2030053X-am.pdf/elements/picture/page_10_Picture_140002032344752.png\n",
      "Image file does not exist: output-azure/0.55/output-azure/0.55/1-s2.0-S0927796X2030053X-am.pdf/elements/caption/page_10_Caption_140002032343936.png\n",
      "Skipping caption generation for invalid image: output-azure/0.55/output-azure/0.55/1-s2.0-S0927796X2030053X-am.pdf/elements/caption/page_10_Caption_140002032343936.png\n",
      "Image file does not exist: output-azure/0.55/output-azure/0.55/1-s2.0-S0927796X2030053X-am.pdf/elements/picture/page_13_Picture_140002042071408.png\n",
      "Skipping caption generation for invalid image: output-azure/0.55/output-azure/0.55/1-s2.0-S0927796X2030053X-am.pdf/elements/picture/page_13_Picture_140002042071408.png\n",
      "Image file does not exist: output-azure/0.55/output-azure/0.55/1-s2.0-S0927796X2030053X-am.pdf/elements/caption/page_13_Caption_140002042072512.png\n",
      "Skipping caption generation for invalid image: output-azure/0.55/output-azure/0.55/1-s2.0-S0927796X2030053X-am.pdf/elements/caption/page_13_Caption_140002042072512.png\n",
      "Image file does not exist: output-azure/0.55/output-azure/0.55/1-s2.0-S0927796X2030053X-am.pdf/elements/picture/page_14_Picture_140002042139024.png\n",
      "Skipping caption generation for invalid image: output-azure/0.55/output-azure/0.55/1-s2.0-S0927796X2030053X-am.pdf/elements/picture/page_14_Picture_140002042139024.png\n",
      "Image file does not exist: output-azure/0.55/output-azure/0.55/1-s2.0-S0927796X2030053X-am.pdf/elements/caption/page_14_Caption_140002042142096.png\n",
      "Skipping caption generation for invalid image: output-azure/0.55/output-azure/0.55/1-s2.0-S0927796X2030053X-am.pdf/elements/caption/page_14_Caption_140002042142096.png\n",
      "Image file does not exist: output-azure/0.55/output-azure/0.55/1-s2.0-S0927796X2030053X-am.pdf/elements/picture/page_16_Picture_140002042179056.png\n",
      "Skipping caption generation for invalid image: output-azure/0.55/output-azure/0.55/1-s2.0-S0927796X2030053X-am.pdf/elements/picture/page_16_Picture_140002042179056.png\n",
      "Image file does not exist: output-azure/0.55/output-azure/0.55/1-s2.0-S0927796X2030053X-am.pdf/elements/caption/page_16_Caption_140002042178912.png\n",
      "Skipping caption generation for invalid image: output-azure/0.55/output-azure/0.55/1-s2.0-S0927796X2030053X-am.pdf/elements/caption/page_16_Caption_140002042178912.png\n"
     ]
    }
   ],
   "source": [
    "# Initialize document processor\n",
    "processor = DocumentProcessor(\n",
    "    input_folder=\"./output-azure/0.55/\",\n",
    "    output_folder=\"./output-azure-chucked/1-s2.0-S0927796X2030053X-am.pdf\",\n",
    "    openai_client=openai_vision_client,\n",
    "    vision_deployment_name=\"gpt-4v\",\n",
    "    max_chunk_length=512\n",
    ")\n",
    "\n",
    "stats, chunks_df = processor.process()"
   ]
  },
  {
   "cell_type": "code",
   "execution_count": 12,
   "metadata": {},
   "outputs": [
    {
     "data": {
      "text/plain": [
       "{'processed': 311,\n",
       " 'errors': 0,\n",
       " 'chunks': 412,\n",
       " 'input_file': 'output-azure/0.55/1-s2.0-S0927796X2030053X-am.pdf/paper_elements.csv',\n",
       " 'total_rows': 311,\n",
       " 'timestamp': '2025-02-10T14:05:55.715121',\n",
       " 'completion_status': 'success'}"
      ]
     },
     "execution_count": 12,
     "metadata": {},
     "output_type": "execute_result"
    }
   ],
   "source": [
    "stats"
   ]
  },
  {
   "cell_type": "code",
   "execution_count": 13,
   "metadata": {},
   "outputs": [
    {
     "data": {
      "text/plain": [
       "'output-azure-chucked/1-s2.0-S0927796X2030053X-am.pdf/processed_chunks.jsonl'"
      ]
     },
     "execution_count": 13,
     "metadata": {},
     "output_type": "execute_result"
    }
   ],
   "source": [
    "chunks_df"
   ]
  },
  {
   "cell_type": "code",
   "execution_count": 14,
   "metadata": {},
   "outputs": [
    {
     "data": {
      "application/vnd.jupyter.widget-view+json": {
       "model_id": "004285d3b81f4cc8bad38c5f1b23ad69",
       "version_major": 2,
       "version_minor": 0
      },
      "text/plain": [
       "VBox(children=(Image(value=b'', layout=\"Layout(height='auto', width='800px')\"), HTML(value=\"\\n            <div…"
      ]
     },
     "metadata": {},
     "output_type": "display_data"
    }
   ],
   "source": [
    "from retriever_utils import ImageCaptionViewer\n",
    "\n",
    "from azure.search.documents import SearchClient\n",
    "from azure.core.credentials import AzureKeyCredential\n",
    "import pandas as pd\n",
    "\n",
    "azure_search_endpoint = os.getenv(\"AZURE_SEARCH_ENDPOINT\")\n",
    "azure_search_key = os.getenv(\"AZURE_SEARCH_KEY\")\n",
    "index_name=\"myindex\"\n",
    "\n",
    "\n",
    "# Initialize your search client\n",
    "search_client = SearchClient(\n",
    "    endpoint=azure_search_endpoint,\n",
    "    index_name=index_name,\n",
    "    credential=AzureKeyCredential(azure_search_key)\n",
    ")\n",
    "\n",
    "# Get image chunks\n",
    "results = search_client.search(\n",
    "    search_text=\"*\",\n",
    "    filter=\"type eq 'image'\",\n",
    "    select=[\"id\", \"pdf_file\", \"page\", \"bounding_box\", \"text\", \"image_path\", \n",
    "           \"role\", \"confidence\", \"source\"],\n",
    "    top=1000\n",
    ")\n",
    "\n",
    "# Convert to DataFrame\n",
    "chunks = []\n",
    "for result in results:\n",
    "    chunks.append(dict(result))\n",
    "df = pd.DataFrame(chunks)\n",
    "\n",
    "# # Create and display the viewer\n",
    "viewer = ImageCaptionViewer(df)\n",
    "viewer.display()"
   ]
  },
  {
   "cell_type": "code",
   "execution_count": 15,
   "metadata": {},
   "outputs": [
    {
     "data": {
      "text/plain": [
       "Index(['source', 'bounding_box', 'text', 'id', 'role', 'image_path',\n",
       "       'confidence', 'page', 'pdf_file', '@search.score',\n",
       "       '@search.reranker_score', '@search.highlights', '@search.captions'],\n",
       "      dtype='object')"
      ]
     },
     "execution_count": 15,
     "metadata": {},
     "output_type": "execute_result"
    }
   ],
   "source": [
    "df.columns\n"
   ]
  },
  {
   "cell_type": "code",
   "execution_count": 16,
   "metadata": {},
   "outputs": [],
   "source": [
    "for result in results:\n",
    "    print(result)"
   ]
  },
  {
   "cell_type": "code",
   "execution_count": null,
   "metadata": {},
   "outputs": [],
   "source": []
  }
 ],
 "metadata": {
  "kernelspec": {
   "display_name": "nougat",
   "language": "python",
   "name": "python3"
  },
  "language_info": {
   "codemirror_mode": {
    "name": "ipython",
    "version": 3
   },
   "file_extension": ".py",
   "mimetype": "text/x-python",
   "name": "python",
   "nbconvert_exporter": "python",
   "pygments_lexer": "ipython3",
   "version": "3.9.21"
  }
 },
 "nbformat": 4,
 "nbformat_minor": 2
}
