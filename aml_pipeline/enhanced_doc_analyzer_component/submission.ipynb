{
 "cells": [
  {
   "cell_type": "code",
   "execution_count": null,
   "metadata": {},
   "outputs": [],
   "source": []
  },
  {
   "cell_type": "code",
   "execution_count": 1,
   "metadata": {},
   "outputs": [
    {
     "name": "stderr",
     "output_type": "stream",
     "text": [
      "Found the config file in: /config.json\n"
     ]
    }
   ],
   "source": [
    "# Example of registering the component in a workspace\n",
    "from azure.ai.ml import MLClient\n",
    "from azure.identity import DefaultAzureCredential\n",
    "\n",
    "# Get workspace\n",
    "ml_client = MLClient.from_config(\n",
    "    credential=DefaultAzureCredential()\n",
    ")"
   ]
  },
  {
   "cell_type": "code",
   "execution_count": 2,
   "metadata": {},
   "outputs": [],
   "source": [
    "# add .. to sys.path\n",
    "\n",
    "import sys\n",
    "sys.path.append(\"..\")"
   ]
  },
  {
   "cell_type": "code",
   "execution_count": 8,
   "metadata": {},
   "outputs": [
    {
     "name": "stderr",
     "output_type": "stream",
     "text": [
      "pathOnCompute is not a known attribute of class <class 'azure.ai.ml._restclient.v2023_04_01_preview.models._models_py3.UriFolderJobOutput'> and will be ignored\n"
     ]
    },
    {
     "name": "stdout",
     "output_type": "stream",
     "text": [
      "RunId: gray_box_7qxvbklp8g\n",
      "Web View: https://ml.azure.com/runs/gray_box_7qxvbklp8g?wsid=/subscriptions/f804f2da-c27b-45ac-bf80-16d4d331776d/resourcegroups/rg-acadocser-dev-04/workspaces/mlw-acadocser-dev-04\n",
      "\n",
      "Streaming logs/azureml/executionlogs.txt\n",
      "========================================\n",
      "\n",
      "[2025-02-28 13:33:43Z] Submitting 1 runs, first five are: 258983de:921f302e-9bd3-4751-a931-ef0c17c24381\n",
      "[2025-02-28 13:47:52Z] Completing processing run id 921f302e-9bd3-4751-a931-ef0c17c24381.\n",
      "\n",
      "Execution Summary\n",
      "=================\n",
      "RunId: gray_box_7qxvbklp8g\n",
      "Web View: https://ml.azure.com/runs/gray_box_7qxvbklp8g?wsid=/subscriptions/f804f2da-c27b-45ac-bf80-16d4d331776d/resourcegroups/rg-acadocser-dev-04/workspaces/mlw-acadocser-dev-04\n",
      "\n",
      "\n",
      "Pipeline outputs:\n",
      "Output folder: ${{parent.outputs.output_dir}}\n"
     ]
    }
   ],
   "source": [
    "from azure.ai.ml import dsl, Input, load_component, load_environment\n",
    "from azure.ai.ml.entities import Data\n",
    "from azure.ai.ml.constants import AssetTypes\n",
    "\n",
    "\n",
    "# Load component and environment definitions\n",
    "analyzer_component = load_component(source=\"./doc_analyzer_component.yaml\")\n",
    "\n",
    "   \n",
    "@dsl.pipeline(\n",
    "    description=\"Document analysis pipeline\",\n",
    "    default_compute=\"gpu-cluster-a100\"\n",
    ")\n",
    "def doc_analysis_pipeline(\n",
    "    pdf_folder,\n",
    "    doc_intel_connection_id: str,\n",
    "    confidence_threshold: float = 0.5,\n",
    "    min_length: int = 10,\n",
    "    overlap_threshold: float = 0.5,\n",
    "    ignore_roles: str = \"pageFooter,footnote,pageHeader\",\n",
    "    compute_name: str = \"gpu-cluster-a100\"\n",
    "):\n",
    "    # Define the analysis job\n",
    "    analysis_job = analyzer_component(\n",
    "        input_folder=pdf_folder,  # Pass the Input object directly\n",
    "        doc_intel_connection_id=doc_intel_connection_id,\n",
    "        confidence_threshold=confidence_threshold,\n",
    "        min_length=min_length,\n",
    "        overlap_threshold=overlap_threshold,\n",
    "        ignore_roles=ignore_roles\n",
    "    )\n",
    "\n",
    "    analysis_job.compute = compute_name\n",
    "    \n",
    "    return {\n",
    "        \"output_dir\": analysis_job.outputs.output_dir,\n",
    "    }\n",
    "\n",
    "# Get the document intelligence connection\n",
    "doc_intelligence_connection = ml_client.connections.get(\"doc-intelligence-connection\")\n",
    "\n",
    "# Get the data asset with version\n",
    "raw_papers = ml_client.data.get(\"raw_papers\", version=\"1\")\n",
    "\n",
    "# Create Input object for the data\n",
    "pdf_input = Input(type=AssetTypes.URI_FOLDER, path=raw_papers.path)\n",
    "\n",
    "# Create and submit the pipeline\n",
    "pipeline_job = ml_client.jobs.create_or_update(\n",
    "    doc_analysis_pipeline(\n",
    "        pdf_folder=pdf_input,  # Pass the Input object\n",
    "        doc_intel_connection_id=doc_intelligence_connection.id,\n",
    "        compute_name=\"gpu-cluster-a100\",\n",
    "        confidence_threshold=0.3,\n",
    "        min_length=15,\n",
    "        overlap_threshold=0.7,\n",
    "        ignore_roles=\"pageFooter,footnote,pageHeader\"\n",
    "    ),\n",
    "    experiment_name=\"document-analysis\",\n",
    ")\n",
    "\n",
    "# Optional: Stream the job logs\n",
    "try:\n",
    "    ml_client.jobs.stream(pipeline_job.name)\n",
    "except Exception as e:\n",
    "    print(f\"Error streaming logs: {str(e)}\")\n",
    "\n",
    "# Get the outputs\n",
    "try:\n",
    "    job_outputs = ml_client.jobs.get(pipeline_job.name).outputs\n",
    "    print(\"\\nPipeline outputs:\")\n",
    "    print(f\"Output folder: {job_outputs['output_dir']}\")\n",
    "except Exception as e:\n",
    "    print(f\"Error getting job outputs: {str(e)}\")"
   ]
  },
  {
   "cell_type": "code",
   "execution_count": 6,
   "metadata": {},
   "outputs": [
    {
     "ename": "NameError",
     "evalue": "name 'results' is not defined",
     "output_type": "error",
     "traceback": [
      "\u001b[0;31m---------------------------------------------------------------------------\u001b[0m",
      "\u001b[0;31mNameError\u001b[0m                                 Traceback (most recent call last)",
      "Cell \u001b[0;32mIn[6], line 1\u001b[0m\n\u001b[0;32m----> 1\u001b[0m \u001b[43mresults\u001b[49m\n",
      "\u001b[0;31mNameError\u001b[0m: name 'results' is not defined"
     ]
    }
   ],
   "source": [
    "results"
   ]
  },
  {
   "cell_type": "code",
   "execution_count": 6,
   "metadata": {},
   "outputs": [
    {
     "ename": "ResourceNotFoundError",
     "evalue": "(UserError) User error when calling GenericAssetMLIndexServiceClient.MoveNext. Service invocation failed!\r\nRequest: GET swedencentral.api.azureml.ms/genericasset/subscriptions/f804f2da-c27b-45ac-bf80-16d4d331776d/resourceGroups/rg-airesearcher-dev-01/providers/Microsoft.MachineLearningServices/workspaces/mlw-airesearcher-dev-01/indexes/raw-papers/versions/1\r\nStatus Code: 404 NotFound\r\nError Code: UserError/NotFoundError\r\nReason Phrase: Asset with Asset ID was not found\r\nResponse Body: {\"error\":{\"code\":\"UserError\",\"message\":\"Asset with Asset ID was not found\",\"details\":[],\"innerError\":{\"code\":\"NotFoundError\"}},\"correlation\":{\"operation\":\"9f169ae04ea0a4554e00c1e0086dc283\",\"request\":\"2eb5ebcf4929e1f8\"},\"environment\":\"swedencentral\",\"location\":\"swedencentral\",\"time\":\"2025-02-07T20:42:40.6259304+00:00\",\"componentName\":\"genericasset\",\"statusCode\":404}\nCode: UserError\nMessage: User error when calling GenericAssetMLIndexServiceClient.MoveNext. Service invocation failed!\r\nRequest: GET swedencentral.api.azureml.ms/genericasset/subscriptions/f804f2da-c27b-45ac-bf80-16d4d331776d/resourceGroups/rg-airesearcher-dev-01/providers/Microsoft.MachineLearningServices/workspaces/mlw-airesearcher-dev-01/indexes/raw-papers/versions/1\r\nStatus Code: 404 NotFound\r\nError Code: UserError/NotFoundError\r\nReason Phrase: Asset with Asset ID was not found\r\nResponse Body: {\"error\":{\"code\":\"UserError\",\"message\":\"Asset with Asset ID was not found\",\"details\":[],\"innerError\":{\"code\":\"NotFoundError\"}},\"correlation\":{\"operation\":\"9f169ae04ea0a4554e00c1e0086dc283\",\"request\":\"2eb5ebcf4929e1f8\"},\"environment\":\"swedencentral\",\"location\":\"swedencentral\",\"time\":\"2025-02-07T20:42:40.6259304+00:00\",\"componentName\":\"genericasset\",\"statusCode\":404}",
     "output_type": "error",
     "traceback": [
      "\u001b[0;31m---------------------------------------------------------------------------\u001b[0m",
      "\u001b[0;31mResourceNotFoundError\u001b[0m                     Traceback (most recent call last)",
      "Cell \u001b[0;32mIn[6], line 2\u001b[0m\n\u001b[1;32m      1\u001b[0m doc_intelligence_connection \u001b[38;5;241m=\u001b[39m ml_client\u001b[38;5;241m.\u001b[39mconnections\u001b[38;5;241m.\u001b[39mget(\u001b[38;5;124m\"\u001b[39m\u001b[38;5;124mmy-doc-intelligence-connection\u001b[39m\u001b[38;5;124m\"\u001b[39m)\n\u001b[0;32m----> 2\u001b[0m raw_papers \u001b[38;5;241m=\u001b[39m \u001b[43mml_client\u001b[49m\u001b[38;5;241;43m.\u001b[39;49m\u001b[43mdata\u001b[49m\u001b[38;5;241;43m.\u001b[39;49m\u001b[43mget\u001b[49m\u001b[43m(\u001b[49m\u001b[38;5;124;43m\"\u001b[39;49m\u001b[38;5;124;43mraw-papers\u001b[39;49m\u001b[38;5;124;43m\"\u001b[39;49m\u001b[43m,\u001b[49m\u001b[43m \u001b[49m\u001b[43mversion\u001b[49m\u001b[38;5;241;43m=\u001b[39;49m\u001b[38;5;124;43m\"\u001b[39;49m\u001b[38;5;124;43m1\u001b[39;49m\u001b[38;5;124;43m\"\u001b[39;49m\u001b[43m)\u001b[49m \n\u001b[1;32m      4\u001b[0m \u001b[38;5;66;03m# Create the pipeline\u001b[39;00m\n\u001b[1;32m      5\u001b[0m pipeline \u001b[38;5;241m=\u001b[39m doc_analysis_pipeline(\n\u001b[1;32m      6\u001b[0m     pdf_folder\u001b[38;5;241m=\u001b[39mraw_papers\u001b[38;5;241m.\u001b[39mpath,\n\u001b[1;32m      7\u001b[0m     doc_intel_connection_id\u001b[38;5;241m=\u001b[39mdoc_intelligence_connection\u001b[38;5;241m.\u001b[39mid,  \u001b[38;5;66;03m# Your connection ID\u001b[39;00m\n\u001b[0;32m   (...)\u001b[0m\n\u001b[1;32m     12\u001b[0m     ignore_roles\u001b[38;5;241m=\u001b[39m\u001b[38;5;124m\"\u001b[39m\u001b[38;5;124mpageFooter,footnote,pageHeader\u001b[39m\u001b[38;5;124m\"\u001b[39m\n\u001b[1;32m     13\u001b[0m )\n",
      "File \u001b[0;32m/anaconda/envs/nougat/lib/python3.9/site-packages/azure/ai/ml/_telemetry/activity.py:288\u001b[0m, in \u001b[0;36mmonitor_with_activity.<locals>.monitor.<locals>.wrapper\u001b[0;34m(*args, **kwargs)\u001b[0m\n\u001b[1;32m    284\u001b[0m     \u001b[38;5;28;01mwith\u001b[39;00m tracer\u001b[38;5;241m.\u001b[39mstart_as_current_span(ACTIVITY_SPAN):\n\u001b[1;32m    285\u001b[0m         \u001b[38;5;28;01mwith\u001b[39;00m log_activity(\n\u001b[1;32m    286\u001b[0m             logger\u001b[38;5;241m.\u001b[39mpackage_logger, activity_name \u001b[38;5;129;01mor\u001b[39;00m f\u001b[38;5;241m.\u001b[39m\u001b[38;5;18m__name__\u001b[39m, activity_type, custom_dimensions\n\u001b[1;32m    287\u001b[0m         ):\n\u001b[0;32m--> 288\u001b[0m             \u001b[38;5;28;01mreturn\u001b[39;00m \u001b[43mf\u001b[49m\u001b[43m(\u001b[49m\u001b[38;5;241;43m*\u001b[39;49m\u001b[43margs\u001b[49m\u001b[43m,\u001b[49m\u001b[43m \u001b[49m\u001b[38;5;241;43m*\u001b[39;49m\u001b[38;5;241;43m*\u001b[39;49m\u001b[43mkwargs\u001b[49m\u001b[43m)\u001b[49m\n\u001b[1;32m    289\u001b[0m \u001b[38;5;28;01melif\u001b[39;00m \u001b[38;5;28mhasattr\u001b[39m(logger, \u001b[38;5;124m\"\u001b[39m\u001b[38;5;124mpackage_logger\u001b[39m\u001b[38;5;124m\"\u001b[39m):\n\u001b[1;32m    290\u001b[0m     \u001b[38;5;28;01mwith\u001b[39;00m log_activity(logger\u001b[38;5;241m.\u001b[39mpackage_logger, activity_name \u001b[38;5;129;01mor\u001b[39;00m f\u001b[38;5;241m.\u001b[39m\u001b[38;5;18m__name__\u001b[39m, activity_type, custom_dimensions):\n",
      "File \u001b[0;32m/anaconda/envs/nougat/lib/python3.9/site-packages/azure/ai/ml/operations/_data_operations.py:276\u001b[0m, in \u001b[0;36mDataOperations.get\u001b[0;34m(self, name, version, label)\u001b[0m\n\u001b[1;32m    268\u001b[0m         msg \u001b[38;5;241m=\u001b[39m \u001b[38;5;124m\"\u001b[39m\u001b[38;5;124mMust provide either version or label.\u001b[39m\u001b[38;5;124m\"\u001b[39m\n\u001b[1;32m    269\u001b[0m         \u001b[38;5;28;01mraise\u001b[39;00m ValidationException(\n\u001b[1;32m    270\u001b[0m             message\u001b[38;5;241m=\u001b[39mmsg,\n\u001b[1;32m    271\u001b[0m             target\u001b[38;5;241m=\u001b[39mErrorTarget\u001b[38;5;241m.\u001b[39mDATA,\n\u001b[0;32m   (...)\u001b[0m\n\u001b[1;32m    274\u001b[0m             error_type\u001b[38;5;241m=\u001b[39mValidationErrorType\u001b[38;5;241m.\u001b[39mMISSING_FIELD,\n\u001b[1;32m    275\u001b[0m         )\n\u001b[0;32m--> 276\u001b[0m     data_version_resource \u001b[38;5;241m=\u001b[39m \u001b[38;5;28;43mself\u001b[39;49m\u001b[38;5;241;43m.\u001b[39;49m\u001b[43m_get\u001b[49m\u001b[43m(\u001b[49m\u001b[43mname\u001b[49m\u001b[43m,\u001b[49m\u001b[43m \u001b[49m\u001b[43mversion\u001b[49m\u001b[43m)\u001b[49m\n\u001b[1;32m    277\u001b[0m     \u001b[38;5;28;01mreturn\u001b[39;00m Data\u001b[38;5;241m.\u001b[39m_from_rest_object(data_version_resource)\n\u001b[1;32m    278\u001b[0m \u001b[38;5;28;01mexcept\u001b[39;00m (ValidationException, SchemaValidationError) \u001b[38;5;28;01mas\u001b[39;00m ex:\n",
      "File \u001b[0;32m/anaconda/envs/nougat/lib/python3.9/site-packages/azure/ai/ml/operations/_data_operations.py:205\u001b[0m, in \u001b[0;36mDataOperations._get\u001b[0;34m(self, name, version)\u001b[0m\n\u001b[1;32m    194\u001b[0m \u001b[38;5;28;01mdef\u001b[39;00m\u001b[38;5;250m \u001b[39m\u001b[38;5;21m_get\u001b[39m(\u001b[38;5;28mself\u001b[39m, name: Optional[\u001b[38;5;28mstr\u001b[39m], version: Optional[\u001b[38;5;28mstr\u001b[39m] \u001b[38;5;241m=\u001b[39m \u001b[38;5;28;01mNone\u001b[39;00m) \u001b[38;5;241m-\u001b[39m\u001b[38;5;241m>\u001b[39m Data:\n\u001b[1;32m    195\u001b[0m     \u001b[38;5;28;01mif\u001b[39;00m version:\n\u001b[1;32m    196\u001b[0m         \u001b[38;5;28;01mreturn\u001b[39;00m (\n\u001b[1;32m    197\u001b[0m             \u001b[38;5;28mself\u001b[39m\u001b[38;5;241m.\u001b[39m_operation\u001b[38;5;241m.\u001b[39mget(\n\u001b[1;32m    198\u001b[0m                 name\u001b[38;5;241m=\u001b[39mname,\n\u001b[1;32m    199\u001b[0m                 version\u001b[38;5;241m=\u001b[39mversion,\n\u001b[1;32m    200\u001b[0m                 registry_name\u001b[38;5;241m=\u001b[39m\u001b[38;5;28mself\u001b[39m\u001b[38;5;241m.\u001b[39m_registry_name,\n\u001b[1;32m    201\u001b[0m                 \u001b[38;5;241m*\u001b[39m\u001b[38;5;241m*\u001b[39m\u001b[38;5;28mself\u001b[39m\u001b[38;5;241m.\u001b[39m_scope_kwargs,\n\u001b[1;32m    202\u001b[0m                 \u001b[38;5;241m*\u001b[39m\u001b[38;5;241m*\u001b[39m\u001b[38;5;28mself\u001b[39m\u001b[38;5;241m.\u001b[39m_init_kwargs,\n\u001b[1;32m    203\u001b[0m             )\n\u001b[1;32m    204\u001b[0m             \u001b[38;5;28;01mif\u001b[39;00m \u001b[38;5;28mself\u001b[39m\u001b[38;5;241m.\u001b[39m_registry_name\n\u001b[0;32m--> 205\u001b[0m             \u001b[38;5;28;01melse\u001b[39;00m \u001b[38;5;28;43mself\u001b[39;49m\u001b[38;5;241;43m.\u001b[39;49m\u001b[43m_operation\u001b[49m\u001b[38;5;241;43m.\u001b[39;49m\u001b[43mget\u001b[49m\u001b[43m(\u001b[49m\n\u001b[1;32m    206\u001b[0m \u001b[43m                \u001b[49m\u001b[43mresource_group_name\u001b[49m\u001b[38;5;241;43m=\u001b[39;49m\u001b[38;5;28;43mself\u001b[39;49m\u001b[38;5;241;43m.\u001b[39;49m\u001b[43m_resource_group_name\u001b[49m\u001b[43m,\u001b[49m\n\u001b[1;32m    207\u001b[0m \u001b[43m                \u001b[49m\u001b[43mworkspace_name\u001b[49m\u001b[38;5;241;43m=\u001b[39;49m\u001b[38;5;28;43mself\u001b[39;49m\u001b[38;5;241;43m.\u001b[39;49m\u001b[43m_workspace_name\u001b[49m\u001b[43m,\u001b[49m\n\u001b[1;32m    208\u001b[0m \u001b[43m                \u001b[49m\u001b[43mname\u001b[49m\u001b[38;5;241;43m=\u001b[39;49m\u001b[43mname\u001b[49m\u001b[43m,\u001b[49m\n\u001b[1;32m    209\u001b[0m \u001b[43m                \u001b[49m\u001b[43mversion\u001b[49m\u001b[38;5;241;43m=\u001b[39;49m\u001b[43mversion\u001b[49m\u001b[43m,\u001b[49m\n\u001b[1;32m    210\u001b[0m \u001b[43m                \u001b[49m\u001b[38;5;241;43m*\u001b[39;49m\u001b[38;5;241;43m*\u001b[39;49m\u001b[38;5;28;43mself\u001b[39;49m\u001b[38;5;241;43m.\u001b[39;49m\u001b[43m_init_kwargs\u001b[49m\u001b[43m,\u001b[49m\n\u001b[1;32m    211\u001b[0m \u001b[43m            \u001b[49m\u001b[43m)\u001b[49m\n\u001b[1;32m    212\u001b[0m         )\n\u001b[1;32m    213\u001b[0m     \u001b[38;5;28;01mreturn\u001b[39;00m (\n\u001b[1;32m    214\u001b[0m         \u001b[38;5;28mself\u001b[39m\u001b[38;5;241m.\u001b[39m_container_operation\u001b[38;5;241m.\u001b[39mget(\n\u001b[1;32m    215\u001b[0m             name\u001b[38;5;241m=\u001b[39mname,\n\u001b[0;32m   (...)\u001b[0m\n\u001b[1;32m    226\u001b[0m         )\n\u001b[1;32m    227\u001b[0m     )\n",
      "File \u001b[0;32m/anaconda/envs/nougat/lib/python3.9/site-packages/azure/core/tracing/decorator.py:116\u001b[0m, in \u001b[0;36mdistributed_trace.<locals>.decorator.<locals>.wrapper_use_tracer\u001b[0;34m(*args, **kwargs)\u001b[0m\n\u001b[1;32m    114\u001b[0m \u001b[38;5;28;01mfor\u001b[39;00m key, value \u001b[38;5;129;01min\u001b[39;00m func_tracing_attributes\u001b[38;5;241m.\u001b[39mitems():\n\u001b[1;32m    115\u001b[0m     span\u001b[38;5;241m.\u001b[39madd_attribute(key, value)\n\u001b[0;32m--> 116\u001b[0m \u001b[38;5;28;01mreturn\u001b[39;00m \u001b[43mfunc\u001b[49m\u001b[43m(\u001b[49m\u001b[38;5;241;43m*\u001b[39;49m\u001b[43margs\u001b[49m\u001b[43m,\u001b[49m\u001b[43m \u001b[49m\u001b[38;5;241;43m*\u001b[39;49m\u001b[38;5;241;43m*\u001b[39;49m\u001b[43mkwargs\u001b[49m\u001b[43m)\u001b[49m\n",
      "File \u001b[0;32m/anaconda/envs/nougat/lib/python3.9/site-packages/azure/ai/ml/_restclient/v2023_04_01_preview/operations/_data_versions_operations.py:487\u001b[0m, in \u001b[0;36mDataVersionsOperations.get\u001b[0;34m(self, resource_group_name, workspace_name, name, version, **kwargs)\u001b[0m\n\u001b[1;32m    484\u001b[0m response \u001b[38;5;241m=\u001b[39m pipeline_response\u001b[38;5;241m.\u001b[39mhttp_response\n\u001b[1;32m    486\u001b[0m \u001b[38;5;28;01mif\u001b[39;00m response\u001b[38;5;241m.\u001b[39mstatus_code \u001b[38;5;129;01mnot\u001b[39;00m \u001b[38;5;129;01min\u001b[39;00m [\u001b[38;5;241m200\u001b[39m]:\n\u001b[0;32m--> 487\u001b[0m     \u001b[43mmap_error\u001b[49m\u001b[43m(\u001b[49m\u001b[43mstatus_code\u001b[49m\u001b[38;5;241;43m=\u001b[39;49m\u001b[43mresponse\u001b[49m\u001b[38;5;241;43m.\u001b[39;49m\u001b[43mstatus_code\u001b[49m\u001b[43m,\u001b[49m\u001b[43m \u001b[49m\u001b[43mresponse\u001b[49m\u001b[38;5;241;43m=\u001b[39;49m\u001b[43mresponse\u001b[49m\u001b[43m,\u001b[49m\u001b[43m \u001b[49m\u001b[43merror_map\u001b[49m\u001b[38;5;241;43m=\u001b[39;49m\u001b[43merror_map\u001b[49m\u001b[43m)\u001b[49m\n\u001b[1;32m    488\u001b[0m     error \u001b[38;5;241m=\u001b[39m \u001b[38;5;28mself\u001b[39m\u001b[38;5;241m.\u001b[39m_deserialize\u001b[38;5;241m.\u001b[39mfailsafe_deserialize(_models\u001b[38;5;241m.\u001b[39mErrorResponse, pipeline_response)\n\u001b[1;32m    489\u001b[0m     \u001b[38;5;28;01mraise\u001b[39;00m HttpResponseError(response\u001b[38;5;241m=\u001b[39mresponse, model\u001b[38;5;241m=\u001b[39merror, error_format\u001b[38;5;241m=\u001b[39mARMErrorFormat)\n",
      "File \u001b[0;32m/anaconda/envs/nougat/lib/python3.9/site-packages/azure/core/exceptions.py:163\u001b[0m, in \u001b[0;36mmap_error\u001b[0;34m(status_code, response, error_map)\u001b[0m\n\u001b[1;32m    161\u001b[0m     \u001b[38;5;28;01mreturn\u001b[39;00m\n\u001b[1;32m    162\u001b[0m error \u001b[38;5;241m=\u001b[39m error_type(response\u001b[38;5;241m=\u001b[39mresponse)\n\u001b[0;32m--> 163\u001b[0m \u001b[38;5;28;01mraise\u001b[39;00m error\n",
      "\u001b[0;31mResourceNotFoundError\u001b[0m: (UserError) User error when calling GenericAssetMLIndexServiceClient.MoveNext. Service invocation failed!\r\nRequest: GET swedencentral.api.azureml.ms/genericasset/subscriptions/f804f2da-c27b-45ac-bf80-16d4d331776d/resourceGroups/rg-airesearcher-dev-01/providers/Microsoft.MachineLearningServices/workspaces/mlw-airesearcher-dev-01/indexes/raw-papers/versions/1\r\nStatus Code: 404 NotFound\r\nError Code: UserError/NotFoundError\r\nReason Phrase: Asset with Asset ID was not found\r\nResponse Body: {\"error\":{\"code\":\"UserError\",\"message\":\"Asset with Asset ID was not found\",\"details\":[],\"innerError\":{\"code\":\"NotFoundError\"}},\"correlation\":{\"operation\":\"9f169ae04ea0a4554e00c1e0086dc283\",\"request\":\"2eb5ebcf4929e1f8\"},\"environment\":\"swedencentral\",\"location\":\"swedencentral\",\"time\":\"2025-02-07T20:42:40.6259304+00:00\",\"componentName\":\"genericasset\",\"statusCode\":404}\nCode: UserError\nMessage: User error when calling GenericAssetMLIndexServiceClient.MoveNext. Service invocation failed!\r\nRequest: GET swedencentral.api.azureml.ms/genericasset/subscriptions/f804f2da-c27b-45ac-bf80-16d4d331776d/resourceGroups/rg-airesearcher-dev-01/providers/Microsoft.MachineLearningServices/workspaces/mlw-airesearcher-dev-01/indexes/raw-papers/versions/1\r\nStatus Code: 404 NotFound\r\nError Code: UserError/NotFoundError\r\nReason Phrase: Asset with Asset ID was not found\r\nResponse Body: {\"error\":{\"code\":\"UserError\",\"message\":\"Asset with Asset ID was not found\",\"details\":[],\"innerError\":{\"code\":\"NotFoundError\"}},\"correlation\":{\"operation\":\"9f169ae04ea0a4554e00c1e0086dc283\",\"request\":\"2eb5ebcf4929e1f8\"},\"environment\":\"swedencentral\",\"location\":\"swedencentral\",\"time\":\"2025-02-07T20:42:40.6259304+00:00\",\"componentName\":\"genericasset\",\"statusCode\":404}"
     ]
    }
   ],
   "source": [
    "doc_intelligence_connection = ml_client.connections.get(\"my-doc-intelligence-connection\")\n",
    "raw_papers = ml_client.data.get(\"raw-papers\", version=\"1\") \n",
    "\n",
    "# Create the pipeline\n",
    "pipeline = doc_analysis_pipeline(\n",
    "    pdf_folder=raw_papers.path,\n",
    "    doc_intel_connection_id=doc_intelligence_connection.id,  # Your connection ID\n",
    "    compute_name=\"hp-gpu-cluster\",\n",
    "    confidence_threshold=0.3,\n",
    "    min_length=15,\n",
    "    overlap_threshold=0.7,\n",
    "    ignore_roles=\"pageFooter,footnote,pageHeader\"\n",
    ")\n",
    "\n",
    "# Submit the pipeline job\n",
    "pipeline_job = ml_client.jobs.create_or_update(\n",
    "    pipeline,\n",
    "    experiment_name=\"document-analysis\",\n",
    ")\n",
    "\n",
    "# Wait for the job to complete\n",
    "# ml_client.jobs.stream(pipeline_job.name)\n",
    "\n",
    "# # Get the outputs\n",
    "# job_outputs = ml_client.jobs.get(pipeline_job.name).outputs\n",
    "\n",
    "# print(\"\\nPipeline outputs:\")\n",
    "# print(f\"Output folder: {job_outputs['output_dir']}\")\n",
    "\n"
   ]
  },
  {
   "cell_type": "code",
   "execution_count": null,
   "metadata": {},
   "outputs": [],
   "source": []
  }
 ],
 "metadata": {
  "kernelspec": {
   "display_name": "azureml_py310_sdkv2",
   "language": "python",
   "name": "python3"
  },
  "language_info": {
   "codemirror_mode": {
    "name": "ipython",
    "version": 3
   },
   "file_extension": ".py",
   "mimetype": "text/x-python",
   "name": "python",
   "nbconvert_exporter": "python",
   "pygments_lexer": "ipython3",
   "version": "3.10.14"
  }
 },
 "nbformat": 4,
 "nbformat_minor": 2
}
