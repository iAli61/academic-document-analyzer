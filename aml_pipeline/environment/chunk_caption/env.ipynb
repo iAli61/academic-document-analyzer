{
 "cells": [
  {
   "cell_type": "code",
   "execution_count": 1,
   "metadata": {
    "tags": []
   },
   "outputs": [
    {
     "name": "stdout",
     "output_type": "stream",
     "text": [
      "Requirement already satisfied: tiktoken in /anaconda/envs/azureml_py310_sdkv2/lib/python3.10/site-packages (0.8.0)\n",
      "Requirement already satisfied: regex>=2022.1.18 in /anaconda/envs/azureml_py310_sdkv2/lib/python3.10/site-packages (from tiktoken) (2024.11.6)\n",
      "Requirement already satisfied: requests>=2.26.0 in /anaconda/envs/azureml_py310_sdkv2/lib/python3.10/site-packages (from tiktoken) (2.32.3)\n",
      "Requirement already satisfied: charset-normalizer<4,>=2 in /anaconda/envs/azureml_py310_sdkv2/lib/python3.10/site-packages (from requests>=2.26.0->tiktoken) (3.3.2)\n",
      "Requirement already satisfied: idna<4,>=2.5 in /anaconda/envs/azureml_py310_sdkv2/lib/python3.10/site-packages (from requests>=2.26.0->tiktoken) (3.10)\n",
      "Requirement already satisfied: urllib3<3,>=1.21.1 in /anaconda/envs/azureml_py310_sdkv2/lib/python3.10/site-packages (from requests>=2.26.0->tiktoken) (2.2.3)\n",
      "Requirement already satisfied: certifi>=2017.4.17 in /anaconda/envs/azureml_py310_sdkv2/lib/python3.10/site-packages (from requests>=2.26.0->tiktoken) (2024.8.30)\n",
      "Note: you may need to restart the kernel to use updated packages.\n"
     ]
    }
   ],
   "source": [
    "pip install tiktoken"
   ]
  },
  {
   "cell_type": "code",
   "execution_count": 2,
   "metadata": {},
   "outputs": [
    {
     "name": "stdout",
     "output_type": "stream",
     "text": [
      "Starting tiktoken file download...\n",
      "\n",
      "Downloading cl100k_base.tiktoken...\n",
      "Error downloading cl100k_base.tiktoken: 403 Client Error: This request is not authorized to perform this operation. for url: https://openaipublic.blob.core.windows.net/encodings/cl100k_base.tiktoken\n",
      "\n",
      "Downloading p50k_base.tiktoken...\n",
      "Error downloading p50k_base.tiktoken: 403 Client Error: This request is not authorized to perform this operation. for url: https://openaipublic.blob.core.windows.net/encodings/p50k_base.tiktoken\n",
      "\n",
      "Downloading r50k_base.tiktoken...\n",
      "Error downloading r50k_base.tiktoken: 403 Client Error: This request is not authorized to perform this operation. for url: https://openaipublic.blob.core.windows.net/encodings/r50k_base.tiktoken\n",
      "\n",
      "Files in output directory:\n",
      "- cl100k_base.tiktoken (1681126 bytes)\n",
      "- p50k_base.tiktoken (836186 bytes)\n",
      "- r50k_base.tiktoken (835554 bytes)\n"
     ]
    }
   ],
   "source": [
    "from download_tiktoken import download_tiktoken_files\n",
    "download_tiktoken_files()"
   ]
  },
  {
   "cell_type": "code",
   "execution_count": null,
   "metadata": {},
   "outputs": [],
   "source": []
  },
  {
   "cell_type": "code",
   "execution_count": 3,
   "metadata": {},
   "outputs": [
    {
     "name": "stderr",
     "output_type": "stream",
     "text": [
      "Found the config file in: /config.json\n",
      "\u001b[32mUploading chunk_caption (3.37 MBs): 100%|██████████| 3365249/3365249 [00:00<00:00, 24971432.26it/s]\n",
      "\u001b[39m\n",
      "\n"
     ]
    },
    {
     "data": {
      "text/plain": [
       "Environment({'arm_type': 'environment_version', 'latest_version': None, 'image': None, 'intellectual_property': None, 'is_anonymous': False, 'auto_increment_version': False, 'auto_delete_setting': None, 'name': 'chunk-caption-env', 'description': 'Custom Environment for Chunk Captioning component', 'tags': {}, 'properties': {'azureml.labels': 'latest'}, 'print_as_yaml': False, 'id': '/subscriptions/45fb47bf-243f-43a8-b9a0-9329df91ed8b/resourceGroups/beyond_text/providers/Microsoft.MachineLearningServices/workspaces/beyondtext/environments/chunk-caption-env/versions/3', 'Resource__source_path': '', 'base_path': '/mnt/batch/tasks/shared/LS_root/mounts/clusters/admu101236681/code/index-pipeline/academic-document-analyzer/aml_pipeline/environment/chunk_caption', 'creation_context': <azure.ai.ml.entities._system_data.SystemData object at 0x7f1371552cb0>, 'serialize': <msrest.serialization.Serializer object at 0x7f1371553190>, 'version': '3', 'conda_file': None, 'build': <azure.ai.ml.entities._assets.environment.BuildContext object at 0x7f1371553070>, 'inference_config': None, 'os_type': 'Linux', 'conda_file_path': None, 'path': None, 'datastore': None, 'upload_hash': None, 'translated_conda_file': None})"
      ]
     },
     "execution_count": 3,
     "metadata": {},
     "output_type": "execute_result"
    }
   ],
   "source": [
    "from azure.ai.ml.entities import Environment, BuildContext\n",
    "from azure.identity import DefaultAzureCredential\n",
    "from azure.ai.ml import MLClient\n",
    "\n",
    "# Initialize workspace client\n",
    "ml_client = MLClient.from_config(\n",
    "    credential=DefaultAzureCredential()\n",
    ")\n",
    "\n",
    "env_docker_image = Environment(\n",
    "    build=BuildContext(path=\".\"),\n",
    "    name=\"chunk-caption-env\",\n",
    "    version=\"3\",\n",
    "    description=\"Custom Environment for Chunk Captioning component\",\n",
    ")\n",
    "ml_client.environments.create_or_update(env_docker_image)"
   ]
  },
  {
   "cell_type": "code",
   "execution_count": null,
   "metadata": {},
   "outputs": [],
   "source": []
  }
 ],
 "metadata": {
  "kernelspec": {
   "display_name": "Python 3.10 - SDK v2",
   "language": "python",
   "name": "python310-sdkv2"
  },
  "language_info": {
   "codemirror_mode": {
    "name": "ipython",
    "version": 3
   },
   "file_extension": ".py",
   "mimetype": "text/x-python",
   "name": "python",
   "nbconvert_exporter": "python",
   "pygments_lexer": "ipython3",
   "version": "3.10.14"
  }
 },
 "nbformat": 4,
 "nbformat_minor": 4
}
