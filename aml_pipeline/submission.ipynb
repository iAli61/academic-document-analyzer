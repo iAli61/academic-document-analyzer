{
 "cells": [
  {
   "cell_type": "code",
   "execution_count": 1,
   "metadata": {},
   "outputs": [],
   "source": [
    "import sys\n",
    "\n",
    "sys.path.append('../chunk_caption_index_component/')\n",
    "sys.path.append('../enhanced_doc_analyzer_component/')"
   ]
  },
  {
   "cell_type": "code",
   "execution_count": 2,
   "metadata": {},
   "outputs": [
    {
     "name": "stderr",
     "output_type": "stream",
     "text": [
      "Found the config file in: /config.json\n"
     ]
    }
   ],
   "source": [
    "# Example of registering the component in a workspace\n",
    "from azure.ai.ml import MLClient\n",
    "from azure.identity import DefaultAzureCredential\n",
    "\n",
    "# Get workspace\n",
    "ml_client = MLClient.from_config(\n",
    "    credential=DefaultAzureCredential()\n",
    ")"
   ]
  },
  {
   "cell_type": "code",
   "execution_count": 3,
   "metadata": {},
   "outputs": [],
   "source": [
    "from azure.ai.ml import load_component\n",
    "\n",
    "chunk_caption_index = load_component(source=\"../chunk_caption_index_component/chunk-caption-index-component.yaml\")"
   ]
  },
  {
   "cell_type": "code",
   "execution_count": 4,
   "metadata": {},
   "outputs": [],
   "source": [
    "# ml_client.components.create_or_update(chunk_caption_index)"
   ]
  },
  {
   "cell_type": "code",
   "execution_count": 5,
   "metadata": {},
   "outputs": [],
   "source": [
    "from azure.ai.ml import dsl\n",
    "\n",
    "@dsl.pipeline\n",
    "def document_processing_pipeline(\n",
    "    input_folder,\n",
    "    azure_openai_connection_id,\n",
    "    azure_search_connection_id,\n",
    "    embd_deployment_name,\n",
    "    vision_deployment_name,\n",
    "    index_name\n",
    "):\n",
    "    chunk_caption_job = chunk_caption_index(\n",
    "        input_folder=input_folder,\n",
    "        azure_openai_connection_id=azure_openai_connection_id,\n",
    "        azure_search_connection_id=azure_search_connection_id,\n",
    "        embd_deployment_name=embd_deployment_name,\n",
    "        vision_deployment_name=vision_deployment_name,\n",
    "        index_name=index_name\n",
    "    )\n",
    "    return {\"output_folder\": chunk_caption_job.outputs.output_folder}"
   ]
  },
  {
   "cell_type": "code",
   "execution_count": null,
   "metadata": {},
   "outputs": [
    {
     "ename": "AttributeError",
     "evalue": "'PipelineJob' object has no attribute 'submit'",
     "output_type": "error",
     "traceback": [
      "\u001b[0;31m---------------------------------------------------------------------------\u001b[0m",
      "\u001b[0;31mAttributeError\u001b[0m                            Traceback (most recent call last)",
      "Cell \u001b[0;32mIn[7], line 14\u001b[0m\n\u001b[1;32m      3\u001b[0m azuee_openai_connection \u001b[38;5;241m=\u001b[39m ml_client\u001b[38;5;241m.\u001b[39mconnections\u001b[38;5;241m.\u001b[39mget(\u001b[38;5;124m\"\u001b[39m\u001b[38;5;124maoai-sweden-505\u001b[39m\u001b[38;5;124m\"\u001b[39m)\n\u001b[1;32m      5\u001b[0m pipeline \u001b[38;5;241m=\u001b[39m document_processing_pipeline(\n\u001b[1;32m      6\u001b[0m     input_folder\u001b[38;5;241m=\u001b[39m\u001b[38;5;124m\"\u001b[39m\u001b[38;5;124mazureml:azureml_1a4dfa77-6671-4737-b4b3-61df944ea4b3_output_data_output_dir:1\u001b[39m\u001b[38;5;124m\"\u001b[39m,\n\u001b[1;32m      7\u001b[0m     azure_openai_connection_id\u001b[38;5;241m=\u001b[39mazuee_openai_connection\u001b[38;5;241m.\u001b[39mid,\n\u001b[0;32m   (...)\u001b[0m\n\u001b[1;32m     11\u001b[0m     index_name\u001b[38;5;241m=\u001b[39m\u001b[38;5;124m\"\u001b[39m\u001b[38;5;124mmyindex\u001b[39m\u001b[38;5;124m\"\u001b[39m\n\u001b[1;32m     12\u001b[0m )\n\u001b[0;32m---> 14\u001b[0m run \u001b[38;5;241m=\u001b[39m \u001b[43mpipeline\u001b[49m\u001b[38;5;241;43m.\u001b[39;49m\u001b[43msubmit\u001b[49m(\n\u001b[1;32m     15\u001b[0m     experiment_name\u001b[38;5;241m=\u001b[39m\u001b[38;5;124m\"\u001b[39m\u001b[38;5;124mdocument_processing_pipeline\u001b[39m\u001b[38;5;124m\"\u001b[39m,\n\u001b[1;32m     16\u001b[0m     tags\u001b[38;5;241m=\u001b[39m{\u001b[38;5;124m\"\u001b[39m\u001b[38;5;124mtag1\u001b[39m\u001b[38;5;124m\"\u001b[39m: \u001b[38;5;124m\"\u001b[39m\u001b[38;5;124mvalue1\u001b[39m\u001b[38;5;124m\"\u001b[39m, \u001b[38;5;124m\"\u001b[39m\u001b[38;5;124mtag2\u001b[39m\u001b[38;5;124m\"\u001b[39m: \u001b[38;5;124m\"\u001b[39m\u001b[38;5;124mvalue2\u001b[39m\u001b[38;5;124m\"\u001b[39m}\n\u001b[1;32m     17\u001b[0m )\n",
      "\u001b[0;31mAttributeError\u001b[0m: 'PipelineJob' object has no attribute 'submit'"
     ]
    }
   ],
   "source": [
    "doc_intelligence_connection = ml_client.connections.get(\"my-doc-intelligence-connection\")\n",
    "azure_search_connection = ml_client.connections.get(\"aisearch505\")\n",
    "azuee_openai_connection = ml_client.connections.get(\"aoai-sweden-505\")\n",
    "\n",
    "pipeline = document_processing_pipeline(\n",
    "    input_folder=\"azureml:azureml_1a4dfa77-6671-4737-b4b3-61df944ea4b3_output_data_output_dir:1\",\n",
    "    azure_openai_connection_id=azuee_openai_connection.id,\n",
    "    azure_search_connection_id=azure_search_connection.id,\n",
    "    embd_deployment_name=\"text-embedding-ada-002\",\n",
    "    vision_deployment_name=\"gpt-4v\",\n",
    "    index_name=\"myindex\"\n",
    ")\n",
    "\n",
    "# Submit the pipeline job\n",
    "pipeline_job = ml_client.jobs.create_or_update(\n",
    "    pipeline,\n",
    "    experiment_name=\"document_processing_pipeline\",\n",
    "    tags={\"tag1\": \"value1\", \"tag2\": \"value2\"}\n",
    ")\n",
    "\n"
   ]
  },
  {
   "cell_type": "code",
   "execution_count": null,
   "metadata": {},
   "outputs": [],
   "source": []
  }
 ],
 "metadata": {
  "kernelspec": {
   "display_name": "nougat",
   "language": "python",
   "name": "python3"
  },
  "language_info": {
   "codemirror_mode": {
    "name": "ipython",
    "version": 3
   },
   "file_extension": ".py",
   "mimetype": "text/x-python",
   "name": "python",
   "nbconvert_exporter": "python",
   "pygments_lexer": "ipython3",
   "version": "3.9.21"
  }
 },
 "nbformat": 4,
 "nbformat_minor": 2
}
