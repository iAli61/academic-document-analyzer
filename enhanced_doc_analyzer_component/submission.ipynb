{
 "cells": [
  {
   "cell_type": "code",
   "execution_count": 1,
   "metadata": {},
   "outputs": [],
   "source": [
    "# from azure.ai.ml.entities import CommandComponent, Environment, BuildContext\n",
    "# from pathlib import Path\n",
    "\n",
    "# def create_doc_analyzer_component(\n",
    "#     environment_image: str = \"mcr.microsoft.com/azureml/curated/acpt-pytorch-2.2-cuda12.1:18\",\n",
    "#     conda_file: str = \"../conda.yaml\"\n",
    "# ) -> CommandComponent:\n",
    "#     \"\"\"\n",
    "#     Create the document analyzer component using Azure ML SDK v2.\n",
    "    \n",
    "#     Args:\n",
    "#         environment_image: Docker image to use for the environment\n",
    "#         conda_file: Path to conda environment file\n",
    "        \n",
    "#     Returns:\n",
    "#         CommandComponent: The defined component\n",
    "#     \"\"\"\n",
    "    \n",
    "#     # Create the environment\n",
    "#     env = Environment(\n",
    "#         build=BuildContext(path=\"./docker\"),\n",
    "#         name=\"doc-analyzer-env\",\n",
    "#         description=\"Custom Environment for Document Analyzer\",\n",
    "#     )\n",
    "    \n",
    "#     return CommandComponent(\n",
    "#         name=\"document_analyzer\",\n",
    "#         display_name=\"Document Analyzer\",\n",
    "#         # version=\"6\",\n",
    "#         description=\"Analyzes multiple PDF documents using Azure Document Intelligence and local processing\",\n",
    "        \n",
    "#         # Define inputs\n",
    "#         inputs={\n",
    "#             \"input_folder\": {\n",
    "#                 \"type\": \"uri_folder\",\n",
    "#                 \"description\": \"Input folder containing PDF files\"\n",
    "#             },\n",
    "#             \"doc_intel_connection_id\": {\n",
    "#                 \"type\": \"string\",\n",
    "#                 \"description\": \"Azure ML connection ID for Document Intelligence\"\n",
    "#             },\n",
    "#             \"confidence_threshold\": {\n",
    "#                 \"type\": \"number\",\n",
    "#                 \"default\": 0.7,\n",
    "#                 \"description\": \"Confidence threshold for element detection\"\n",
    "#             },\n",
    "#             \"min_length\": {\n",
    "#                 \"type\": \"integer\",\n",
    "#                 \"default\": 10,\n",
    "#                 \"description\": \"Minimum text length to consider\"\n",
    "#             },\n",
    "#             \"overlap_threshold\": {\n",
    "#                 \"type\": \"number\",\n",
    "#                 \"default\": 0.5,\n",
    "#                 \"description\": \"Threshold for overlap detection\"\n",
    "#             },\n",
    "#             \"ignore_roles\": {\n",
    "#                 \"type\": \"string\",\n",
    "#                 \"default\": \"pageFooter,footnote\",\n",
    "#                 \"description\": \"Comma-separated list of roles to ignore\"\n",
    "#             }\n",
    "#         },\n",
    "        \n",
    "#         # Define outputs\n",
    "#         outputs={\n",
    "#             \"output_dir\": {\n",
    "#                 \"type\": \"uri_folder\",\n",
    "#                 \"description\": \"Folder containing visualization images organized by PDF\"\n",
    "#             }\n",
    "#         },\n",
    "        \n",
    "#         # Define environment\n",
    "#         environment=env,\n",
    "        \n",
    "#         # Define code and command\n",
    "#         code=\"../\",\n",
    "#         command=\"python run.py --input_folder ${{inputs.input_folder}} --doc_intel_connection_id ${{inputs.doc_intel_connection_id}} --confidence_threshold ${{inputs.confidence_threshold}} --min_length ${{inputs.min_length}} --overlap_threshold ${{inputs.overlap_threshold}} --ignore_roles ${{inputs.ignore_roles}} --output_dir ${{outputs.output_dir}}\"\n",
    "#     )"
   ]
  },
  {
   "cell_type": "code",
   "execution_count": null,
   "metadata": {},
   "outputs": [],
   "source": []
  },
  {
   "cell_type": "code",
   "execution_count": 2,
   "metadata": {},
   "outputs": [
    {
     "name": "stderr",
     "output_type": "stream",
     "text": [
      "Found the config file in: /config.json\n"
     ]
    }
   ],
   "source": [
    "# Example of registering the component in a workspace\n",
    "from azure.ai.ml import MLClient\n",
    "from azure.identity import DefaultAzureCredential\n",
    "\n",
    "# Get workspace\n",
    "ml_client = MLClient.from_config(\n",
    "    credential=DefaultAzureCredential()\n",
    ")"
   ]
  },
  {
   "cell_type": "code",
   "execution_count": 3,
   "metadata": {},
   "outputs": [],
   "source": [
    "# Register the component\n",
    "# ml_client.components.create_or_update(create_doc_analyzer_component())"
   ]
  },
  {
   "cell_type": "code",
   "execution_count": 4,
   "metadata": {},
   "outputs": [],
   "source": [
    "# add .. to sys.path\n",
    "\n",
    "import sys\n",
    "sys.path.append(\"..\")"
   ]
  },
  {
   "cell_type": "code",
   "execution_count": null,
   "metadata": {},
   "outputs": [],
   "source": []
  },
  {
   "cell_type": "code",
   "execution_count": 7,
   "metadata": {},
   "outputs": [
    {
     "name": "stderr",
     "output_type": "stream",
     "text": [
      "Warning: the provided asset name 'doc-analyzer-env' will not be used for anonymous registration\n"
     ]
    },
    {
     "ename": "ValidationError",
     "evalue": "Validation for ComponentSchema failed:\n\n {\n  \"result\": \"Failed\",\n  \"errors\": [\n    {\n      \"message\": \"{'build': {'path': [{'_schema': [\\\"Can't find directory or file in resolved absolute path: /home/azureuser/projects/academic-document-analyzer/enhanced_doc_analyzer_component/docker.\\\"]}, {'_schema': ['Not a valid URL.']}]}}; In order to specify an existing environments, please provide the correct registry path prefixed with 'azureml://':\\n; In order to specify an existing environments, please provide either of the following prefixed with 'azureml:':\\n1. The full ARM ID for the resource, e.g.azureml:/subscriptions/<subscription_id>/resourceGroups/<resource_group>/providers/Microsoft.MachineLearningServices/workspaces/<workspace_name>/environments\\n2. The short-hand name of the resource registered in the workspace, eg: azureml:<short-hand-name>:<version-if applicable>. For example, version 1 of the environment registered as 'my-env' in the workspace can be referenced as 'azureml:my-env:1'\",\n      \"path\": \"environment\",\n      \"value\": {\n        \"build\": {\n          \"path\": \"./docker\"\n        },\n        \"description\": \"Custom Environment for Document Analyzer\"\n      },\n      \"location\": \"/home/azureuser/projects/academic-document-analyzer/enhanced_doc_analyzer_component/doc_analyzer_component.yaml#line 34\"\n    }\n  ]\n} \n\n \nThe easiest way to author a specification file is using IntelliSense and auto-completion Azure ML VS code extension provides: https://code.visualstudio.com/docs/datascience/azure-machine-learning. To set up: https://docs.microsoft.com/azure/machine-learning/how-to-setup-vs-code",
     "output_type": "error",
     "traceback": [
      "\u001b[0;31m---------------------------------------------------------------------------\u001b[0m",
      "\u001b[0;31mValidationError\u001b[0m                           Traceback (most recent call last)",
      "File \u001b[0;32m/anaconda/envs/nougat/lib/python3.9/site-packages/azure/ai/ml/entities/_load_functions.py:106\u001b[0m, in \u001b[0;36mload_common\u001b[0;34m(cls, source, relative_origin, params_override, **kwargs)\u001b[0m\n\u001b[1;32m    105\u001b[0m \u001b[38;5;28;01mtry\u001b[39;00m:\n\u001b[0;32m--> 106\u001b[0m     \u001b[38;5;28;01mreturn\u001b[39;00m \u001b[43m_load_common_raising_marshmallow_error\u001b[49m\u001b[43m(\u001b[49m\u001b[38;5;28;43mcls\u001b[39;49m\u001b[43m,\u001b[49m\u001b[43m \u001b[49m\u001b[43myaml_dict\u001b[49m\u001b[43m,\u001b[49m\u001b[43m \u001b[49m\u001b[43mrelative_origin\u001b[49m\u001b[43m,\u001b[49m\u001b[43m \u001b[49m\u001b[43mparams_override\u001b[49m\u001b[43m,\u001b[49m\u001b[43m \u001b[49m\u001b[38;5;241;43m*\u001b[39;49m\u001b[38;5;241;43m*\u001b[39;49m\u001b[43mkwargs\u001b[49m\u001b[43m)\u001b[49m\n\u001b[1;32m    107\u001b[0m \u001b[38;5;28;01mexcept\u001b[39;00m ValidationError \u001b[38;5;28;01mas\u001b[39;00m e:\n",
      "File \u001b[0;32m/anaconda/envs/nougat/lib/python3.9/site-packages/azure/ai/ml/entities/_load_functions.py:166\u001b[0m, in \u001b[0;36m_load_common_raising_marshmallow_error\u001b[0;34m(cls, yaml_dict, relative_origin, params_override, **kwargs)\u001b[0m\n\u001b[1;32m    158\u001b[0m \u001b[38;5;28;01mdef\u001b[39;00m\u001b[38;5;250m \u001b[39m\u001b[38;5;21m_load_common_raising_marshmallow_error\u001b[39m(\n\u001b[1;32m    159\u001b[0m     \u001b[38;5;28mcls\u001b[39m: Any,\n\u001b[1;32m    160\u001b[0m     yaml_dict: Dict,\n\u001b[0;32m   (...)\u001b[0m\n\u001b[1;32m    164\u001b[0m ) \u001b[38;5;241m-\u001b[39m\u001b[38;5;241m>\u001b[39m Resource:\n\u001b[1;32m    165\u001b[0m     \u001b[38;5;66;03m# pylint: disable=protected-access\u001b[39;00m\n\u001b[0;32m--> 166\u001b[0m     res: Resource \u001b[38;5;241m=\u001b[39m \u001b[38;5;28;43mcls\u001b[39;49m\u001b[38;5;241;43m.\u001b[39;49m\u001b[43m_load\u001b[49m\u001b[43m(\u001b[49m\n\u001b[1;32m    167\u001b[0m \u001b[43m        \u001b[49m\u001b[43mdata\u001b[49m\u001b[38;5;241;43m=\u001b[39;49m\u001b[43myaml_dict\u001b[49m\u001b[43m,\u001b[49m\u001b[43m \u001b[49m\u001b[43myaml_path\u001b[49m\u001b[38;5;241;43m=\u001b[39;49m\u001b[43mrelative_origin\u001b[49m\u001b[43m,\u001b[49m\u001b[43m \u001b[49m\u001b[43mparams_override\u001b[49m\u001b[38;5;241;43m=\u001b[39;49m\u001b[43mparams_override\u001b[49m\u001b[43m,\u001b[49m\u001b[43m \u001b[49m\u001b[38;5;241;43m*\u001b[39;49m\u001b[38;5;241;43m*\u001b[39;49m\u001b[43mkwargs\u001b[49m\n\u001b[1;32m    168\u001b[0m \u001b[43m    \u001b[49m\u001b[43m)\u001b[49m  \u001b[38;5;66;03m# pylint: disable=docstring-keyword-should-match-keyword-only\u001b[39;00m\n\u001b[1;32m    169\u001b[0m     \u001b[38;5;28;01mreturn\u001b[39;00m res\n",
      "File \u001b[0;32m/anaconda/envs/nougat/lib/python3.9/site-packages/azure/ai/ml/entities/_component/component.py:392\u001b[0m, in \u001b[0;36mComponent._load\u001b[0;34m(cls, data, yaml_path, params_override, **kwargs)\u001b[0m\n\u001b[1;32m    387\u001b[0m init_kwargs \u001b[38;5;241m=\u001b[39m {\n\u001b[1;32m    388\u001b[0m     \u001b[38;5;124m\"\u001b[39m\u001b[38;5;124myaml_str\u001b[39m\u001b[38;5;124m\"\u001b[39m: kwargs\u001b[38;5;241m.\u001b[39mpop(\u001b[38;5;124m\"\u001b[39m\u001b[38;5;124myaml_str\u001b[39m\u001b[38;5;124m\"\u001b[39m, \u001b[38;5;28;01mNone\u001b[39;00m),\n\u001b[1;32m    389\u001b[0m     \u001b[38;5;124m\"\u001b[39m\u001b[38;5;124m_source\u001b[39m\u001b[38;5;124m\"\u001b[39m: kwargs\u001b[38;5;241m.\u001b[39mpop(\u001b[38;5;124m\"\u001b[39m\u001b[38;5;124m_source\u001b[39m\u001b[38;5;124m\"\u001b[39m, ComponentSource\u001b[38;5;241m.\u001b[39mYAML_COMPONENT),\n\u001b[1;32m    390\u001b[0m }\n\u001b[1;32m    391\u001b[0m init_kwargs\u001b[38;5;241m.\u001b[39mupdate(\n\u001b[0;32m--> 392\u001b[0m     \u001b[43mnew_instance\u001b[49m\u001b[38;5;241;43m.\u001b[39;49m\u001b[43m_load_with_schema\u001b[49m\u001b[43m(\u001b[49m\u001b[43m  \u001b[49m\u001b[38;5;66;43;03m# pylint: disable=protected-access\u001b[39;49;00m\n\u001b[1;32m    393\u001b[0m \u001b[43m        \u001b[49m\u001b[43mdata\u001b[49m\u001b[43m,\u001b[49m\n\u001b[1;32m    394\u001b[0m \u001b[43m        \u001b[49m\u001b[43mcontext\u001b[49m\u001b[38;5;241;43m=\u001b[39;49m\u001b[43m{\u001b[49m\n\u001b[1;32m    395\u001b[0m \u001b[43m            \u001b[49m\u001b[43mBASE_PATH_CONTEXT_KEY\u001b[49m\u001b[43m:\u001b[49m\u001b[43m \u001b[49m\u001b[43mbase_path\u001b[49m\u001b[43m,\u001b[49m\n\u001b[1;32m    396\u001b[0m \u001b[43m            \u001b[49m\u001b[43mSOURCE_PATH_CONTEXT_KEY\u001b[49m\u001b[43m:\u001b[49m\u001b[43m \u001b[49m\u001b[43myaml_path\u001b[49m\u001b[43m,\u001b[49m\n\u001b[1;32m    397\u001b[0m \u001b[43m            \u001b[49m\u001b[43mPARAMS_OVERRIDE_KEY\u001b[49m\u001b[43m:\u001b[49m\u001b[43m \u001b[49m\u001b[43mparams_override\u001b[49m\u001b[43m,\u001b[49m\n\u001b[1;32m    398\u001b[0m \u001b[43m        \u001b[49m\u001b[43m}\u001b[49m\u001b[43m,\u001b[49m\n\u001b[1;32m    399\u001b[0m \u001b[43m        \u001b[49m\u001b[43munknown\u001b[49m\u001b[38;5;241;43m=\u001b[39;49m\u001b[43mINCLUDE\u001b[49m\u001b[43m,\u001b[49m\n\u001b[1;32m    400\u001b[0m \u001b[43m        \u001b[49m\u001b[43mraise_original_exception\u001b[49m\u001b[38;5;241;43m=\u001b[39;49m\u001b[38;5;28;43;01mTrue\u001b[39;49;00m\u001b[43m,\u001b[49m\n\u001b[1;32m    401\u001b[0m \u001b[43m        \u001b[49m\u001b[38;5;241;43m*\u001b[39;49m\u001b[38;5;241;43m*\u001b[39;49m\u001b[43mkwargs\u001b[49m\u001b[43m,\u001b[49m\n\u001b[1;32m    402\u001b[0m \u001b[43m    \u001b[49m\u001b[43m)\u001b[49m\n\u001b[1;32m    403\u001b[0m )\n\u001b[1;32m    404\u001b[0m \u001b[38;5;66;03m# Set base path separately to avoid doing this in post load, as return types of post load are not unified,\u001b[39;00m\n\u001b[1;32m    405\u001b[0m \u001b[38;5;66;03m# could be object or dict.\u001b[39;00m\n\u001b[1;32m    406\u001b[0m \u001b[38;5;66;03m# base_path in context can be changed in loading, so we use original base_path here.\u001b[39;00m\n",
      "File \u001b[0;32m/anaconda/envs/nougat/lib/python3.9/site-packages/azure/ai/ml/entities/_validation/schema.py:42\u001b[0m, in \u001b[0;36mSchemaValidatableMixin._load_with_schema\u001b[0;34m(cls, data, context, raise_original_exception, **kwargs)\u001b[0m\n\u001b[1;32m     41\u001b[0m \u001b[38;5;28;01mif\u001b[39;00m raise_original_exception:\n\u001b[0;32m---> 42\u001b[0m     \u001b[38;5;28;01mraise\u001b[39;00m e\n\u001b[1;32m     43\u001b[0m msg \u001b[38;5;241m=\u001b[39m \u001b[38;5;124m\"\u001b[39m\u001b[38;5;124mTrying to load data with schema failed. Data:\u001b[39m\u001b[38;5;130;01m\\n\u001b[39;00m\u001b[38;5;132;01m%s\u001b[39;00m\u001b[38;5;130;01m\\n\u001b[39;00m\u001b[38;5;124mError: \u001b[39m\u001b[38;5;132;01m%s\u001b[39;00m\u001b[38;5;124m\"\u001b[39m \u001b[38;5;241m%\u001b[39m (\n\u001b[1;32m     44\u001b[0m     json\u001b[38;5;241m.\u001b[39mdumps(data, indent\u001b[38;5;241m=\u001b[39m\u001b[38;5;241m4\u001b[39m) \u001b[38;5;28;01mif\u001b[39;00m \u001b[38;5;28misinstance\u001b[39m(data, \u001b[38;5;28mdict\u001b[39m) \u001b[38;5;28;01melse\u001b[39;00m data,\n\u001b[1;32m     45\u001b[0m     json\u001b[38;5;241m.\u001b[39mdumps(e\u001b[38;5;241m.\u001b[39mmessages, indent\u001b[38;5;241m=\u001b[39m\u001b[38;5;241m4\u001b[39m),\n\u001b[1;32m     46\u001b[0m )\n",
      "File \u001b[0;32m/anaconda/envs/nougat/lib/python3.9/site-packages/azure/ai/ml/entities/_validation/schema.py:39\u001b[0m, in \u001b[0;36mSchemaValidatableMixin._load_with_schema\u001b[0;34m(cls, data, context, raise_original_exception, **kwargs)\u001b[0m\n\u001b[1;32m     38\u001b[0m \u001b[38;5;28;01mtry\u001b[39;00m:\n\u001b[0;32m---> 39\u001b[0m     \u001b[38;5;28;01mreturn\u001b[39;00m \u001b[43mschema\u001b[49m\u001b[38;5;241;43m.\u001b[39;49m\u001b[43mload\u001b[49m\u001b[43m(\u001b[49m\u001b[43mdata\u001b[49m\u001b[43m,\u001b[49m\u001b[43m \u001b[49m\u001b[38;5;241;43m*\u001b[39;49m\u001b[38;5;241;43m*\u001b[39;49m\u001b[43mkwargs\u001b[49m\u001b[43m)\u001b[49m\n\u001b[1;32m     40\u001b[0m \u001b[38;5;28;01mexcept\u001b[39;00m ValidationError \u001b[38;5;28;01mas\u001b[39;00m e:\n",
      "File \u001b[0;32m/anaconda/envs/nougat/lib/python3.9/site-packages/marshmallow/schema.py:789\u001b[0m, in \u001b[0;36mSchema.load\u001b[0;34m(self, data, many, partial, unknown)\u001b[0m\n\u001b[1;32m    769\u001b[0m \u001b[38;5;250m\u001b[39m\u001b[38;5;124;03m\"\"\"Deserialize a data structure to an object defined by this Schema's fields.\u001b[39;00m\n\u001b[1;32m    770\u001b[0m \n\u001b[1;32m    771\u001b[0m \u001b[38;5;124;03m:param data: The data to deserialize.\u001b[39;00m\n\u001b[0;32m   (...)\u001b[0m\n\u001b[1;32m    787\u001b[0m \u001b[38;5;124;03m    if invalid data are passed.\u001b[39;00m\n\u001b[1;32m    788\u001b[0m \u001b[38;5;124;03m\"\"\"\u001b[39;00m\n\u001b[0;32m--> 789\u001b[0m \u001b[38;5;28;01mreturn\u001b[39;00m \u001b[38;5;28;43mself\u001b[39;49m\u001b[38;5;241;43m.\u001b[39;49m\u001b[43m_do_load\u001b[49m\u001b[43m(\u001b[49m\n\u001b[1;32m    790\u001b[0m \u001b[43m    \u001b[49m\u001b[43mdata\u001b[49m\u001b[43m,\u001b[49m\u001b[43m \u001b[49m\u001b[43mmany\u001b[49m\u001b[38;5;241;43m=\u001b[39;49m\u001b[43mmany\u001b[49m\u001b[43m,\u001b[49m\u001b[43m \u001b[49m\u001b[43mpartial\u001b[49m\u001b[38;5;241;43m=\u001b[39;49m\u001b[43mpartial\u001b[49m\u001b[43m,\u001b[49m\u001b[43m \u001b[49m\u001b[43munknown\u001b[49m\u001b[38;5;241;43m=\u001b[39;49m\u001b[43munknown\u001b[49m\u001b[43m,\u001b[49m\u001b[43m \u001b[49m\u001b[43mpostprocess\u001b[49m\u001b[38;5;241;43m=\u001b[39;49m\u001b[38;5;28;43;01mTrue\u001b[39;49;00m\n\u001b[1;32m    791\u001b[0m \u001b[43m\u001b[49m\u001b[43m)\u001b[49m\n",
      "File \u001b[0;32m/anaconda/envs/nougat/lib/python3.9/site-packages/marshmallow/schema.py:996\u001b[0m, in \u001b[0;36mSchema._do_load\u001b[0;34m(self, data, many, partial, unknown, postprocess)\u001b[0m\n\u001b[1;32m    995\u001b[0m     \u001b[38;5;28mself\u001b[39m\u001b[38;5;241m.\u001b[39mhandle_error(exc, data, many\u001b[38;5;241m=\u001b[39mmany, partial\u001b[38;5;241m=\u001b[39mpartial)\n\u001b[0;32m--> 996\u001b[0m     \u001b[38;5;28;01mraise\u001b[39;00m exc\n\u001b[1;32m    998\u001b[0m \u001b[38;5;28;01mreturn\u001b[39;00m result\n",
      "\u001b[0;31mValidationError\u001b[0m: {'environment': [{'build': {'path': [{'_schema': [\"Can't find directory or file in resolved absolute path: /home/azureuser/projects/academic-document-analyzer/enhanced_doc_analyzer_component/docker.\"]}, {'_schema': ['Not a valid URL.']}]}}, {'_schema': [\"In order to specify an existing environments, please provide the correct registry path prefixed with 'azureml://':\\n\"]}, {'_schema': [\"In order to specify an existing environments, please provide either of the following prefixed with 'azureml:':\\n1. The full ARM ID for the resource, e.g.azureml:/subscriptions/<subscription_id>/resourceGroups/<resource_group>/providers/Microsoft.MachineLearningServices/workspaces/<workspace_name>/environments\\n2. The short-hand name of the resource registered in the workspace, eg: azureml:<short-hand-name>:<version-if applicable>. For example, version 1 of the environment registered as 'my-env' in the workspace can be referenced as 'azureml:my-env:1'\"]}]}",
      "\nDuring handling of the above exception, another exception occurred:\n",
      "\u001b[0;31mValidationError\u001b[0m                           Traceback (most recent call last)",
      "Cell \u001b[0;32mIn[7], line 6\u001b[0m\n\u001b[1;32m      3\u001b[0m \u001b[38;5;28;01mfrom\u001b[39;00m\u001b[38;5;250m \u001b[39m\u001b[38;5;21;01mazure\u001b[39;00m\u001b[38;5;21;01m.\u001b[39;00m\u001b[38;5;21;01midentity\u001b[39;00m\u001b[38;5;250m \u001b[39m\u001b[38;5;28;01mimport\u001b[39;00m DefaultAzureCredential\n\u001b[1;32m      4\u001b[0m \u001b[38;5;28;01mfrom\u001b[39;00m\u001b[38;5;250m \u001b[39m\u001b[38;5;21;01mazure\u001b[39;00m\u001b[38;5;21;01m.\u001b[39;00m\u001b[38;5;21;01mai\u001b[39;00m\u001b[38;5;21;01m.\u001b[39;00m\u001b[38;5;21;01mml\u001b[39;00m\u001b[38;5;250m \u001b[39m\u001b[38;5;28;01mimport\u001b[39;00m load_component\n\u001b[0;32m----> 6\u001b[0m analyzer_component \u001b[38;5;241m=\u001b[39m \u001b[43mload_component\u001b[49m\u001b[43m(\u001b[49m\u001b[43msource\u001b[49m\u001b[38;5;241;43m=\u001b[39;49m\u001b[38;5;124;43m\"\u001b[39;49m\u001b[38;5;124;43m../doc_analyzer_component.yaml\u001b[39;49m\u001b[38;5;124;43m\"\u001b[39;49m\u001b[43m)\u001b[49m\n\u001b[1;32m      8\u001b[0m \u001b[38;5;28;01mdef\u001b[39;00m\u001b[38;5;250m \u001b[39m\u001b[38;5;21mcreate_document_analysis_pipeline\u001b[39m(\n\u001b[1;32m      9\u001b[0m     pdf_folder: \u001b[38;5;28mstr\u001b[39m,\n\u001b[1;32m     10\u001b[0m     doc_intel_connection_id: \u001b[38;5;28mstr\u001b[39m,\n\u001b[0;32m   (...)\u001b[0m\n\u001b[1;32m     15\u001b[0m     compute_name: \u001b[38;5;28mstr\u001b[39m \u001b[38;5;241m=\u001b[39m \u001b[38;5;124m\"\u001b[39m\u001b[38;5;124mcpu-cluster\u001b[39m\u001b[38;5;124m\"\u001b[39m\n\u001b[1;32m     16\u001b[0m ) \u001b[38;5;241m-\u001b[39m\u001b[38;5;241m>\u001b[39m Pipeline:\n\u001b[1;32m     17\u001b[0m \u001b[38;5;250m    \u001b[39m\u001b[38;5;124;03m\"\"\"\u001b[39;00m\n\u001b[1;32m     18\u001b[0m \u001b[38;5;124;03m    Create a pipeline for document analysis.\u001b[39;00m\n\u001b[1;32m     19\u001b[0m \u001b[38;5;124;03m    \u001b[39;00m\n\u001b[0;32m   (...)\u001b[0m\n\u001b[1;32m     26\u001b[0m \u001b[38;5;124;03m        Pipeline: The defined pipeline\u001b[39;00m\n\u001b[1;32m     27\u001b[0m \u001b[38;5;124;03m    \"\"\"\u001b[39;00m\n",
      "File \u001b[0;32m/anaconda/envs/nougat/lib/python3.9/site-packages/azure/ai/ml/entities/_load_functions.py:502\u001b[0m, in \u001b[0;36mload_component\u001b[0;34m(source, relative_origin, params_override, **kwargs)\u001b[0m\n\u001b[1;32m    499\u001b[0m version \u001b[38;5;241m=\u001b[39m kwargs\u001b[38;5;241m.\u001b[39mpop(\u001b[38;5;124m\"\u001b[39m\u001b[38;5;124mversion\u001b[39m\u001b[38;5;124m\"\u001b[39m, \u001b[38;5;28;01mNone\u001b[39;00m)\n\u001b[1;32m    501\u001b[0m \u001b[38;5;28;01mif\u001b[39;00m source:\n\u001b[0;32m--> 502\u001b[0m     component_entity \u001b[38;5;241m=\u001b[39m \u001b[43mload_common\u001b[49m\u001b[43m(\u001b[49m\u001b[43mComponent\u001b[49m\u001b[43m,\u001b[49m\u001b[43m \u001b[49m\u001b[43msource\u001b[49m\u001b[43m,\u001b[49m\u001b[43m \u001b[49m\u001b[43mrelative_origin\u001b[49m\u001b[43m,\u001b[49m\u001b[43m \u001b[49m\u001b[43mparams_override\u001b[49m\u001b[43m,\u001b[49m\u001b[43m \u001b[49m\u001b[38;5;241;43m*\u001b[39;49m\u001b[38;5;241;43m*\u001b[39;49m\u001b[43mkwargs\u001b[49m\u001b[43m)\u001b[49m\n\u001b[1;32m    503\u001b[0m \u001b[38;5;28;01melif\u001b[39;00m client \u001b[38;5;129;01mand\u001b[39;00m name \u001b[38;5;129;01mand\u001b[39;00m version:\n\u001b[1;32m    504\u001b[0m     component_entity \u001b[38;5;241m=\u001b[39m client\u001b[38;5;241m.\u001b[39mcomponents\u001b[38;5;241m.\u001b[39mget(name, version)\n",
      "File \u001b[0;32m/anaconda/envs/nougat/lib/python3.9/site-packages/azure/ai/ml/entities/_load_functions.py:131\u001b[0m, in \u001b[0;36mload_common\u001b[0;34m(cls, source, relative_origin, params_override, **kwargs)\u001b[0m\n\u001b[1;32m    121\u001b[0m         \u001b[38;5;28;01mfrom\u001b[39;00m\u001b[38;5;250m \u001b[39m\u001b[38;5;21;01mazure\u001b[39;00m\u001b[38;5;21;01m.\u001b[39;00m\u001b[38;5;21;01mai\u001b[39;00m\u001b[38;5;21;01m.\u001b[39;00m\u001b[38;5;21;01mml\u001b[39;00m\u001b[38;5;21;01m.\u001b[39;00m\u001b[38;5;21;01mentities\u001b[39;00m\u001b[38;5;21;01m.\u001b[39;00m\u001b[38;5;21;01m_util\u001b[39;00m\u001b[38;5;250m \u001b[39m\u001b[38;5;28;01mimport\u001b[39;00m decorate_validation_error\n\u001b[1;32m    123\u001b[0m         \u001b[38;5;28;01mreturn\u001b[39;00m ValidationError(\n\u001b[1;32m    124\u001b[0m             message\u001b[38;5;241m=\u001b[39mdecorate_validation_error(\n\u001b[1;32m    125\u001b[0m                 schema\u001b[38;5;241m=\u001b[39mschema\u001b[38;5;241m.\u001b[39m\u001b[38;5;18m__class__\u001b[39m,\n\u001b[0;32m   (...)\u001b[0m\n\u001b[1;32m    128\u001b[0m             ),\n\u001b[1;32m    129\u001b[0m         )\n\u001b[0;32m--> 131\u001b[0m     \u001b[43mvalidation_result\u001b[49m\u001b[38;5;241;43m.\u001b[39;49m\u001b[43mtry_raise\u001b[49m\u001b[43m(\u001b[49m\u001b[43merror_func\u001b[49m\u001b[38;5;241;43m=\u001b[39;49m\u001b[43mbuild_error\u001b[49m\u001b[43m)\u001b[49m\n\u001b[1;32m    132\u001b[0m \u001b[38;5;28;01mraise\u001b[39;00m e\n",
      "File \u001b[0;32m/anaconda/envs/nougat/lib/python3.9/site-packages/azure/ai/ml/entities/_validation/core.py:253\u001b[0m, in \u001b[0;36mMutableValidationResult.try_raise\u001b[0;34m(self, raise_error, error_func)\u001b[0m\n\u001b[1;32m    250\u001b[0m         \u001b[38;5;28;01mdef\u001b[39;00m\u001b[38;5;250m \u001b[39m\u001b[38;5;21merror_func\u001b[39m(msg: Union[\u001b[38;5;28mstr\u001b[39m, \u001b[38;5;28mlist\u001b[39m, \u001b[38;5;28mdict\u001b[39m], _: Any) \u001b[38;5;241m-\u001b[39m\u001b[38;5;241m>\u001b[39m ValidationError:\n\u001b[1;32m    251\u001b[0m             \u001b[38;5;28;01mreturn\u001b[39;00m ValidationError(message\u001b[38;5;241m=\u001b[39mmsg)\n\u001b[0;32m--> 253\u001b[0m     \u001b[38;5;28;01mraise\u001b[39;00m error_func(\n\u001b[1;32m    254\u001b[0m         \u001b[38;5;28mself\u001b[39m\u001b[38;5;241m.\u001b[39m\u001b[38;5;21m__repr__\u001b[39m(),\n\u001b[1;32m    255\u001b[0m         \u001b[38;5;124m\"\u001b[39m\u001b[38;5;124mvalidation failed on the following fields: \u001b[39m\u001b[38;5;124m\"\u001b[39m \u001b[38;5;241m+\u001b[39m \u001b[38;5;124m\"\u001b[39m\u001b[38;5;124m, \u001b[39m\u001b[38;5;124m\"\u001b[39m\u001b[38;5;241m.\u001b[39mjoin(\u001b[38;5;28mself\u001b[39m\u001b[38;5;241m.\u001b[39merror_messages),\n\u001b[1;32m    256\u001b[0m     )\n\u001b[1;32m    257\u001b[0m \u001b[38;5;28;01mreturn\u001b[39;00m \u001b[38;5;28mself\u001b[39m\n",
      "\u001b[0;31mValidationError\u001b[0m: Validation for ComponentSchema failed:\n\n {\n  \"result\": \"Failed\",\n  \"errors\": [\n    {\n      \"message\": \"{'build': {'path': [{'_schema': [\\\"Can't find directory or file in resolved absolute path: /home/azureuser/projects/academic-document-analyzer/enhanced_doc_analyzer_component/docker.\\\"]}, {'_schema': ['Not a valid URL.']}]}}; In order to specify an existing environments, please provide the correct registry path prefixed with 'azureml://':\\n; In order to specify an existing environments, please provide either of the following prefixed with 'azureml:':\\n1. The full ARM ID for the resource, e.g.azureml:/subscriptions/<subscription_id>/resourceGroups/<resource_group>/providers/Microsoft.MachineLearningServices/workspaces/<workspace_name>/environments\\n2. The short-hand name of the resource registered in the workspace, eg: azureml:<short-hand-name>:<version-if applicable>. For example, version 1 of the environment registered as 'my-env' in the workspace can be referenced as 'azureml:my-env:1'\",\n      \"path\": \"environment\",\n      \"value\": {\n        \"build\": {\n          \"path\": \"./docker\"\n        },\n        \"description\": \"Custom Environment for Document Analyzer\"\n      },\n      \"location\": \"/home/azureuser/projects/academic-document-analyzer/enhanced_doc_analyzer_component/doc_analyzer_component.yaml#line 34\"\n    }\n  ]\n} \n\n \nThe easiest way to author a specification file is using IntelliSense and auto-completion Azure ML VS code extension provides: https://code.visualstudio.com/docs/datascience/azure-machine-learning. To set up: https://docs.microsoft.com/azure/machine-learning/how-to-setup-vs-code"
     ]
    }
   ],
   "source": [
    "from azure.ai.ml import MLClient, dsl, Input, Output\n",
    "from azure.ai.ml.entities import Pipeline, Data\n",
    "from azure.identity import DefaultAzureCredential\n",
    "from azure.ai.ml import load_component, load_pipeline, load_environment\n",
    "\n",
    "analyzer_component = load_component(source=\"../doc_analyzer_component.yaml\")\n",
    "enviroment = load_environment(source=\"../env.yaml\")\n",
    "\n",
    "def create_document_analysis_pipeline(\n",
    "    pdf_folder: str,\n",
    "    doc_intel_connection_id: str,\n",
    "    confidence_threshold: float = 0.5,\n",
    "    min_length: int = 10,\n",
    "    overlap_threshold: float = 0.5,\n",
    "    ignore_roles: str = \"pageFooter,footnote,pageHeader\",\n",
    "    compute_name: str = \"cpu-cluster\"\n",
    ") -> Pipeline:\n",
    "    \"\"\"\n",
    "    Create a pipeline for document analysis.\n",
    "    \n",
    "    Args:\n",
    "        pdf_folder: Path or reference to the input folder containing PDFs\n",
    "        doc_intel_connection_id: Azure ML connection ID for Document Intelligence\n",
    "        compute_name: Name of the compute target to use\n",
    "        \n",
    "    Returns:\n",
    "        Pipeline: The defined pipeline\n",
    "    \"\"\"\n",
    "    \n",
    "    @dsl.pipeline(\n",
    "        description=\"Document analysis pipeline\",\n",
    "        default_compute=compute_name\n",
    "    )\n",
    "    def doc_analysis_pipeline():\n",
    "        \n",
    "        # Define the analysis job\n",
    "        analysis_job = analyzer_component(\n",
    "            input_folder=Input(type=\"uri_folder\", path=pdf_folder),\n",
    "            doc_intel_connection_id=doc_intel_connection_id,\n",
    "            # Optional: Override default parameters\n",
    "            confidence_threshold=confidence_threshold,\n",
    "            min_length=min_length,\n",
    "            overlap_threshold=overlap_threshold,\n",
    "            ignore_roles=ignore_roles\n",
    "        )\n",
    "\n",
    "        analysis_job.environment = enviroment\n",
    "        analysis_job.compute = compute_name\n",
    "        \n",
    "        return {\n",
    "            \"output_dir\": analysis_job.outputs.output_dir,\n",
    "        }\n",
    "    \n",
    "    # Return the pipeline object by calling the pipeline function\n",
    "    return doc_analysis_pipeline()"
   ]
  },
  {
   "cell_type": "code",
   "execution_count": 6,
   "metadata": {},
   "outputs": [
    {
     "name": "stderr",
     "output_type": "stream",
     "text": [
      "Warning: the provided asset name 'doc-analyzer-env' will not be used for anonymous registration\n"
     ]
    },
    {
     "ename": "ValidationError",
     "evalue": "Validation for ComponentSchema failed:\n\n {\n  \"result\": \"Failed\",\n  \"errors\": [\n    {\n      \"message\": \"{'build': {'path': [{'_schema': [\\\"Can't find directory or file in resolved absolute path: /home/azureuser/projects/academic-document-analyzer/enhanced_doc_analyzer_component/docker.\\\"]}, {'_schema': ['Not a valid URL.']}]}}; In order to specify an existing environments, please provide the correct registry path prefixed with 'azureml://':\\n; In order to specify an existing environments, please provide either of the following prefixed with 'azureml:':\\n1. The full ARM ID for the resource, e.g.azureml:/subscriptions/<subscription_id>/resourceGroups/<resource_group>/providers/Microsoft.MachineLearningServices/workspaces/<workspace_name>/environments\\n2. The short-hand name of the resource registered in the workspace, eg: azureml:<short-hand-name>:<version-if applicable>. For example, version 1 of the environment registered as 'my-env' in the workspace can be referenced as 'azureml:my-env:1'\",\n      \"path\": \"environment\",\n      \"value\": {\n        \"build\": {\n          \"path\": \"./docker\"\n        },\n        \"description\": \"Custom Environment for Document Analyzer\"\n      },\n      \"location\": \"/home/azureuser/projects/academic-document-analyzer/enhanced_doc_analyzer_component/doc_analyzer_component.yaml#line 34\"\n    }\n  ]\n} \n\n \nThe easiest way to author a specification file is using IntelliSense and auto-completion Azure ML VS code extension provides: https://code.visualstudio.com/docs/datascience/azure-machine-learning. To set up: https://docs.microsoft.com/azure/machine-learning/how-to-setup-vs-code",
     "output_type": "error",
     "traceback": [
      "\u001b[0;31m---------------------------------------------------------------------------\u001b[0m",
      "\u001b[0;31mValidationError\u001b[0m                           Traceback (most recent call last)",
      "File \u001b[0;32m/anaconda/envs/nougat/lib/python3.9/site-packages/azure/ai/ml/entities/_load_functions.py:106\u001b[0m, in \u001b[0;36mload_common\u001b[0;34m(cls, source, relative_origin, params_override, **kwargs)\u001b[0m\n\u001b[1;32m    105\u001b[0m \u001b[38;5;28;01mtry\u001b[39;00m:\n\u001b[0;32m--> 106\u001b[0m     \u001b[38;5;28;01mreturn\u001b[39;00m \u001b[43m_load_common_raising_marshmallow_error\u001b[49m\u001b[43m(\u001b[49m\u001b[38;5;28;43mcls\u001b[39;49m\u001b[43m,\u001b[49m\u001b[43m \u001b[49m\u001b[43myaml_dict\u001b[49m\u001b[43m,\u001b[49m\u001b[43m \u001b[49m\u001b[43mrelative_origin\u001b[49m\u001b[43m,\u001b[49m\u001b[43m \u001b[49m\u001b[43mparams_override\u001b[49m\u001b[43m,\u001b[49m\u001b[43m \u001b[49m\u001b[38;5;241;43m*\u001b[39;49m\u001b[38;5;241;43m*\u001b[39;49m\u001b[43mkwargs\u001b[49m\u001b[43m)\u001b[49m\n\u001b[1;32m    107\u001b[0m \u001b[38;5;28;01mexcept\u001b[39;00m ValidationError \u001b[38;5;28;01mas\u001b[39;00m e:\n",
      "File \u001b[0;32m/anaconda/envs/nougat/lib/python3.9/site-packages/azure/ai/ml/entities/_load_functions.py:166\u001b[0m, in \u001b[0;36m_load_common_raising_marshmallow_error\u001b[0;34m(cls, yaml_dict, relative_origin, params_override, **kwargs)\u001b[0m\n\u001b[1;32m    158\u001b[0m \u001b[38;5;28;01mdef\u001b[39;00m\u001b[38;5;250m \u001b[39m\u001b[38;5;21m_load_common_raising_marshmallow_error\u001b[39m(\n\u001b[1;32m    159\u001b[0m     \u001b[38;5;28mcls\u001b[39m: Any,\n\u001b[1;32m    160\u001b[0m     yaml_dict: Dict,\n\u001b[0;32m   (...)\u001b[0m\n\u001b[1;32m    164\u001b[0m ) \u001b[38;5;241m-\u001b[39m\u001b[38;5;241m>\u001b[39m Resource:\n\u001b[1;32m    165\u001b[0m     \u001b[38;5;66;03m# pylint: disable=protected-access\u001b[39;00m\n\u001b[0;32m--> 166\u001b[0m     res: Resource \u001b[38;5;241m=\u001b[39m \u001b[38;5;28;43mcls\u001b[39;49m\u001b[38;5;241;43m.\u001b[39;49m\u001b[43m_load\u001b[49m\u001b[43m(\u001b[49m\n\u001b[1;32m    167\u001b[0m \u001b[43m        \u001b[49m\u001b[43mdata\u001b[49m\u001b[38;5;241;43m=\u001b[39;49m\u001b[43myaml_dict\u001b[49m\u001b[43m,\u001b[49m\u001b[43m \u001b[49m\u001b[43myaml_path\u001b[49m\u001b[38;5;241;43m=\u001b[39;49m\u001b[43mrelative_origin\u001b[49m\u001b[43m,\u001b[49m\u001b[43m \u001b[49m\u001b[43mparams_override\u001b[49m\u001b[38;5;241;43m=\u001b[39;49m\u001b[43mparams_override\u001b[49m\u001b[43m,\u001b[49m\u001b[43m \u001b[49m\u001b[38;5;241;43m*\u001b[39;49m\u001b[38;5;241;43m*\u001b[39;49m\u001b[43mkwargs\u001b[49m\n\u001b[1;32m    168\u001b[0m \u001b[43m    \u001b[49m\u001b[43m)\u001b[49m  \u001b[38;5;66;03m# pylint: disable=docstring-keyword-should-match-keyword-only\u001b[39;00m\n\u001b[1;32m    169\u001b[0m     \u001b[38;5;28;01mreturn\u001b[39;00m res\n",
      "File \u001b[0;32m/anaconda/envs/nougat/lib/python3.9/site-packages/azure/ai/ml/entities/_component/component.py:392\u001b[0m, in \u001b[0;36mComponent._load\u001b[0;34m(cls, data, yaml_path, params_override, **kwargs)\u001b[0m\n\u001b[1;32m    387\u001b[0m init_kwargs \u001b[38;5;241m=\u001b[39m {\n\u001b[1;32m    388\u001b[0m     \u001b[38;5;124m\"\u001b[39m\u001b[38;5;124myaml_str\u001b[39m\u001b[38;5;124m\"\u001b[39m: kwargs\u001b[38;5;241m.\u001b[39mpop(\u001b[38;5;124m\"\u001b[39m\u001b[38;5;124myaml_str\u001b[39m\u001b[38;5;124m\"\u001b[39m, \u001b[38;5;28;01mNone\u001b[39;00m),\n\u001b[1;32m    389\u001b[0m     \u001b[38;5;124m\"\u001b[39m\u001b[38;5;124m_source\u001b[39m\u001b[38;5;124m\"\u001b[39m: kwargs\u001b[38;5;241m.\u001b[39mpop(\u001b[38;5;124m\"\u001b[39m\u001b[38;5;124m_source\u001b[39m\u001b[38;5;124m\"\u001b[39m, ComponentSource\u001b[38;5;241m.\u001b[39mYAML_COMPONENT),\n\u001b[1;32m    390\u001b[0m }\n\u001b[1;32m    391\u001b[0m init_kwargs\u001b[38;5;241m.\u001b[39mupdate(\n\u001b[0;32m--> 392\u001b[0m     \u001b[43mnew_instance\u001b[49m\u001b[38;5;241;43m.\u001b[39;49m\u001b[43m_load_with_schema\u001b[49m\u001b[43m(\u001b[49m\u001b[43m  \u001b[49m\u001b[38;5;66;43;03m# pylint: disable=protected-access\u001b[39;49;00m\n\u001b[1;32m    393\u001b[0m \u001b[43m        \u001b[49m\u001b[43mdata\u001b[49m\u001b[43m,\u001b[49m\n\u001b[1;32m    394\u001b[0m \u001b[43m        \u001b[49m\u001b[43mcontext\u001b[49m\u001b[38;5;241;43m=\u001b[39;49m\u001b[43m{\u001b[49m\n\u001b[1;32m    395\u001b[0m \u001b[43m            \u001b[49m\u001b[43mBASE_PATH_CONTEXT_KEY\u001b[49m\u001b[43m:\u001b[49m\u001b[43m \u001b[49m\u001b[43mbase_path\u001b[49m\u001b[43m,\u001b[49m\n\u001b[1;32m    396\u001b[0m \u001b[43m            \u001b[49m\u001b[43mSOURCE_PATH_CONTEXT_KEY\u001b[49m\u001b[43m:\u001b[49m\u001b[43m \u001b[49m\u001b[43myaml_path\u001b[49m\u001b[43m,\u001b[49m\n\u001b[1;32m    397\u001b[0m \u001b[43m            \u001b[49m\u001b[43mPARAMS_OVERRIDE_KEY\u001b[49m\u001b[43m:\u001b[49m\u001b[43m \u001b[49m\u001b[43mparams_override\u001b[49m\u001b[43m,\u001b[49m\n\u001b[1;32m    398\u001b[0m \u001b[43m        \u001b[49m\u001b[43m}\u001b[49m\u001b[43m,\u001b[49m\n\u001b[1;32m    399\u001b[0m \u001b[43m        \u001b[49m\u001b[43munknown\u001b[49m\u001b[38;5;241;43m=\u001b[39;49m\u001b[43mINCLUDE\u001b[49m\u001b[43m,\u001b[49m\n\u001b[1;32m    400\u001b[0m \u001b[43m        \u001b[49m\u001b[43mraise_original_exception\u001b[49m\u001b[38;5;241;43m=\u001b[39;49m\u001b[38;5;28;43;01mTrue\u001b[39;49;00m\u001b[43m,\u001b[49m\n\u001b[1;32m    401\u001b[0m \u001b[43m        \u001b[49m\u001b[38;5;241;43m*\u001b[39;49m\u001b[38;5;241;43m*\u001b[39;49m\u001b[43mkwargs\u001b[49m\u001b[43m,\u001b[49m\n\u001b[1;32m    402\u001b[0m \u001b[43m    \u001b[49m\u001b[43m)\u001b[49m\n\u001b[1;32m    403\u001b[0m )\n\u001b[1;32m    404\u001b[0m \u001b[38;5;66;03m# Set base path separately to avoid doing this in post load, as return types of post load are not unified,\u001b[39;00m\n\u001b[1;32m    405\u001b[0m \u001b[38;5;66;03m# could be object or dict.\u001b[39;00m\n\u001b[1;32m    406\u001b[0m \u001b[38;5;66;03m# base_path in context can be changed in loading, so we use original base_path here.\u001b[39;00m\n",
      "File \u001b[0;32m/anaconda/envs/nougat/lib/python3.9/site-packages/azure/ai/ml/entities/_validation/schema.py:42\u001b[0m, in \u001b[0;36mSchemaValidatableMixin._load_with_schema\u001b[0;34m(cls, data, context, raise_original_exception, **kwargs)\u001b[0m\n\u001b[1;32m     41\u001b[0m \u001b[38;5;28;01mif\u001b[39;00m raise_original_exception:\n\u001b[0;32m---> 42\u001b[0m     \u001b[38;5;28;01mraise\u001b[39;00m e\n\u001b[1;32m     43\u001b[0m msg \u001b[38;5;241m=\u001b[39m \u001b[38;5;124m\"\u001b[39m\u001b[38;5;124mTrying to load data with schema failed. Data:\u001b[39m\u001b[38;5;130;01m\\n\u001b[39;00m\u001b[38;5;132;01m%s\u001b[39;00m\u001b[38;5;130;01m\\n\u001b[39;00m\u001b[38;5;124mError: \u001b[39m\u001b[38;5;132;01m%s\u001b[39;00m\u001b[38;5;124m\"\u001b[39m \u001b[38;5;241m%\u001b[39m (\n\u001b[1;32m     44\u001b[0m     json\u001b[38;5;241m.\u001b[39mdumps(data, indent\u001b[38;5;241m=\u001b[39m\u001b[38;5;241m4\u001b[39m) \u001b[38;5;28;01mif\u001b[39;00m \u001b[38;5;28misinstance\u001b[39m(data, \u001b[38;5;28mdict\u001b[39m) \u001b[38;5;28;01melse\u001b[39;00m data,\n\u001b[1;32m     45\u001b[0m     json\u001b[38;5;241m.\u001b[39mdumps(e\u001b[38;5;241m.\u001b[39mmessages, indent\u001b[38;5;241m=\u001b[39m\u001b[38;5;241m4\u001b[39m),\n\u001b[1;32m     46\u001b[0m )\n",
      "File \u001b[0;32m/anaconda/envs/nougat/lib/python3.9/site-packages/azure/ai/ml/entities/_validation/schema.py:39\u001b[0m, in \u001b[0;36mSchemaValidatableMixin._load_with_schema\u001b[0;34m(cls, data, context, raise_original_exception, **kwargs)\u001b[0m\n\u001b[1;32m     38\u001b[0m \u001b[38;5;28;01mtry\u001b[39;00m:\n\u001b[0;32m---> 39\u001b[0m     \u001b[38;5;28;01mreturn\u001b[39;00m \u001b[43mschema\u001b[49m\u001b[38;5;241;43m.\u001b[39;49m\u001b[43mload\u001b[49m\u001b[43m(\u001b[49m\u001b[43mdata\u001b[49m\u001b[43m,\u001b[49m\u001b[43m \u001b[49m\u001b[38;5;241;43m*\u001b[39;49m\u001b[38;5;241;43m*\u001b[39;49m\u001b[43mkwargs\u001b[49m\u001b[43m)\u001b[49m\n\u001b[1;32m     40\u001b[0m \u001b[38;5;28;01mexcept\u001b[39;00m ValidationError \u001b[38;5;28;01mas\u001b[39;00m e:\n",
      "File \u001b[0;32m/anaconda/envs/nougat/lib/python3.9/site-packages/marshmallow/schema.py:789\u001b[0m, in \u001b[0;36mSchema.load\u001b[0;34m(self, data, many, partial, unknown)\u001b[0m\n\u001b[1;32m    769\u001b[0m \u001b[38;5;250m\u001b[39m\u001b[38;5;124;03m\"\"\"Deserialize a data structure to an object defined by this Schema's fields.\u001b[39;00m\n\u001b[1;32m    770\u001b[0m \n\u001b[1;32m    771\u001b[0m \u001b[38;5;124;03m:param data: The data to deserialize.\u001b[39;00m\n\u001b[0;32m   (...)\u001b[0m\n\u001b[1;32m    787\u001b[0m \u001b[38;5;124;03m    if invalid data are passed.\u001b[39;00m\n\u001b[1;32m    788\u001b[0m \u001b[38;5;124;03m\"\"\"\u001b[39;00m\n\u001b[0;32m--> 789\u001b[0m \u001b[38;5;28;01mreturn\u001b[39;00m \u001b[38;5;28;43mself\u001b[39;49m\u001b[38;5;241;43m.\u001b[39;49m\u001b[43m_do_load\u001b[49m\u001b[43m(\u001b[49m\n\u001b[1;32m    790\u001b[0m \u001b[43m    \u001b[49m\u001b[43mdata\u001b[49m\u001b[43m,\u001b[49m\u001b[43m \u001b[49m\u001b[43mmany\u001b[49m\u001b[38;5;241;43m=\u001b[39;49m\u001b[43mmany\u001b[49m\u001b[43m,\u001b[49m\u001b[43m \u001b[49m\u001b[43mpartial\u001b[49m\u001b[38;5;241;43m=\u001b[39;49m\u001b[43mpartial\u001b[49m\u001b[43m,\u001b[49m\u001b[43m \u001b[49m\u001b[43munknown\u001b[49m\u001b[38;5;241;43m=\u001b[39;49m\u001b[43munknown\u001b[49m\u001b[43m,\u001b[49m\u001b[43m \u001b[49m\u001b[43mpostprocess\u001b[49m\u001b[38;5;241;43m=\u001b[39;49m\u001b[38;5;28;43;01mTrue\u001b[39;49;00m\n\u001b[1;32m    791\u001b[0m \u001b[43m\u001b[49m\u001b[43m)\u001b[49m\n",
      "File \u001b[0;32m/anaconda/envs/nougat/lib/python3.9/site-packages/marshmallow/schema.py:996\u001b[0m, in \u001b[0;36mSchema._do_load\u001b[0;34m(self, data, many, partial, unknown, postprocess)\u001b[0m\n\u001b[1;32m    995\u001b[0m     \u001b[38;5;28mself\u001b[39m\u001b[38;5;241m.\u001b[39mhandle_error(exc, data, many\u001b[38;5;241m=\u001b[39mmany, partial\u001b[38;5;241m=\u001b[39mpartial)\n\u001b[0;32m--> 996\u001b[0m     \u001b[38;5;28;01mraise\u001b[39;00m exc\n\u001b[1;32m    998\u001b[0m \u001b[38;5;28;01mreturn\u001b[39;00m result\n",
      "\u001b[0;31mValidationError\u001b[0m: {'environment': [{'build': {'path': [{'_schema': [\"Can't find directory or file in resolved absolute path: /home/azureuser/projects/academic-document-analyzer/enhanced_doc_analyzer_component/docker.\"]}, {'_schema': ['Not a valid URL.']}]}}, {'_schema': [\"In order to specify an existing environments, please provide the correct registry path prefixed with 'azureml://':\\n\"]}, {'_schema': [\"In order to specify an existing environments, please provide either of the following prefixed with 'azureml:':\\n1. The full ARM ID for the resource, e.g.azureml:/subscriptions/<subscription_id>/resourceGroups/<resource_group>/providers/Microsoft.MachineLearningServices/workspaces/<workspace_name>/environments\\n2. The short-hand name of the resource registered in the workspace, eg: azureml:<short-hand-name>:<version-if applicable>. For example, version 1 of the environment registered as 'my-env' in the workspace can be referenced as 'azureml:my-env:1'\"]}]}",
      "\nDuring handling of the above exception, another exception occurred:\n",
      "\u001b[0;31mValidationError\u001b[0m                           Traceback (most recent call last)",
      "Cell \u001b[0;32mIn[6], line 4\u001b[0m\n\u001b[1;32m      1\u001b[0m doc_intelligence_connection \u001b[38;5;241m=\u001b[39m ml_client\u001b[38;5;241m.\u001b[39mconnections\u001b[38;5;241m.\u001b[39mget(\u001b[38;5;124m\"\u001b[39m\u001b[38;5;124mmy-doc-intelligence-connection\u001b[39m\u001b[38;5;124m\"\u001b[39m)\n\u001b[1;32m      3\u001b[0m \u001b[38;5;66;03m# Create the pipeline\u001b[39;00m\n\u001b[0;32m----> 4\u001b[0m pipeline \u001b[38;5;241m=\u001b[39m \u001b[43mcreate_document_analysis_pipeline\u001b[49m\u001b[43m(\u001b[49m\n\u001b[1;32m      5\u001b[0m \u001b[43m    \u001b[49m\u001b[43mpdf_folder\u001b[49m\u001b[38;5;241;43m=\u001b[39;49m\u001b[38;5;124;43m\"\u001b[39;49m\u001b[38;5;124;43mazureml:raw_papers:1\u001b[39;49m\u001b[38;5;124;43m\"\u001b[39;49m\u001b[43m,\u001b[49m\n\u001b[1;32m      6\u001b[0m \u001b[43m    \u001b[49m\u001b[43mdoc_intel_connection_id\u001b[49m\u001b[38;5;241;43m=\u001b[39;49m\u001b[43mdoc_intelligence_connection\u001b[49m\u001b[38;5;241;43m.\u001b[39;49m\u001b[43mid\u001b[49m\u001b[43m,\u001b[49m\u001b[43m  \u001b[49m\u001b[38;5;66;43;03m# Your connection ID\u001b[39;49;00m\n\u001b[1;32m      7\u001b[0m \u001b[43m    \u001b[49m\u001b[43mcompute_name\u001b[49m\u001b[38;5;241;43m=\u001b[39;49m\u001b[38;5;124;43m\"\u001b[39;49m\u001b[38;5;124;43mhp-gpu-cluster\u001b[39;49m\u001b[38;5;124;43m\"\u001b[39;49m\u001b[43m,\u001b[49m\n\u001b[1;32m      8\u001b[0m \u001b[43m    \u001b[49m\u001b[43mconfidence_threshold\u001b[49m\u001b[38;5;241;43m=\u001b[39;49m\u001b[38;5;241;43m0.3\u001b[39;49m\u001b[43m,\u001b[49m\n\u001b[1;32m      9\u001b[0m \u001b[43m    \u001b[49m\u001b[43mmin_length\u001b[49m\u001b[38;5;241;43m=\u001b[39;49m\u001b[38;5;241;43m15\u001b[39;49m\u001b[43m,\u001b[49m\n\u001b[1;32m     10\u001b[0m \u001b[43m    \u001b[49m\u001b[43moverlap_threshold\u001b[49m\u001b[38;5;241;43m=\u001b[39;49m\u001b[38;5;241;43m0.7\u001b[39;49m\u001b[43m,\u001b[49m\n\u001b[1;32m     11\u001b[0m \u001b[43m    \u001b[49m\u001b[43mignore_roles\u001b[49m\u001b[38;5;241;43m=\u001b[39;49m\u001b[38;5;124;43m\"\u001b[39;49m\u001b[38;5;124;43mpageFooter,footnote,pageHeader\u001b[39;49m\u001b[38;5;124;43m\"\u001b[39;49m\n\u001b[1;32m     12\u001b[0m \u001b[43m)\u001b[49m\n\u001b[1;32m     14\u001b[0m \u001b[38;5;66;03m# Submit the pipeline job\u001b[39;00m\n\u001b[1;32m     15\u001b[0m pipeline_job \u001b[38;5;241m=\u001b[39m ml_client\u001b[38;5;241m.\u001b[39mjobs\u001b[38;5;241m.\u001b[39mcreate_or_update(\n\u001b[1;32m     16\u001b[0m     pipeline,\n\u001b[1;32m     17\u001b[0m     experiment_name\u001b[38;5;241m=\u001b[39m\u001b[38;5;124m\"\u001b[39m\u001b[38;5;124mdocument-analysis\u001b[39m\u001b[38;5;124m\"\u001b[39m,\n\u001b[1;32m     18\u001b[0m )\n",
      "Cell \u001b[0;32mIn[5], line 51\u001b[0m, in \u001b[0;36mcreate_document_analysis_pipeline\u001b[0;34m(pdf_folder, doc_intel_connection_id, confidence_threshold, min_length, overlap_threshold, ignore_roles, compute_name)\u001b[0m\n\u001b[1;32m     46\u001b[0m     \u001b[38;5;28;01mreturn\u001b[39;00m {\n\u001b[1;32m     47\u001b[0m         \u001b[38;5;124m\"\u001b[39m\u001b[38;5;124moutput_dir\u001b[39m\u001b[38;5;124m\"\u001b[39m: analysis_job\u001b[38;5;241m.\u001b[39moutputs\u001b[38;5;241m.\u001b[39moutput_dir,\n\u001b[1;32m     48\u001b[0m     }\n\u001b[1;32m     50\u001b[0m \u001b[38;5;66;03m# Return the pipeline object by calling the pipeline function\u001b[39;00m\n\u001b[0;32m---> 51\u001b[0m \u001b[38;5;28;01mreturn\u001b[39;00m \u001b[43mdoc_analysis_pipeline\u001b[49m\u001b[43m(\u001b[49m\u001b[43m)\u001b[49m\n",
      "File \u001b[0;32m/anaconda/envs/nougat/lib/python3.9/site-packages/azure/ai/ml/dsl/_pipeline_decorator.py:202\u001b[0m, in \u001b[0;36mpipeline.<locals>.pipeline_decorator.<locals>.wrapper\u001b[0;34m(*args, **kwargs)\u001b[0m\n\u001b[1;32m    197\u001b[0m     non_pipeline_params_dict \u001b[38;5;241m=\u001b[39m {\n\u001b[1;32m    198\u001b[0m         k: v \u001b[38;5;28;01mfor\u001b[39;00m k, v \u001b[38;5;129;01min\u001b[39;00m provided_positional_kwargs\u001b[38;5;241m.\u001b[39mitems() \u001b[38;5;28;01mif\u001b[39;00m k \u001b[38;5;129;01min\u001b[39;00m non_pipeline_inputs\n\u001b[1;32m    199\u001b[0m     }\n\u001b[1;32m    201\u001b[0m     \u001b[38;5;66;03m# TODO: cache built pipeline component\u001b[39;00m\n\u001b[0;32m--> 202\u001b[0m     pipeline_component \u001b[38;5;241m=\u001b[39m \u001b[43mpipeline_builder\u001b[49m\u001b[38;5;241;43m.\u001b[39;49m\u001b[43mbuild\u001b[49m\u001b[43m(\u001b[49m\n\u001b[1;32m    203\u001b[0m \u001b[43m        \u001b[49m\u001b[43muser_provided_kwargs\u001b[49m\u001b[38;5;241;43m=\u001b[39;49m\u001b[43mprovided_positional_kwargs\u001b[49m\u001b[43m,\u001b[49m\n\u001b[1;32m    204\u001b[0m \u001b[43m        \u001b[49m\u001b[43mnon_pipeline_inputs_dict\u001b[49m\u001b[38;5;241;43m=\u001b[39;49m\u001b[43mnon_pipeline_params_dict\u001b[49m\u001b[43m,\u001b[49m\n\u001b[1;32m    205\u001b[0m \u001b[43m        \u001b[49m\u001b[43mnon_pipeline_inputs\u001b[49m\u001b[38;5;241;43m=\u001b[39;49m\u001b[43mnon_pipeline_inputs\u001b[49m\u001b[43m,\u001b[49m\n\u001b[1;32m    206\u001b[0m \u001b[43m    \u001b[49m\u001b[43m)\u001b[49m\n\u001b[1;32m    207\u001b[0m \u001b[38;5;28;01mfinally\u001b[39;00m:\n\u001b[1;32m    208\u001b[0m     \u001b[38;5;66;03m# use `finally` to ensure pop operation from the stack\u001b[39;00m\n\u001b[1;32m    209\u001b[0m     dsl_settings \u001b[38;5;241m=\u001b[39m _dsl_settings_stack\u001b[38;5;241m.\u001b[39mpop()\n",
      "File \u001b[0;32m/anaconda/envs/nougat/lib/python3.9/site-packages/azure/ai/ml/dsl/_pipeline_component_builder.py:191\u001b[0m, in \u001b[0;36mPipelineComponentBuilder.build\u001b[0;34m(self, user_provided_kwargs, non_pipeline_inputs_dict, non_pipeline_inputs)\u001b[0m\n\u001b[1;32m    188\u001b[0m _definition_builder_stack\u001b[38;5;241m.\u001b[39mpush(\u001b[38;5;28mself\u001b[39m)\n\u001b[1;32m    190\u001b[0m \u001b[38;5;28;01mtry\u001b[39;00m:\n\u001b[0;32m--> 191\u001b[0m     outputs, _locals \u001b[38;5;241m=\u001b[39m \u001b[43mget_outputs_and_locals\u001b[49m\u001b[43m(\u001b[49m\u001b[38;5;28;43mself\u001b[39;49m\u001b[38;5;241;43m.\u001b[39;49m\u001b[43mfunc\u001b[49m\u001b[43m,\u001b[49m\u001b[43m \u001b[49m\u001b[43mkwargs\u001b[49m\u001b[43m)\u001b[49m\n\u001b[1;32m    192\u001b[0m \u001b[38;5;28;01mfinally\u001b[39;00m:\n\u001b[1;32m    193\u001b[0m     _definition_builder_stack\u001b[38;5;241m.\u001b[39mpop()\n",
      "File \u001b[0;32m/anaconda/envs/nougat/lib/python3.9/site-packages/azure/ai/ml/_utils/_func_utils.py:471\u001b[0m, in \u001b[0;36mget_outputs_and_locals\u001b[0;34m(func, _all_kwargs)\u001b[0m\n\u001b[1;32m    461\u001b[0m \u001b[38;5;28;01mdef\u001b[39;00m\u001b[38;5;250m \u001b[39m\u001b[38;5;21mget_outputs_and_locals\u001b[39m(func, _all_kwargs):\n\u001b[1;32m    462\u001b[0m \u001b[38;5;250m    \u001b[39m\u001b[38;5;124;03m\"\"\"Get outputs and locals from self.func. Locals will be used to update node variable names.\u001b[39;00m\n\u001b[1;32m    463\u001b[0m \n\u001b[1;32m    464\u001b[0m \u001b[38;5;124;03m    :param func: The function to execute.\u001b[39;00m\n\u001b[0;32m   (...)\u001b[0m\n\u001b[1;32m    469\u001b[0m \u001b[38;5;124;03m    :rtype: typing.Tuple[typing.Dict, typing.Dict]\u001b[39;00m\n\u001b[1;32m    470\u001b[0m \u001b[38;5;124;03m    \"\"\"\u001b[39;00m\n\u001b[0;32m--> 471\u001b[0m     \u001b[38;5;28;01mreturn\u001b[39;00m \u001b[43m_get_persistent_locals_builder\u001b[49m\u001b[43m(\u001b[49m\u001b[43m)\u001b[49m\u001b[38;5;241;43m.\u001b[39;49m\u001b[43mcall\u001b[49m\u001b[43m(\u001b[49m\u001b[43mfunc\u001b[49m\u001b[43m,\u001b[49m\u001b[43m \u001b[49m\u001b[43m_all_kwargs\u001b[49m\u001b[43m)\u001b[49m\n",
      "File \u001b[0;32m/anaconda/envs/nougat/lib/python3.9/site-packages/azure/ai/ml/_utils/_func_utils.py:63\u001b[0m, in \u001b[0;36mPersistentLocalsFunctionBuilder.call\u001b[0;34m(self, func, _all_kwargs)\u001b[0m\n\u001b[1;32m     60\u001b[0m \u001b[38;5;28;01mif\u001b[39;00m \u001b[38;5;28mself\u001b[39m\u001b[38;5;241m.\u001b[39minjected_param \u001b[38;5;129;01min\u001b[39;00m func\u001b[38;5;241m.\u001b[39m\u001b[38;5;18m__code__\u001b[39m\u001b[38;5;241m.\u001b[39mco_varnames:\n\u001b[1;32m     61\u001b[0m     \u001b[38;5;28;01mraise\u001b[39;00m \u001b[38;5;167;01mValueError\u001b[39;00m(\u001b[38;5;28mself\u001b[39m\u001b[38;5;241m.\u001b[39mmake_error(\u001b[38;5;124m\"\u001b[39m\u001b[38;5;124mconflict_argument\u001b[39m\u001b[38;5;124m\"\u001b[39m, args\u001b[38;5;241m=\u001b[39m\u001b[38;5;28mlist\u001b[39m(func\u001b[38;5;241m.\u001b[39m\u001b[38;5;18m__code__\u001b[39m\u001b[38;5;241m.\u001b[39mco_varnames)))\n\u001b[0;32m---> 63\u001b[0m \u001b[38;5;28;01mreturn\u001b[39;00m \u001b[38;5;28;43mself\u001b[39;49m\u001b[38;5;241;43m.\u001b[39;49m\u001b[43m_call\u001b[49m\u001b[43m(\u001b[49m\u001b[43mfunc\u001b[49m\u001b[43m,\u001b[49m\u001b[43m \u001b[49m\u001b[43m_all_kwargs\u001b[49m\u001b[43m)\u001b[49m\n",
      "File \u001b[0;32m/anaconda/envs/nougat/lib/python3.9/site-packages/azure/ai/ml/_utils/_func_utils.py:109\u001b[0m, in \u001b[0;36mPersistentLocalsFunctionProfilerBuilder._call\u001b[0;34m(self, func, _all_kwargs)\u001b[0m\n\u001b[1;32m    107\u001b[0m func_variable_profiler \u001b[38;5;241m=\u001b[39m \u001b[38;5;28mself\u001b[39m\u001b[38;5;241m.\u001b[39m_get_func_variable_tracer(_locals, func\u001b[38;5;241m.\u001b[39m\u001b[38;5;18m__code__\u001b[39m)\n\u001b[1;32m    108\u001b[0m \u001b[38;5;28;01mwith\u001b[39;00m \u001b[38;5;28mself\u001b[39m\u001b[38;5;241m.\u001b[39m_replace_sys_profiler(func_variable_profiler):\n\u001b[0;32m--> 109\u001b[0m     outputs \u001b[38;5;241m=\u001b[39m \u001b[43mfunc\u001b[49m\u001b[43m(\u001b[49m\u001b[38;5;241;43m*\u001b[39;49m\u001b[38;5;241;43m*\u001b[39;49m\u001b[43m_all_kwargs\u001b[49m\u001b[43m)\u001b[49m\n\u001b[1;32m    110\u001b[0m \u001b[38;5;28;01mreturn\u001b[39;00m outputs, _locals\n",
      "Cell \u001b[0;32mIn[5], line 33\u001b[0m, in \u001b[0;36mcreate_document_analysis_pipeline.<locals>.doc_analysis_pipeline\u001b[0;34m()\u001b[0m\n\u001b[1;32m     27\u001b[0m \u001b[38;5;129m@dsl\u001b[39m\u001b[38;5;241m.\u001b[39mpipeline(\n\u001b[1;32m     28\u001b[0m     description\u001b[38;5;241m=\u001b[39m\u001b[38;5;124m\"\u001b[39m\u001b[38;5;124mDocument analysis pipeline\u001b[39m\u001b[38;5;124m\"\u001b[39m,\n\u001b[1;32m     29\u001b[0m     default_compute\u001b[38;5;241m=\u001b[39mcompute_name\n\u001b[1;32m     30\u001b[0m )\n\u001b[1;32m     31\u001b[0m \u001b[38;5;28;01mdef\u001b[39;00m\u001b[38;5;250m \u001b[39m\u001b[38;5;21mdoc_analysis_pipeline\u001b[39m():\n\u001b[1;32m     32\u001b[0m     \u001b[38;5;66;03m# Get the document analyzer component\u001b[39;00m\n\u001b[0;32m---> 33\u001b[0m     analyzer_component \u001b[38;5;241m=\u001b[39m \u001b[43mload_component\u001b[49m\u001b[43m(\u001b[49m\u001b[43msource\u001b[49m\u001b[38;5;241;43m=\u001b[39;49m\u001b[38;5;124;43m\"\u001b[39;49m\u001b[38;5;124;43m../doc_analyzer_component.yaml\u001b[39;49m\u001b[38;5;124;43m\"\u001b[39;49m\u001b[43m)\u001b[49m\n\u001b[1;32m     35\u001b[0m     \u001b[38;5;66;03m# Define the analysis job\u001b[39;00m\n\u001b[1;32m     36\u001b[0m     analysis_job \u001b[38;5;241m=\u001b[39m analyzer_component(\n\u001b[1;32m     37\u001b[0m         input_folder\u001b[38;5;241m=\u001b[39mInput(\u001b[38;5;28mtype\u001b[39m\u001b[38;5;241m=\u001b[39m\u001b[38;5;124m\"\u001b[39m\u001b[38;5;124muri_folder\u001b[39m\u001b[38;5;124m\"\u001b[39m, path\u001b[38;5;241m=\u001b[39mpdf_folder),\n\u001b[1;32m     38\u001b[0m         doc_intel_connection_id\u001b[38;5;241m=\u001b[39mdoc_intel_connection_id,\n\u001b[0;32m   (...)\u001b[0m\n\u001b[1;32m     43\u001b[0m         ignore_roles\u001b[38;5;241m=\u001b[39mignore_roles\n\u001b[1;32m     44\u001b[0m     )\n",
      "File \u001b[0;32m/anaconda/envs/nougat/lib/python3.9/site-packages/azure/ai/ml/entities/_load_functions.py:502\u001b[0m, in \u001b[0;36mload_component\u001b[0;34m(source, relative_origin, params_override, **kwargs)\u001b[0m\n\u001b[1;32m    499\u001b[0m version \u001b[38;5;241m=\u001b[39m kwargs\u001b[38;5;241m.\u001b[39mpop(\u001b[38;5;124m\"\u001b[39m\u001b[38;5;124mversion\u001b[39m\u001b[38;5;124m\"\u001b[39m, \u001b[38;5;28;01mNone\u001b[39;00m)\n\u001b[1;32m    501\u001b[0m \u001b[38;5;28;01mif\u001b[39;00m source:\n\u001b[0;32m--> 502\u001b[0m     component_entity \u001b[38;5;241m=\u001b[39m \u001b[43mload_common\u001b[49m\u001b[43m(\u001b[49m\u001b[43mComponent\u001b[49m\u001b[43m,\u001b[49m\u001b[43m \u001b[49m\u001b[43msource\u001b[49m\u001b[43m,\u001b[49m\u001b[43m \u001b[49m\u001b[43mrelative_origin\u001b[49m\u001b[43m,\u001b[49m\u001b[43m \u001b[49m\u001b[43mparams_override\u001b[49m\u001b[43m,\u001b[49m\u001b[43m \u001b[49m\u001b[38;5;241;43m*\u001b[39;49m\u001b[38;5;241;43m*\u001b[39;49m\u001b[43mkwargs\u001b[49m\u001b[43m)\u001b[49m\n\u001b[1;32m    503\u001b[0m \u001b[38;5;28;01melif\u001b[39;00m client \u001b[38;5;129;01mand\u001b[39;00m name \u001b[38;5;129;01mand\u001b[39;00m version:\n\u001b[1;32m    504\u001b[0m     component_entity \u001b[38;5;241m=\u001b[39m client\u001b[38;5;241m.\u001b[39mcomponents\u001b[38;5;241m.\u001b[39mget(name, version)\n",
      "File \u001b[0;32m/anaconda/envs/nougat/lib/python3.9/site-packages/azure/ai/ml/entities/_load_functions.py:131\u001b[0m, in \u001b[0;36mload_common\u001b[0;34m(cls, source, relative_origin, params_override, **kwargs)\u001b[0m\n\u001b[1;32m    121\u001b[0m         \u001b[38;5;28;01mfrom\u001b[39;00m\u001b[38;5;250m \u001b[39m\u001b[38;5;21;01mazure\u001b[39;00m\u001b[38;5;21;01m.\u001b[39;00m\u001b[38;5;21;01mai\u001b[39;00m\u001b[38;5;21;01m.\u001b[39;00m\u001b[38;5;21;01mml\u001b[39;00m\u001b[38;5;21;01m.\u001b[39;00m\u001b[38;5;21;01mentities\u001b[39;00m\u001b[38;5;21;01m.\u001b[39;00m\u001b[38;5;21;01m_util\u001b[39;00m\u001b[38;5;250m \u001b[39m\u001b[38;5;28;01mimport\u001b[39;00m decorate_validation_error\n\u001b[1;32m    123\u001b[0m         \u001b[38;5;28;01mreturn\u001b[39;00m ValidationError(\n\u001b[1;32m    124\u001b[0m             message\u001b[38;5;241m=\u001b[39mdecorate_validation_error(\n\u001b[1;32m    125\u001b[0m                 schema\u001b[38;5;241m=\u001b[39mschema\u001b[38;5;241m.\u001b[39m\u001b[38;5;18m__class__\u001b[39m,\n\u001b[0;32m   (...)\u001b[0m\n\u001b[1;32m    128\u001b[0m             ),\n\u001b[1;32m    129\u001b[0m         )\n\u001b[0;32m--> 131\u001b[0m     \u001b[43mvalidation_result\u001b[49m\u001b[38;5;241;43m.\u001b[39;49m\u001b[43mtry_raise\u001b[49m\u001b[43m(\u001b[49m\u001b[43merror_func\u001b[49m\u001b[38;5;241;43m=\u001b[39;49m\u001b[43mbuild_error\u001b[49m\u001b[43m)\u001b[49m\n\u001b[1;32m    132\u001b[0m \u001b[38;5;28;01mraise\u001b[39;00m e\n",
      "File \u001b[0;32m/anaconda/envs/nougat/lib/python3.9/site-packages/azure/ai/ml/entities/_validation/core.py:253\u001b[0m, in \u001b[0;36mMutableValidationResult.try_raise\u001b[0;34m(self, raise_error, error_func)\u001b[0m\n\u001b[1;32m    250\u001b[0m         \u001b[38;5;28;01mdef\u001b[39;00m\u001b[38;5;250m \u001b[39m\u001b[38;5;21merror_func\u001b[39m(msg: Union[\u001b[38;5;28mstr\u001b[39m, \u001b[38;5;28mlist\u001b[39m, \u001b[38;5;28mdict\u001b[39m], _: Any) \u001b[38;5;241m-\u001b[39m\u001b[38;5;241m>\u001b[39m ValidationError:\n\u001b[1;32m    251\u001b[0m             \u001b[38;5;28;01mreturn\u001b[39;00m ValidationError(message\u001b[38;5;241m=\u001b[39mmsg)\n\u001b[0;32m--> 253\u001b[0m     \u001b[38;5;28;01mraise\u001b[39;00m error_func(\n\u001b[1;32m    254\u001b[0m         \u001b[38;5;28mself\u001b[39m\u001b[38;5;241m.\u001b[39m\u001b[38;5;21m__repr__\u001b[39m(),\n\u001b[1;32m    255\u001b[0m         \u001b[38;5;124m\"\u001b[39m\u001b[38;5;124mvalidation failed on the following fields: \u001b[39m\u001b[38;5;124m\"\u001b[39m \u001b[38;5;241m+\u001b[39m \u001b[38;5;124m\"\u001b[39m\u001b[38;5;124m, \u001b[39m\u001b[38;5;124m\"\u001b[39m\u001b[38;5;241m.\u001b[39mjoin(\u001b[38;5;28mself\u001b[39m\u001b[38;5;241m.\u001b[39merror_messages),\n\u001b[1;32m    256\u001b[0m     )\n\u001b[1;32m    257\u001b[0m \u001b[38;5;28;01mreturn\u001b[39;00m \u001b[38;5;28mself\u001b[39m\n",
      "\u001b[0;31mValidationError\u001b[0m: Validation for ComponentSchema failed:\n\n {\n  \"result\": \"Failed\",\n  \"errors\": [\n    {\n      \"message\": \"{'build': {'path': [{'_schema': [\\\"Can't find directory or file in resolved absolute path: /home/azureuser/projects/academic-document-analyzer/enhanced_doc_analyzer_component/docker.\\\"]}, {'_schema': ['Not a valid URL.']}]}}; In order to specify an existing environments, please provide the correct registry path prefixed with 'azureml://':\\n; In order to specify an existing environments, please provide either of the following prefixed with 'azureml:':\\n1. The full ARM ID for the resource, e.g.azureml:/subscriptions/<subscription_id>/resourceGroups/<resource_group>/providers/Microsoft.MachineLearningServices/workspaces/<workspace_name>/environments\\n2. The short-hand name of the resource registered in the workspace, eg: azureml:<short-hand-name>:<version-if applicable>. For example, version 1 of the environment registered as 'my-env' in the workspace can be referenced as 'azureml:my-env:1'\",\n      \"path\": \"environment\",\n      \"value\": {\n        \"build\": {\n          \"path\": \"./docker\"\n        },\n        \"description\": \"Custom Environment for Document Analyzer\"\n      },\n      \"location\": \"/home/azureuser/projects/academic-document-analyzer/enhanced_doc_analyzer_component/doc_analyzer_component.yaml#line 34\"\n    }\n  ]\n} \n\n \nThe easiest way to author a specification file is using IntelliSense and auto-completion Azure ML VS code extension provides: https://code.visualstudio.com/docs/datascience/azure-machine-learning. To set up: https://docs.microsoft.com/azure/machine-learning/how-to-setup-vs-code"
     ]
    }
   ],
   "source": [
    "doc_intelligence_connection = ml_client.connections.get(\"my-doc-intelligence-connection\")\n",
    "\n",
    "# Create the pipeline\n",
    "pipeline = create_document_analysis_pipeline(\n",
    "    pdf_folder=\"azureml:raw_papers:1\",\n",
    "    doc_intel_connection_id=doc_intelligence_connection.id,  # Your connection ID\n",
    "    compute_name=\"hp-gpu-cluster\",\n",
    "    confidence_threshold=0.3,\n",
    "    min_length=15,\n",
    "    overlap_threshold=0.7,\n",
    "    ignore_roles=\"pageFooter,footnote,pageHeader\"\n",
    ")\n",
    "\n",
    "# Submit the pipeline job\n",
    "pipeline_job = ml_client.jobs.create_or_update(\n",
    "    pipeline,\n",
    "    experiment_name=\"document-analysis\",\n",
    ")\n",
    "\n",
    "# Wait for the job to complete\n",
    "ml_client.jobs.stream(pipeline_job.name)\n",
    "\n",
    "# Get the outputs\n",
    "job_outputs = ml_client.jobs.get(pipeline_job.name).outputs\n",
    "\n",
    "print(\"\\nPipeline outputs:\")\n",
    "print(f\"Output folder: {job_outputs['output_dir']}\")\n",
    "\n"
   ]
  },
  {
   "cell_type": "code",
   "execution_count": null,
   "metadata": {},
   "outputs": [],
   "source": []
  }
 ],
 "metadata": {
  "kernelspec": {
   "display_name": "nougat",
   "language": "python",
   "name": "python3"
  },
  "language_info": {
   "codemirror_mode": {
    "name": "ipython",
    "version": 3
   },
   "file_extension": ".py",
   "mimetype": "text/x-python",
   "name": "python",
   "nbconvert_exporter": "python",
   "pygments_lexer": "ipython3",
   "version": "3.9.21"
  }
 },
 "nbformat": 4,
 "nbformat_minor": 2
}
