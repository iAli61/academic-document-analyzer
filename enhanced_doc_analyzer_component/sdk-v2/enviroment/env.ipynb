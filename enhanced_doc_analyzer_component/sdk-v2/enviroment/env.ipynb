{
 "cells": [
  {
   "cell_type": "code",
   "execution_count": 2,
   "metadata": {},
   "outputs": [
    {
     "name": "stderr",
     "output_type": "stream",
     "text": [
      "Found the config file in: /config.json\n"
     ]
    },
    {
     "ename": "TypeError",
     "evalue": "__init__() got an unexpected keyword argument 'dockerfile'",
     "output_type": "error",
     "traceback": [
      "\u001b[0;31m---------------------------------------------------------------------------\u001b[0m",
      "\u001b[0;31mTypeError\u001b[0m                                 Traceback (most recent call last)",
      "Cell \u001b[0;32mIn[2], line 7\u001b[0m\n\u001b[1;32m      2\u001b[0m workspace_ml_client \u001b[38;5;241m=\u001b[39m MLClient\u001b[38;5;241m.\u001b[39mfrom_config(\n\u001b[1;32m      3\u001b[0m     credential\u001b[38;5;241m=\u001b[39mDefaultAzureCredential()\n\u001b[1;32m      4\u001b[0m )\n\u001b[1;32m      6\u001b[0m \u001b[38;5;66;03m# Create and register the environment\u001b[39;00m\n\u001b[0;32m----> 7\u001b[0m doc_analyzer_env \u001b[38;5;241m=\u001b[39m \u001b[43mcreate_doc_analyzer_environment\u001b[49m\u001b[43m(\u001b[49m\u001b[43mworkspace_ml_client\u001b[49m\u001b[43m)\u001b[49m\n",
      "Cell \u001b[0;32mIn[1], line 95\u001b[0m, in \u001b[0;36mcreate_doc_analyzer_environment\u001b[0;34m(workspace_ml_client, environment_name, environment_version, base_image)\u001b[0m\n\u001b[1;32m     56\u001b[0m     dockerfile \u001b[38;5;241m=\u001b[39m \u001b[38;5;124m\"\"\"\u001b[39m\n\u001b[1;32m     57\u001b[0m \u001b[38;5;124mFROM \u001b[39m\u001b[38;5;132;01m{base_image}\u001b[39;00m\n\u001b[1;32m     58\u001b[0m \n\u001b[0;32m   (...)\u001b[0m\n\u001b[1;32m     80\u001b[0m \u001b[38;5;124m    echo \u001b[39m\u001b[38;5;124m\"\u001b[39m\u001b[38;5;124mModel setup complete.\u001b[39m\u001b[38;5;124m\"\u001b[39m\n\u001b[1;32m     81\u001b[0m \u001b[38;5;124m\"\"\"\u001b[39m\u001b[38;5;241m.\u001b[39mformat(base_image\u001b[38;5;241m=\u001b[39mbase_image)\n\u001b[1;32m     83\u001b[0m     \u001b[38;5;66;03m# Create the environment\u001b[39;00m\n\u001b[1;32m     84\u001b[0m     environment \u001b[38;5;241m=\u001b[39m Environment(\n\u001b[1;32m     85\u001b[0m         name\u001b[38;5;241m=\u001b[39menvironment_name,\n\u001b[1;32m     86\u001b[0m         version\u001b[38;5;241m=\u001b[39menvironment_version,\n\u001b[1;32m     87\u001b[0m         description\u001b[38;5;241m=\u001b[39m\u001b[38;5;124m\"\u001b[39m\u001b[38;5;124mEnvironment for document analysis with Azure Document Intelligence and Nougat base model\u001b[39m\u001b[38;5;124m\"\u001b[39m,\n\u001b[1;32m     88\u001b[0m         tags\u001b[38;5;241m=\u001b[39m{\n\u001b[1;32m     89\u001b[0m             \u001b[38;5;124m\"\u001b[39m\u001b[38;5;124mtype\u001b[39m\u001b[38;5;124m\"\u001b[39m: \u001b[38;5;124m\"\u001b[39m\u001b[38;5;124mdocument_processing\u001b[39m\u001b[38;5;124m\"\u001b[39m, \n\u001b[1;32m     90\u001b[0m             \u001b[38;5;124m\"\u001b[39m\u001b[38;5;124mframework\u001b[39m\u001b[38;5;124m\"\u001b[39m: \u001b[38;5;124m\"\u001b[39m\u001b[38;5;124mpytorch\u001b[39m\u001b[38;5;124m\"\u001b[39m,\n\u001b[1;32m     91\u001b[0m             \u001b[38;5;124m\"\u001b[39m\u001b[38;5;124mmodel\u001b[39m\u001b[38;5;124m\"\u001b[39m: \u001b[38;5;124m\"\u001b[39m\u001b[38;5;124mnougat-base-0.1.0\u001b[39m\u001b[38;5;124m\"\u001b[39m\n\u001b[1;32m     92\u001b[0m         },\n\u001b[1;32m     93\u001b[0m         conda_file\u001b[38;5;241m=\u001b[39mconda_dependencies,\n\u001b[1;32m     94\u001b[0m         image\u001b[38;5;241m=\u001b[39mbase_image,\n\u001b[0;32m---> 95\u001b[0m         build\u001b[38;5;241m=\u001b[39m\u001b[43mBuildContext\u001b[49m\u001b[43m(\u001b[49m\n\u001b[1;32m     96\u001b[0m \u001b[43m            \u001b[49m\u001b[43mpath\u001b[49m\u001b[38;5;241;43m=\u001b[39;49m\u001b[38;5;124;43m\"\u001b[39;49m\u001b[38;5;124;43m.\u001b[39;49m\u001b[38;5;124;43m\"\u001b[39;49m\u001b[43m,\u001b[49m\u001b[43m  \u001b[49m\u001b[38;5;66;43;03m# Current directory\u001b[39;49;00m\n\u001b[1;32m     97\u001b[0m \u001b[43m            \u001b[49m\u001b[43mdockerfile\u001b[49m\u001b[38;5;241;43m=\u001b[39;49m\u001b[43mdockerfile\u001b[49m\n\u001b[1;32m     98\u001b[0m \u001b[43m        \u001b[49m\u001b[43m)\u001b[49m\n\u001b[1;32m     99\u001b[0m     )\n\u001b[1;32m    101\u001b[0m     \u001b[38;5;66;03m# Register the environment in the workspace\u001b[39;00m\n\u001b[1;32m    102\u001b[0m     registered_env \u001b[38;5;241m=\u001b[39m workspace_ml_client\u001b[38;5;241m.\u001b[39menvironments\u001b[38;5;241m.\u001b[39mcreate_or_update(environment)\n",
      "\u001b[0;31mTypeError\u001b[0m: __init__() got an unexpected keyword argument 'dockerfile'"
     ]
    }
   ],
   "source": [
    "from azure.ai.ml.entities import Environment, BuildContext\n",
    "from azure.identity import DefaultAzureCredential\n",
    "from azure.ml import MLClient\n",
    "\n",
    "# Initialize workspace client\n",
    "ml_client = MLClient.from_config(\n",
    "    credential=DefaultAzureCredential()\n",
    ")\n",
    "\n",
    "env_docker_image = Environment(\n",
    "    build=BuildContext(path=\"./\"),\n",
    "    conda_file=\"conda.yml\",\n",
    "    name=\"doc-analyzer-env\",\n",
    "    description=\"Custom Environment for Document Analyzer\",\n",
    ")\n",
    "ml_client.environments.create_or_update(env_docker_image)"
   ]
  },
  {
   "cell_type": "code",
   "execution_count": null,
   "metadata": {},
   "outputs": [],
   "source": []
  }
 ],
 "metadata": {
  "kernelspec": {
   "display_name": "nougat",
   "language": "python",
   "name": "python3"
  },
  "language_info": {
   "codemirror_mode": {
    "name": "ipython",
    "version": 3
   },
   "file_extension": ".py",
   "mimetype": "text/x-python",
   "name": "python",
   "nbconvert_exporter": "python",
   "pygments_lexer": "ipython3",
   "version": "3.9.21"
  }
 },
 "nbformat": 4,
 "nbformat_minor": 2
}
